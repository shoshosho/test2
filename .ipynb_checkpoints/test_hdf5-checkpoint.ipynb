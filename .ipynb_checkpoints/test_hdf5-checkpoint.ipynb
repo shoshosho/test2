{
 "cells": [
  {
   "cell_type": "code",
   "execution_count": 48,
   "metadata": {
    "collapsed": false
   },
   "outputs": [
    {
     "name": "stdout",
     "output_type": "stream",
     "text": [
      "mydataset\n",
      "subgroup\n",
      "subgroup/another_dataset\n",
      "subgroup2\n",
      "subgroup2/dataset_three\n"
     ]
    }
   ],
   "source": [
    "import h5py\n",
    "import numpy as np\n",
    "\n",
    "#wで作って(file)\n",
    "#箱を作ってあげて(create_dataset)\n",
    "#中身を埋めてdf[...] = \n",
    "#フォルダを作って(create_group)\n",
    "#r+でセーブして\n",
    "#compaundデータだったら変数名を記述しておける模様\n",
    "#attributeにshape,変数名を記述してあげて(読み込みの時に指定する必要があるから)\n",
    "def printname(name):\n",
    "    print(name)\n",
    "f.visit(printname)\n",
    "#rで読んできて\n",
    "#visitで確認しながら()\n",
    "#require_dataset, require_groupでセーブされている中身を取得する\n"
   ]
  },
  {
   "cell_type": "code",
   "execution_count": 2,
   "metadata": {
    "collapsed": true
   },
   "outputs": [],
   "source": [
    "#最初にファイルを作成す る必要がある\n",
    "f = h5py.File(\"mytestfile.hdf5\", \"w\")"
   ]
  },
  {
   "cell_type": "code",
   "execution_count": 3,
   "metadata": {
    "collapsed": true
   },
   "outputs": [],
   "source": [
    "#np.arrayのようなデータセット\n",
    "#中身はこの時点で入っていない\n",
    "dset = f.create_dataset(\"mydataset\", (100,), dtype='i')\n",
    "#numpyのsliceが使える\n",
    "#一番上で中身を埋めてやってる\n",
    "dset[...] = np.arange(100)\n",
    "print(dset[0])\n",
    "print(dset[10])\n",
    "print(dset[0:100:10])"
   ]
  },
  {
   "cell_type": "code",
   "execution_count": 4,
   "metadata": {
    "collapsed": false
   },
   "outputs": [
    {
     "name": "stdout",
     "output_type": "stream",
     "text": [
      "<HDF5 dataset \"mydataset\": shape (100,), type \"<i4\">\n",
      "(100,)\n",
      "int32\n"
     ]
    }
   ],
   "source": [
    "#numpyのようなメソッドが使える\n",
    "print(dset)\n",
    "print(dset.shape)\n",
    "print(dset.dtype)\n"
   ]
  },
  {
   "cell_type": "code",
   "execution_count": 5,
   "metadata": {
    "collapsed": false
   },
   "outputs": [
    {
     "name": "stdout",
     "output_type": "stream",
     "text": [
      "0\n",
      "10\n",
      "[ 0 10 20 30 40 50 60 70 80 90]\n"
     ]
    }
   ],
   "source": []
  },
  {
   "cell_type": "code",
   "execution_count": 6,
   "metadata": {
    "collapsed": false
   },
   "outputs": [
    {
     "data": {
      "text/plain": [
       "'/mydataset'"
      ]
     },
     "execution_count": 6,
     "metadata": {},
     "output_type": "execute_result"
    }
   ],
   "source": [
    "#HDF5のファイルはみんな名前を持っている\n",
    "dset.name"
   ]
  },
  {
   "cell_type": "code",
   "execution_count": 7,
   "metadata": {
    "collapsed": false
   },
   "outputs": [
    {
     "data": {
      "text/plain": [
       "'/'"
      ]
     },
     "execution_count": 7,
     "metadata": {},
     "output_type": "execute_result"
    }
   ],
   "source": [
    "#HDF5は階層的データフォーマット\n",
    "#folderはgroupsという名称で扱われている\n",
    "#rootのgroup名は\"/\"\n",
    "f.name"
   ]
  },
  {
   "cell_type": "code",
   "execution_count": 8,
   "metadata": {
    "collapsed": true
   },
   "outputs": [],
   "source": [
    "#sub_groupの作成は create_group\n",
    "grp = f.create_group(\"subgroup\")"
   ]
  },
  {
   "cell_type": "code",
   "execution_count": 15,
   "metadata": {
    "collapsed": false
   },
   "outputs": [
    {
     "name": "stdout",
     "output_type": "stream",
     "text": [
      "/subgroup/another_dataset\n",
      "0.0\n"
     ]
    }
   ],
   "source": [
    "#全てのgroupオブジェクトはcreate_*メソッドを持っている\n",
    "dset2 = grp.create_dataset(\"another_dataset\", (50,), dtype='f')\n",
    "#後から中身を追加している\n",
    "dset2[...] = np.arange(50)\n",
    "print(dset2.name)\n",
    "print(dset2[0])\n"
   ]
  },
  {
   "cell_type": "code",
   "execution_count": 11,
   "metadata": {
    "collapsed": false
   },
   "outputs": [
    {
     "name": "stdout",
     "output_type": "stream",
     "text": [
      "(50,)\n",
      "<HDF5 dataset \"another_dataset\": shape (50,), type \"<f4\">\n"
     ]
    }
   ],
   "source": [
    "print(dset2.shape)\n",
    "print(dset2)\n"
   ]
  },
  {
   "cell_type": "code",
   "execution_count": 12,
   "metadata": {
    "collapsed": false
   },
   "outputs": [
    {
     "data": {
      "text/plain": [
       "'/subgroup2/dataset_three'"
      ]
     },
     "execution_count": 12,
     "metadata": {},
     "output_type": "execute_result"
    }
   ],
   "source": [
    "#フルパスを指定してあげれば、存在しない中間ディレクトリも自動で生成される\n",
    "dset3 = f.create_dataset('subgroup2/dataset_three', (10,), dtype='i')\n",
    "dset3.name\n"
   ]
  },
  {
   "cell_type": "code",
   "execution_count": 17,
   "metadata": {
    "collapsed": false
   },
   "outputs": [
    {
     "name": "stdout",
     "output_type": "stream",
     "text": [
      "mydataset\n",
      "subgroup\n",
      "subgroup2\n"
     ]
    }
   ],
   "source": [
    "#fの下にあるファイル、ディレクトリ構造を見たい\n",
    "for name in f:\n",
    "    print (name)"
   ]
  },
  {
   "cell_type": "code",
   "execution_count": 18,
   "metadata": {
    "collapsed": false
   },
   "outputs": [
    {
     "data": {
      "text/plain": [
       "<HDF5 file \"mytestfile.hdf5\" (mode r+)>"
      ]
     },
     "execution_count": 18,
     "metadata": {},
     "output_type": "execute_result"
    }
   ],
   "source": [
    "# fにはリストのような形で格納されているっぽく、inでの判定もできる\n",
    "#フルパスでの指定もできる\n",
    "\"mydataset\" in f\n",
    "\"subgroup/another_dataset\" in f"
   ]
  },
  {
   "cell_type": "code",
   "execution_count": 19,
   "metadata": {
    "collapsed": false
   },
   "outputs": [
    {
     "name": "stdout",
     "output_type": "stream",
     "text": [
      "99.5\n",
      "True\n"
     ]
    }
   ],
   "source": [
    "#データに属性の付与が可能\n",
    "dset.attrs['temperature'] = 99.5\n",
    "print(dset.attrs['temperature'])\n",
    "\n",
    "print('temperature' in dset.attrs)\n"
   ]
  },
  {
   "cell_type": "code",
   "execution_count": 21,
   "metadata": {
    "collapsed": false
   },
   "outputs": [],
   "source": [
    "#上書き保存ってどうするんだっけ\n",
    "f = h5py.File('mytestfile.hdf5','r+')"
   ]
  },
  {
   "cell_type": "code",
   "execution_count": 23,
   "metadata": {
    "collapsed": false
   },
   "outputs": [],
   "source": [
    "ff = h5py.File('mytestfile.hdf5','r')"
   ]
  },
  {
   "cell_type": "code",
   "execution_count": 26,
   "metadata": {
    "collapsed": false
   },
   "outputs": [
    {
     "name": "stdout",
     "output_type": "stream",
     "text": [
      "mydataset\n",
      "subgroup\n",
      "subgroup2\n"
     ]
    }
   ],
   "source": [
    "for name in ff:\n",
    "    print (name)"
   ]
  },
  {
   "cell_type": "code",
   "execution_count": 41,
   "metadata": {
    "collapsed": false
   },
   "outputs": [
    {
     "data": {
      "text/plain": [
       "(100,)"
      ]
     },
     "execution_count": 41,
     "metadata": {},
     "output_type": "execute_result"
    }
   ],
   "source": [
    "#ロードした後にどうやってデータセットにアクセスするのか\n",
    "#→requireをかければOK\n",
    "ff = h5py.File('mytestfile.hdf5','r')\n",
    "ano = ff.require_dataset(\"mydataset\",shape=(100,),dtype=\"i\")\n",
    "ano.shape"
   ]
  },
  {
   "cell_type": "code",
   "execution_count": 45,
   "metadata": {
    "collapsed": false
   },
   "outputs": [],
   "source": [
    "#階層降って見に行くにはrequire_groupを実施して、中身を見に行く必要がある\n",
    "f3 = ff.require_group(\"subgroup2\")\n",
    "for name in f3:\n",
    "    print (name)"
   ]
  },
  {
   "cell_type": "code",
   "execution_count": 53,
   "metadata": {
    "collapsed": false
   },
   "outputs": [
    {
     "name": "stdout",
     "output_type": "stream",
     "text": [
      "Hello World (from process 0)\n"
     ]
    }
   ],
   "source": [
    "from mpi4py import MPI\n",
    "import h5py\n",
    "\n",
    "rank = MPI.COMM_WORLD.rank  # The process ID (integer 0-3 for 4-process run)\n",
    "\n",
    "f = h5py s.File('parallel_test.hdf5', 'w', driver='mpio', comm=MPI.COMM_WORLD)\n",
    "\n",
    "dset = f.create_dataset('test', (4,), dtype='i')\n",
    "dset[rank] = rank\n",
    "\n",
    "f.close()"
   ]
  },
  {
   "cell_type": "code",
   "execution_count": null,
   "metadata": {
    "collapsed": true
   },
   "outputs": [],
   "source": []
  }
 ],
 "metadata": {
  "kernelspec": {
   "display_name": "Python 3",
   "language": "python",
   "name": "python3"
  },
  "language_info": {
   "codemirror_mode": {
    "name": "ipython",
    "version": 3
   },
   "file_extension": ".py",
   "mimetype": "text/x-python",
   "name": "python",
   "nbconvert_exporter": "python",
   "pygments_lexer": "ipython3",
   "version": "3.6.0"
  }
 },
 "nbformat": 4,
 "nbformat_minor": 2
}
