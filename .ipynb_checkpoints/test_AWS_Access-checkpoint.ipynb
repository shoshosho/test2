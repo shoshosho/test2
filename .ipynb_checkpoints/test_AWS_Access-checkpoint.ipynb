{
 "cells": [
  {
   "cell_type": "code",
   "execution_count": 11,
   "metadata": {
    "collapsed": false
   },
   "outputs": [],
   "source": [
    "!ssh -L 5439:pa-redshift.cn36in7uzhbr.ap-northeast-1.redshift.amazonaws.com:5439 -fN -p 443 tb1_taguchi_shoichi@52.68.68.105 -i ~/ssh/tb1_taguchi_shoichi.pem "
   ]
  },
  {
   "cell_type": "code",
   "execution_count": 12,
   "metadata": {
    "collapsed": false
   },
   "outputs": [
    {
     "ename": "OperationalError",
     "evalue": "could not connect to server: Operation timed out\n\tIs the server running on host \"pa-redshift.cn36in7uzhbr.ap-northeast-1.redshift.amazonaws.com\" (172.20.212.48) and accepting\n\tTCP/IP connections on port 5439?\n",
     "output_type": "error",
     "traceback": [
      "\u001b[0;31m---------------------------------------------------------------------------\u001b[0m",
      "\u001b[0;31mOperationalError\u001b[0m                          Traceback (most recent call last)",
      "\u001b[0;32m<ipython-input-12-0c5ab7cf87fc>\u001b[0m in \u001b[0;36m<module>\u001b[0;34m()\u001b[0m\n\u001b[1;32m      6\u001b[0m \u001b[0;31m#GCPはpython2.7からしか叩けない\u001b[0m\u001b[0;34m\u001b[0m\u001b[0;34m\u001b[0m\u001b[0m\n\u001b[1;32m      7\u001b[0m \u001b[0;34m\u001b[0m\u001b[0m\n\u001b[0;32m----> 8\u001b[0;31m \u001b[0mconn\u001b[0m \u001b[0;34m=\u001b[0m \u001b[0mpsycopg2\u001b[0m\u001b[0;34m.\u001b[0m\u001b[0mconnect\u001b[0m\u001b[0;34m(\u001b[0m\u001b[0mdatabase\u001b[0m\u001b[0;34m=\u001b[0m\u001b[0;34m'rmp_car_kpi'\u001b[0m\u001b[0;34m,\u001b[0m \u001b[0mhost\u001b[0m\u001b[0;34m=\u001b[0m\u001b[0;34m'pa-redshift.cn36in7uzhbr.ap-northeast-1.redshift.amazonaws.com'\u001b[0m\u001b[0;34m,\u001b[0m \u001b[0mport\u001b[0m\u001b[0;34m=\u001b[0m\u001b[0;36m5439\u001b[0m\u001b[0;34m,\u001b[0m \u001b[0muser\u001b[0m\u001b[0;34m=\u001b[0m\u001b[0;34m'tb1_taguchi_shoichi'\u001b[0m\u001b[0;34m,\u001b[0m \u001b[0mpassword\u001b[0m\u001b[0;34m=\u001b[0m\u001b[0;34m'n6)%r1BDeNtV%1f'\u001b[0m\u001b[0;34m)\u001b[0m\u001b[0;34m\u001b[0m\u001b[0m\n\u001b[0m\u001b[1;32m      9\u001b[0m \u001b[0;31m# pa-redshift.cn36in7uzhbr.ap-northeast-1.redshift.amazonaws.com\u001b[0m\u001b[0;34m\u001b[0m\u001b[0;34m\u001b[0m\u001b[0m\n\u001b[1;32m     10\u001b[0m \u001b[0;31m# ssh -L 5439:pa-redshift.cn36in7uzhbr.ap-northeast-1.redshift.amazonaws.com:5439\u001b[0m\u001b[0;34m\u001b[0m\u001b[0;34m\u001b[0m\u001b[0m\n",
      "\u001b[0;32m/Users/01017387/anaconda/lib/python3.5/site-packages/psycopg2/__init__.py\u001b[0m in \u001b[0;36mconnect\u001b[0;34m(dsn, database, user, password, host, port, connection_factory, cursor_factory, async, **kwargs)\u001b[0m\n\u001b[1;32m    162\u001b[0m                 for (k, v) in items])\n\u001b[1;32m    163\u001b[0m \u001b[0;34m\u001b[0m\u001b[0m\n\u001b[0;32m--> 164\u001b[0;31m     \u001b[0mconn\u001b[0m \u001b[0;34m=\u001b[0m \u001b[0m_connect\u001b[0m\u001b[0;34m(\u001b[0m\u001b[0mdsn\u001b[0m\u001b[0;34m,\u001b[0m \u001b[0mconnection_factory\u001b[0m\u001b[0;34m=\u001b[0m\u001b[0mconnection_factory\u001b[0m\u001b[0;34m,\u001b[0m \u001b[0masync\u001b[0m\u001b[0;34m=\u001b[0m\u001b[0masync\u001b[0m\u001b[0;34m)\u001b[0m\u001b[0;34m\u001b[0m\u001b[0m\n\u001b[0m\u001b[1;32m    165\u001b[0m     \u001b[0;32mif\u001b[0m \u001b[0mcursor_factory\u001b[0m \u001b[0;32mis\u001b[0m \u001b[0;32mnot\u001b[0m \u001b[0;32mNone\u001b[0m\u001b[0;34m:\u001b[0m\u001b[0;34m\u001b[0m\u001b[0m\n\u001b[1;32m    166\u001b[0m         \u001b[0mconn\u001b[0m\u001b[0;34m.\u001b[0m\u001b[0mcursor_factory\u001b[0m \u001b[0;34m=\u001b[0m \u001b[0mcursor_factory\u001b[0m\u001b[0;34m\u001b[0m\u001b[0m\n",
      "\u001b[0;31mOperationalError\u001b[0m: could not connect to server: Operation timed out\n\tIs the server running on host \"pa-redshift.cn36in7uzhbr.ap-northeast-1.redshift.amazonaws.com\" (172.20.212.48) and accepting\n\tTCP/IP connections on port 5439?\n"
     ]
    }
   ],
   "source": [
    "#redshift\n",
    "import psycopg2\n",
    "\n",
    "#localから直接redshiftに疎通させる必要有り\n",
    "#S3は直接アクセスできる\n",
    "#GCPはpython2.7からしか叩けない\n",
    "\n",
    "conn = psycopg2.connect(database='rmp_car_kpi', host='pa-redshift.cn36in7uzhbr.ap-northeast-1.redshift.amazonaws.com', port=5439, user='tb1_taguchi_shoichi', password='n6)%r1BDeNtV%1f')\n",
    "# pa-redshift.cn36in7uzhbr.ap-northeast-1.redshift.amazonaws.com\n",
    "# ssh -L 5439:pa-redshift.cn36in7uzhbr.ap-northeast-1.redshift.amazonaws.com:5439\n",
    "# conn = psycopg2.connect(database='データベース名', host='Redshift End Point名', port=5439, user='ユーザ名', password='パスワード')\n",
    "# データベース名、Redshift End Point名は、環境図と環境情報.xlsx（Excelブック）を参照のこと\n",
    "# ユーザ名、パスワードは、メール【OrangeCloud環境利用のご案内】を参照下さい。\n",
    "# ユーザ名は、上記メール中のXXX_familyname_firstnameです。（c_familyname_firstnameではありません）\n",
    " \n",
    "cur = conn.cursor()\n",
    "cur.execute(\"select * from rmp-car-kpi/00_price_model limit 10;\")\n",
    "# Redshiftには大量のレコードがロードされている事が有り、不要に全件SELECTすると時間がかかる可能性があります。\n",
    "# 参照目的でRedshiftをSELECTする場合は、対象を一度SELECT COUNTするか、LIMITで出力制限をしてください。\n",
    " \n",
    "evaluate_data = cur.fetchall()\n",
    " \n",
    "cur.close()\n",
    "conn.close()\n",
    " \n",
    "print(len(evaluate_data))\n",
    "print(evaluate_data)"
   ]
  },
  {
   "cell_type": "code",
   "execution_count": 10,
   "metadata": {
    "collapsed": false
   },
   "outputs": [
    {
     "name": "stdout",
     "output_type": "stream",
     "text": [
      "                           PRE Rdata/\r\n",
      "                           PRE csv/\r\n",
      "                           PRE pdf/\r\n",
      "2016-10-06 17:49:39        883 00_rawdata.r\r\n",
      "2016-10-06 17:49:39       8010 02_prep.r\r\n",
      "2016-10-06 17:49:39        168 10_doall_price.r\r\n",
      "2016-10-06 17:49:39       1223 11_price.r\r\n",
      "2016-10-06 17:49:39       2540 12_priceMM.r\r\n",
      "2016-10-06 17:49:39       5173 13_priceShindan.r\r\n",
      "2016-10-06 17:49:39       5616 13_priceShindan2.r\r\n",
      "2016-10-06 17:49:39       2097 13_priceShindannet.r\r\n",
      "2016-10-06 17:49:39       1242 14_export.r\r\n",
      "2016-10-06 17:50:06      10255 nohup.out\r\n"
     ]
    }
   ],
   "source": [
    "#s3ファイル参照\n",
    "!aws s3 ls s3://rmp-car-kpi/00_price_model/\n",
    "#s3ファイルDL\n",
    "# !aws s3 cp s3://rmp-car-kpi/ ./"
   ]
  },
  {
   "cell_type": "code",
   "execution_count": null,
   "metadata": {
    "collapsed": true
   },
   "outputs": [],
   "source": []
  }
 ],
 "metadata": {
  "anaconda-cloud": {},
  "kernelspec": {
   "display_name": "Python [conda root]",
   "language": "python",
   "name": "conda-root-py"
  },
  "language_info": {
   "codemirror_mode": {
    "name": "ipython",
    "version": 3
   },
   "file_extension": ".py",
   "mimetype": "text/x-python",
   "name": "python",
   "nbconvert_exporter": "python",
   "pygments_lexer": "ipython3",
   "version": "3.5.2"
  }
 },
 "nbformat": 4,
 "nbformat_minor": 1
}
