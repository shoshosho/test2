{
 "cells": [
  {
   "cell_type": "code",
   "execution_count": 1,
   "metadata": {
    "collapsed": false
   },
   "outputs": [
    {
     "name": "stdout",
     "output_type": "stream",
     "text": [
      "Python 3.5.2 :: Anaconda 4.2.0 (x86_64)\r\n"
     ]
    }
   ],
   "source": [
    "!python -V\n",
    "%load_ext rpy2.ipython"
   ]
  },
  {
   "cell_type": "code",
   "execution_count": 2,
   "metadata": {
    "collapsed": false
   },
   "outputs": [
    {
     "name": "stderr",
     "output_type": "stream",
     "text": [
      "/Users/01017387/anaconda/lib/python3.5/site-packages/matplotlib/font_manager.py:273: UserWarning: Matplotlib is building the font cache using fc-list. This may take a moment.\n",
      "  warnings.warn('Matplotlib is building the font cache using fc-list. This may take a moment.')\n",
      "/Users/01017387/anaconda/lib/python3.5/site-packages/matplotlib/font_manager.py:273: UserWarning: Matplotlib is building the font cache using fc-list. This may take a moment.\n",
      "  warnings.warn('Matplotlib is building the font cache using fc-list. This may take a moment.')\n"
     ]
    }
   ],
   "source": [
    "import pandas as pd\n",
    "import numpy as np\n",
    "import matplotlib.pyplot as plt\n",
    "%matplotlib inline"
   ]
  },
  {
   "cell_type": "code",
   "execution_count": 4,
   "metadata": {
    "collapsed": false
   },
   "outputs": [
    {
     "name": "stdout",
     "output_type": "stream",
     "text": [
      "\n",
      " library(rstan) でエラー:  ‘rstan’ という名前のパッケージはありません\n"
     ]
    },
    {
     "name": "stderr",
     "output_type": "stream",
     "text": [
      "/Users/01017387/anaconda/lib/python3.5/site-packages/rpy2/rinterface/__init__.py:185: RRuntimeWarning:  library(rstan) でエラー:  ‘rstan’ という名前のパッケージはありません \n",
      "\n",
      "  warnings.warn(x, RRuntimeWarning)\n"
     ]
    }
   ],
   "source": [
    "%%R\n",
    "library(rstan)"
   ]
  },
  {
   "cell_type": "code",
   "execution_count": 8,
   "metadata": {
    "collapsed": false
   },
   "outputs": [
    {
     "data": {
      "text/html": [
       "<div>\n",
       "<table border=\"1\" class=\"dataframe\">\n",
       "  <thead>\n",
       "    <tr style=\"text-align: right;\">\n",
       "      <th></th>\n",
       "      <th>150605</th>\n",
       "      <th>福岡県</th>\n",
       "      <th>DA</th>\n",
       "      <th>S006</th>\n",
       "      <th>2004</th>\n",
       "      <th>34</th>\n",
       "      <th>426029.4117647059</th>\n",
       "      <th>160000</th>\n",
       "    </tr>\n",
       "  </thead>\n",
       "  <tbody>\n",
       "    <tr>\n",
       "      <th>0</th>\n",
       "      <td>141003</td>\n",
       "      <td>神奈川県</td>\n",
       "      <td>TO</td>\n",
       "      <td>S023</td>\n",
       "      <td>2000</td>\n",
       "      <td>11</td>\n",
       "      <td>4.655455e+05</td>\n",
       "      <td>360000</td>\n",
       "    </tr>\n",
       "    <tr>\n",
       "      <th>1</th>\n",
       "      <td>150102</td>\n",
       "      <td>奈良県</td>\n",
       "      <td>HO</td>\n",
       "      <td>S026</td>\n",
       "      <td>2001</td>\n",
       "      <td>4</td>\n",
       "      <td>4.275000e+05</td>\n",
       "      <td>270000</td>\n",
       "    </tr>\n",
       "    <tr>\n",
       "      <th>2</th>\n",
       "      <td>141003</td>\n",
       "      <td>群馬県</td>\n",
       "      <td>SZ</td>\n",
       "      <td>S002</td>\n",
       "      <td>2003</td>\n",
       "      <td>25</td>\n",
       "      <td>3.642800e+05</td>\n",
       "      <td>250000</td>\n",
       "    </tr>\n",
       "    <tr>\n",
       "      <th>3</th>\n",
       "      <td>150306</td>\n",
       "      <td>静岡県</td>\n",
       "      <td>LR</td>\n",
       "      <td>S006</td>\n",
       "      <td>2014</td>\n",
       "      <td>2</td>\n",
       "      <td>7.940000e+06</td>\n",
       "      <td>7700000</td>\n",
       "    </tr>\n",
       "    <tr>\n",
       "      <th>4</th>\n",
       "      <td>150501</td>\n",
       "      <td>大分県</td>\n",
       "      <td>TO</td>\n",
       "      <td>S149</td>\n",
       "      <td>2004</td>\n",
       "      <td>1</td>\n",
       "      <td>2.680000e+06</td>\n",
       "      <td>2680000</td>\n",
       "    </tr>\n",
       "    <tr>\n",
       "      <th>5</th>\n",
       "      <td>150605</td>\n",
       "      <td>富山県</td>\n",
       "      <td>MA</td>\n",
       "      <td>S015</td>\n",
       "      <td>2011</td>\n",
       "      <td>1</td>\n",
       "      <td>1.185000e+06</td>\n",
       "      <td>1185000</td>\n",
       "    </tr>\n",
       "    <tr>\n",
       "      <th>6</th>\n",
       "      <td>150206</td>\n",
       "      <td>大阪府</td>\n",
       "      <td>NI</td>\n",
       "      <td>S017</td>\n",
       "      <td>2012</td>\n",
       "      <td>10</td>\n",
       "      <td>9.604000e+05</td>\n",
       "      <td>631000</td>\n",
       "    </tr>\n",
       "    <tr>\n",
       "      <th>7</th>\n",
       "      <td>150403</td>\n",
       "      <td>東京都</td>\n",
       "      <td>DA</td>\n",
       "      <td>S012</td>\n",
       "      <td>2008</td>\n",
       "      <td>18</td>\n",
       "      <td>7.035000e+05</td>\n",
       "      <td>509000</td>\n",
       "    </tr>\n",
       "    <tr>\n",
       "      <th>8</th>\n",
       "      <td>150306</td>\n",
       "      <td>千葉県</td>\n",
       "      <td>TO</td>\n",
       "      <td>S057</td>\n",
       "      <td>2008</td>\n",
       "      <td>15</td>\n",
       "      <td>1.843733e+06</td>\n",
       "      <td>1460000</td>\n",
       "    </tr>\n",
       "  </tbody>\n",
       "</table>\n",
       "</div>"
      ],
      "text/plain": [
       "   150605   福岡県  DA  S006  2004  34  426029.4117647059   160000\n",
       "0  141003  神奈川県  TO  S023  2000  11       4.655455e+05   360000\n",
       "1  150102   奈良県  HO  S026  2001   4       4.275000e+05   270000\n",
       "2  141003   群馬県  SZ  S002  2003  25       3.642800e+05   250000\n",
       "3  150306   静岡県  LR  S006  2014   2       7.940000e+06  7700000\n",
       "4  150501   大分県  TO  S149  2004   1       2.680000e+06  2680000\n",
       "5  150605   富山県  MA  S015  2011   1       1.185000e+06  1185000\n",
       "6  150206   大阪府  NI  S017  2012  10       9.604000e+05   631000\n",
       "7  150403   東京都  DA  S012  2008  18       7.035000e+05   509000\n",
       "8  150306   千葉県  TO  S057  2008  15       1.843733e+06  1460000"
      ]
     },
     "execution_count": 8,
     "metadata": {},
     "output_type": "execute_result"
    }
   ],
   "source": [
    "a = pd.read_csv(\"/Users/01017387/Desktop/te.txt\", delimiter=\"\\t\")\n",
    "a"
   ]
  },
  {
   "cell_type": "code",
   "execution_count": null,
   "metadata": {
    "collapsed": true
   },
   "outputs": [],
   "source": [
    "#最適化コードの実行\n",
    "# %run "
   ]
  }
 ],
 "metadata": {
  "anaconda-cloud": {},
  "kernelspec": {
   "display_name": "Python [conda root]",
   "language": "python",
   "name": "conda-root-py"
  },
  "language_info": {
   "codemirror_mode": {
    "name": "ipython",
    "version": 3
   },
   "file_extension": ".py",
   "mimetype": "text/x-python",
   "name": "python",
   "nbconvert_exporter": "python",
   "pygments_lexer": "ipython3",
   "version": "3.5.2"
  }
 },
 "nbformat": 4,
 "nbformat_minor": 1
}
