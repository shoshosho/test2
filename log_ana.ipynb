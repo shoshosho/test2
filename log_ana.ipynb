{
 "cells": [
  {
   "cell_type": "code",
   "execution_count": 1,
   "metadata": {
    "collapsed": true
   },
   "outputs": [],
   "source": [
    "import pandas as pd"
   ]
  },
  {
   "cell_type": "code",
   "execution_count": 83,
   "metadata": {
    "collapsed": false
   },
   "outputs": [],
   "source": [
    "s = pd.read_csv(\"/Users/01017387/PycharmProjects/test/logs/debug.tsv\",sep=\"\\t\",header=None)"
   ]
  },
  {
   "cell_type": "code",
   "execution_count": 84,
   "metadata": {
    "collapsed": false
   },
   "outputs": [],
   "source": [
    "s.columns = [\"time\",\"level\",\"message\",\"app_name\",\"message_generated_line\"]"
   ]
  },
  {
   "cell_type": "code",
   "execution_count": 85,
   "metadata": {
    "collapsed": false
   },
   "outputs": [
    {
     "data": {
      "text/html": [
       "<div>\n",
       "<table border=\"1\" class=\"dataframe\">\n",
       "  <thead>\n",
       "    <tr style=\"text-align: right;\">\n",
       "      <th></th>\n",
       "      <th>time</th>\n",
       "      <th>level</th>\n",
       "      <th>message</th>\n",
       "      <th>app_name</th>\n",
       "      <th>message_generated_line</th>\n",
       "    </tr>\n",
       "  </thead>\n",
       "  <tbody>\n",
       "    <tr>\n",
       "      <th>0</th>\n",
       "      <td>2017-03-21 22:21:46,435</td>\n",
       "      <td>INFO</td>\n",
       "      <td>top_page_accessed</td>\n",
       "      <td>app.py</td>\n",
       "      <td>106</td>\n",
       "    </tr>\n",
       "    <tr>\n",
       "      <th>1</th>\n",
       "      <td>2017-03-21 22:21:46,467</td>\n",
       "      <td>INFO</td>\n",
       "      <td>top_page_accessed</td>\n",
       "      <td>app.py</td>\n",
       "      <td>106</td>\n",
       "    </tr>\n",
       "    <tr>\n",
       "      <th>2</th>\n",
       "      <td>2017-03-21 22:21:46,469</td>\n",
       "      <td>INFO</td>\n",
       "      <td>top_page_accessed</td>\n",
       "      <td>app.py</td>\n",
       "      <td>106</td>\n",
       "    </tr>\n",
       "    <tr>\n",
       "      <th>3</th>\n",
       "      <td>2017-03-21 22:21:46,472</td>\n",
       "      <td>INFO</td>\n",
       "      <td>top_page_accessed</td>\n",
       "      <td>app.py</td>\n",
       "      <td>106</td>\n",
       "    </tr>\n",
       "    <tr>\n",
       "      <th>4</th>\n",
       "      <td>2017-03-21 22:21:46,475</td>\n",
       "      <td>INFO</td>\n",
       "      <td>top_page_accessed</td>\n",
       "      <td>app.py</td>\n",
       "      <td>106</td>\n",
       "    </tr>\n",
       "  </tbody>\n",
       "</table>\n",
       "</div>"
      ],
      "text/plain": [
       "                      time level            message app_name  \\\n",
       "0  2017-03-21 22:21:46,435  INFO  top_page_accessed   app.py   \n",
       "1  2017-03-21 22:21:46,467  INFO  top_page_accessed   app.py   \n",
       "2  2017-03-21 22:21:46,469  INFO  top_page_accessed   app.py   \n",
       "3  2017-03-21 22:21:46,472  INFO  top_page_accessed   app.py   \n",
       "4  2017-03-21 22:21:46,475  INFO  top_page_accessed   app.py   \n",
       "\n",
       "   message_generated_line  \n",
       "0                     106  \n",
       "1                     106  \n",
       "2                     106  \n",
       "3                     106  \n",
       "4                     106  "
      ]
     },
     "execution_count": 85,
     "metadata": {},
     "output_type": "execute_result"
    }
   ],
   "source": [
    "s.head()"
   ]
  },
  {
   "cell_type": "code",
   "execution_count": 86,
   "metadata": {
    "collapsed": false
   },
   "outputs": [
    {
     "data": {
      "text/plain": [
       "(39, 5)"
      ]
     },
     "execution_count": 86,
     "metadata": {},
     "output_type": "execute_result"
    }
   ],
   "source": [
    "s.shape"
   ]
  },
  {
   "cell_type": "code",
   "execution_count": 87,
   "metadata": {
    "collapsed": false
   },
   "outputs": [],
   "source": [
    "s[\"time\"] = pd.to_datetime(s[\"time\"])"
   ]
  },
  {
   "cell_type": "code",
   "execution_count": 88,
   "metadata": {
    "collapsed": false
   },
   "outputs": [],
   "source": [
    "s[\"year\"] = s[\"time\"].apply(lambda x:x.year)\n",
    "s[\"month\"] = s[\"time\"].apply(lambda x:x.month)\n",
    "s[\"day\"] = s[\"time\"].apply(lambda x:x.day)\n",
    "s[\"hour\"] = s[\"time\"].apply(lambda x:x.hour)\n",
    "s[\"minute\"] = s[\"time\"].apply(lambda x:x.minute)\n",
    "s[\"second\"] = s[\"time\"].apply(lambda x:x.second)\n",
    "s[\"micro_second\"] = s[\"time\"].apply(lambda x:x.microsecond)\n"
   ]
  },
  {
   "cell_type": "code",
   "execution_count": 90,
   "metadata": {
    "collapsed": false
   },
   "outputs": [
    {
     "data": {
      "text/html": [
       "<div>\n",
       "<table border=\"1\" class=\"dataframe\">\n",
       "  <thead>\n",
       "    <tr style=\"text-align: right;\">\n",
       "      <th></th>\n",
       "      <th>time</th>\n",
       "      <th>level</th>\n",
       "      <th>message</th>\n",
       "      <th>app_name</th>\n",
       "      <th>message_generated_line</th>\n",
       "      <th>year</th>\n",
       "      <th>month</th>\n",
       "      <th>day</th>\n",
       "      <th>hour</th>\n",
       "      <th>minute</th>\n",
       "      <th>second</th>\n",
       "      <th>micro_second</th>\n",
       "    </tr>\n",
       "  </thead>\n",
       "  <tbody>\n",
       "    <tr>\n",
       "      <th>34</th>\n",
       "      <td>2017-03-21 22:49:00.606</td>\n",
       "      <td>INFO</td>\n",
       "      <td>top_page_accessed</td>\n",
       "      <td>app.py</td>\n",
       "      <td>106</td>\n",
       "      <td>2017</td>\n",
       "      <td>3</td>\n",
       "      <td>21</td>\n",
       "      <td>22</td>\n",
       "      <td>49</td>\n",
       "      <td>0</td>\n",
       "      <td>606000</td>\n",
       "    </tr>\n",
       "    <tr>\n",
       "      <th>35</th>\n",
       "      <td>2017-03-21 22:49:00.785</td>\n",
       "      <td>INFO</td>\n",
       "      <td>top_page_accessed</td>\n",
       "      <td>app.py</td>\n",
       "      <td>106</td>\n",
       "      <td>2017</td>\n",
       "      <td>3</td>\n",
       "      <td>21</td>\n",
       "      <td>22</td>\n",
       "      <td>49</td>\n",
       "      <td>0</td>\n",
       "      <td>785000</td>\n",
       "    </tr>\n",
       "    <tr>\n",
       "      <th>36</th>\n",
       "      <td>2017-03-21 22:49:00.933</td>\n",
       "      <td>INFO</td>\n",
       "      <td>top_page_accessed</td>\n",
       "      <td>app.py</td>\n",
       "      <td>106</td>\n",
       "      <td>2017</td>\n",
       "      <td>3</td>\n",
       "      <td>21</td>\n",
       "      <td>22</td>\n",
       "      <td>49</td>\n",
       "      <td>0</td>\n",
       "      <td>933000</td>\n",
       "    </tr>\n",
       "    <tr>\n",
       "      <th>37</th>\n",
       "      <td>2017-03-21 22:49:01.082</td>\n",
       "      <td>INFO</td>\n",
       "      <td>top_page_accessed</td>\n",
       "      <td>app.py</td>\n",
       "      <td>106</td>\n",
       "      <td>2017</td>\n",
       "      <td>3</td>\n",
       "      <td>21</td>\n",
       "      <td>22</td>\n",
       "      <td>49</td>\n",
       "      <td>1</td>\n",
       "      <td>82000</td>\n",
       "    </tr>\n",
       "    <tr>\n",
       "      <th>38</th>\n",
       "      <td>2017-03-21 22:49:06.574</td>\n",
       "      <td>INFO</td>\n",
       "      <td>top_page_accessed</td>\n",
       "      <td>app.py</td>\n",
       "      <td>106</td>\n",
       "      <td>2017</td>\n",
       "      <td>3</td>\n",
       "      <td>21</td>\n",
       "      <td>22</td>\n",
       "      <td>49</td>\n",
       "      <td>6</td>\n",
       "      <td>574000</td>\n",
       "    </tr>\n",
       "  </tbody>\n",
       "</table>\n",
       "</div>"
      ],
      "text/plain": [
       "                      time level            message app_name  \\\n",
       "34 2017-03-21 22:49:00.606  INFO  top_page_accessed   app.py   \n",
       "35 2017-03-21 22:49:00.785  INFO  top_page_accessed   app.py   \n",
       "36 2017-03-21 22:49:00.933  INFO  top_page_accessed   app.py   \n",
       "37 2017-03-21 22:49:01.082  INFO  top_page_accessed   app.py   \n",
       "38 2017-03-21 22:49:06.574  INFO  top_page_accessed   app.py   \n",
       "\n",
       "    message_generated_line  year  month  day  hour  minute  second  \\\n",
       "34                     106  2017      3   21    22      49       0   \n",
       "35                     106  2017      3   21    22      49       0   \n",
       "36                     106  2017      3   21    22      49       0   \n",
       "37                     106  2017      3   21    22      49       1   \n",
       "38                     106  2017      3   21    22      49       6   \n",
       "\n",
       "    micro_second  \n",
       "34        606000  \n",
       "35        785000  \n",
       "36        933000  \n",
       "37         82000  \n",
       "38        574000  "
      ]
     },
     "execution_count": 90,
     "metadata": {},
     "output_type": "execute_result"
    }
   ],
   "source": [
    "s.tail()"
   ]
  },
  {
   "cell_type": "code",
   "execution_count": 70,
   "metadata": {
    "collapsed": false
   },
   "outputs": [
    {
     "data": {
      "text/plain": [
       "435000"
      ]
     },
     "execution_count": 70,
     "metadata": {},
     "output_type": "execute_result"
    }
   ],
   "source": [
    "#どこからアクセスがあったかのIP、ブラウザを取得したい\n",
    "#\n",
    "#同一IPからms秒単位で同じページにアクセスがあれば、F5アタックだと解釈\n",
    "#"
   ]
  },
  {
   "cell_type": "code",
   "execution_count": null,
   "metadata": {
    "collapsed": true
   },
   "outputs": [],
   "source": []
  }
 ],
 "metadata": {
  "kernelspec": {
   "display_name": "Python 3",
   "language": "python",
   "name": "python3"
  },
  "language_info": {
   "codemirror_mode": {
    "name": "ipython",
    "version": 3
   },
   "file_extension": ".py",
   "mimetype": "text/x-python",
   "name": "python",
   "nbconvert_exporter": "python",
   "pygments_lexer": "ipython3",
   "version": "3.6.0"
  }
 },
 "nbformat": 4,
 "nbformat_minor": 2
}
