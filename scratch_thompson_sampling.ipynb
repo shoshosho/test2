{
 "cells": [
  {
   "cell_type": "code",
   "execution_count": 5,
   "metadata": {
    "collapsed": false
   },
   "outputs": [],
   "source": [
    "import pandas as pd\n",
    "import numpy as np\n",
    "import scipy.stats"
   ]
  },
  {
   "cell_type": "code",
   "execution_count": 3,
   "metadata": {
    "collapsed": true
   },
   "outputs": [],
   "source": [
    "def get_data():\n",
    "    streaming_batch = pd.read_csv('streaming_batch.csv', sep='\\t', names=['user_id'], engine='c')\n",
    "    user_feature = pd.read_csv('user_feature.csv', sep='\\t', header=0, index_col=0, engine='c')\n",
    "    actions_id = list(pd.read_csv('actions.csv', sep='\\t', header=0, engine='c')['movie_id'])\n",
    "    reward_list = pd.read_csv('reward_list.csv', sep='\\t', header=0, engine='c')\n",
    "    action_context = pd.read_csv('action_context.csv', sep='\\t', header=0, engine='c')"
   ]
  },
  {
   "cell_type": "code",
   "execution_count": null,
   "metadata": {
    "collapsed": true
   },
   "outputs": [],
   "source": [
    "def arm_play(id):\n",
    "#     確率に基づいて報酬を返すメソッド\n",
    "    "
   ]
  },
  {
   "cell_type": "code",
   "execution_count": null,
   "metadata": {
    "collapsed": true
   },
   "outputs": [],
   "source": [
    "def ts(num_arms,horizon,):\n",
    "    #成功、失敗を観測した数\n",
    "    #ベータ分布のパラメータでもある\n",
    "    #初期化\n",
    "    f = np.zeros(num_arms)\n",
    "    s = np.zeros(num_arms)\n",
    "    \n",
    "    #毎時間、f,sをパラメータとして持つベータ分布からの報酬を観測する\n",
    "    theta[i] = [beta.rvs(s[i]+1,f[i]+1, size=1000)/1000 for i in num_arms]\n",
    "#         theta[i] = stats.beta.pdf(s[i]+1,f[i]+1)\n",
    "#         theta[i] = beta.rvs(s[i]+1,f[i]+1, size=1000)/1000\n",
    "    #最も期待値の高い腕を引く\n",
    "    temporal_optimal_arm = theta.index(max(theta))\n",
    "    #引いた腕の報酬を観測する\n",
    "    reward = play_arm(temporal_optimal_arm)\n",
    "    #報酬が1ならs[i] +=1\n",
    "    #報酬が0ならf[i] +=1\n",
    "    if reward ==1:\n",
    "        s[j] +=1\n",
    "    else:\n",
    "        f[j] +=1\n",
    "    \n",
    "    "
   ]
  },
  {
   "cell_type": "code",
   "execution_count": 11,
   "metadata": {
    "collapsed": false
   },
   "outputs": [
    {
     "data": {
      "text/plain": [
       "2"
      ]
     },
     "execution_count": 11,
     "metadata": {},
     "output_type": "execute_result"
    }
   ],
   "source": [
    "aa = [1,2,5,4,3]\n",
    "aa.index(max(aa))\n",
    "# idx"
   ]
  },
  {
   "cell_type": "code",
   "execution_count": null,
   "metadata": {
    "collapsed": true
   },
   "outputs": [],
   "source": []
  }
 ],
 "metadata": {
  "kernelspec": {
   "display_name": "Python 3",
   "language": "python",
   "name": "python3"
  },
  "language_info": {
   "codemirror_mode": {
    "name": "ipython",
    "version": 3
   },
   "file_extension": ".py",
   "mimetype": "text/x-python",
   "name": "python",
   "nbconvert_exporter": "python",
   "pygments_lexer": "ipython3",
   "version": "3.6.0"
  }
 },
 "nbformat": 4,
 "nbformat_minor": 2
}
