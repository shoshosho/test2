{
 "cells": [
  {
   "cell_type": "code",
   "execution_count": 6,
   "metadata": {
    "collapsed": false
   },
   "outputs": [
    {
     "data": {
      "text/plain": [
       "<ipykernel.zmqshell.ZMQInteractiveShell at 0x104a0a278>"
      ]
     },
     "execution_count": 6,
     "metadata": {},
     "output_type": "execute_result"
    }
   ],
   "source": [
    "import IPython.core.getipython\n",
    "from more_itertools import chunked\n",
    "ip = IPython.core.getipython.get_ipython()\n",
    "class ChunkedDataFrame:\n",
    "    def __init__(self, *args): self.df, self.n, self.m = args\n",
    "    def _repr_html_(self):\n",
    "        return ('' if not isinstance(self.df, pd.DataFrame) else\n",
    "            '\\n'.join(self.df.iloc[:self.m, r]._repr_html_()\n",
    "                      for r in chunked(range(self.df.shape[1]), self.n)))\n",
    "def C_impl(self, args):\n",
    "    return ChunkedDataFrame(_, *[int(i) for i in (args+' 12 5').split()[:2]])\n",
    "def L_impl(self, args):\n",
    "    print(list(_))\n",
    "# if ip:\n",
    "#     ip.define_magic('C', C_impl)\n",
    "#     ip.define_magic('L', L_impl)\n",
    "ip"
   ]
  },
  {
   "cell_type": "code",
   "execution_count": 7,
   "metadata": {
    "collapsed": true
   },
   "outputs": [],
   "source": [
    "pd.set_option('display.max_rows', 100)\n",
    "pd.set_option('display.max_columns', 100)"
   ]
  },
  {
   "cell_type": "code",
   "execution_count": 8,
   "metadata": {
    "collapsed": false
   },
   "outputs": [
    {
     "data": {
      "text/html": [
       "<div>\n",
       "<table border=\"1\" class=\"dataframe\">\n",
       "  <thead>\n",
       "    <tr style=\"text-align: right;\">\n",
       "      <th></th>\n",
       "      <th>0</th>\n",
       "      <th>1</th>\n",
       "      <th>2</th>\n",
       "      <th>3</th>\n",
       "      <th>4</th>\n",
       "      <th>5</th>\n",
       "      <th>6</th>\n",
       "      <th>7</th>\n",
       "      <th>8</th>\n",
       "      <th>9</th>\n",
       "      <th>10</th>\n",
       "      <th>11</th>\n",
       "      <th>12</th>\n",
       "      <th>13</th>\n",
       "      <th>14</th>\n",
       "      <th>15</th>\n",
       "      <th>16</th>\n",
       "      <th>17</th>\n",
       "      <th>18</th>\n",
       "      <th>19</th>\n",
       "      <th>20</th>\n",
       "      <th>21</th>\n",
       "      <th>22</th>\n",
       "      <th>23</th>\n",
       "    </tr>\n",
       "  </thead>\n",
       "  <tbody>\n",
       "    <tr>\n",
       "      <th>0</th>\n",
       "      <td>87</td>\n",
       "      <td>40</td>\n",
       "      <td>41</td>\n",
       "      <td>58</td>\n",
       "      <td>5</td>\n",
       "      <td>91</td>\n",
       "      <td>8</td>\n",
       "      <td>61</td>\n",
       "      <td>22</td>\n",
       "      <td>61</td>\n",
       "      <td>36</td>\n",
       "      <td>0</td>\n",
       "      <td>99</td>\n",
       "      <td>9</td>\n",
       "      <td>2</td>\n",
       "      <td>10</td>\n",
       "      <td>15</td>\n",
       "      <td>92</td>\n",
       "      <td>99</td>\n",
       "      <td>77</td>\n",
       "      <td>69</td>\n",
       "      <td>58</td>\n",
       "      <td>5</td>\n",
       "      <td>93</td>\n",
       "    </tr>\n",
       "    <tr>\n",
       "      <th>1</th>\n",
       "      <td>42</td>\n",
       "      <td>94</td>\n",
       "      <td>19</td>\n",
       "      <td>8</td>\n",
       "      <td>0</td>\n",
       "      <td>51</td>\n",
       "      <td>36</td>\n",
       "      <td>4</td>\n",
       "      <td>74</td>\n",
       "      <td>75</td>\n",
       "      <td>36</td>\n",
       "      <td>36</td>\n",
       "      <td>40</td>\n",
       "      <td>42</td>\n",
       "      <td>18</td>\n",
       "      <td>30</td>\n",
       "      <td>10</td>\n",
       "      <td>66</td>\n",
       "      <td>89</td>\n",
       "      <td>0</td>\n",
       "      <td>14</td>\n",
       "      <td>29</td>\n",
       "      <td>76</td>\n",
       "      <td>67</td>\n",
       "    </tr>\n",
       "    <tr>\n",
       "      <th>2</th>\n",
       "      <td>44</td>\n",
       "      <td>95</td>\n",
       "      <td>97</td>\n",
       "      <td>24</td>\n",
       "      <td>81</td>\n",
       "      <td>56</td>\n",
       "      <td>63</td>\n",
       "      <td>36</td>\n",
       "      <td>22</td>\n",
       "      <td>54</td>\n",
       "      <td>38</td>\n",
       "      <td>78</td>\n",
       "      <td>9</td>\n",
       "      <td>2</td>\n",
       "      <td>98</td>\n",
       "      <td>21</td>\n",
       "      <td>87</td>\n",
       "      <td>83</td>\n",
       "      <td>40</td>\n",
       "      <td>40</td>\n",
       "      <td>53</td>\n",
       "      <td>25</td>\n",
       "      <td>74</td>\n",
       "      <td>73</td>\n",
       "    </tr>\n",
       "  </tbody>\n",
       "</table>\n",
       "</div>"
      ],
      "text/plain": [
       "   0   1   2   3   4   5   6   7   8   9   10  11  12  13  14  15  16  17  18  \\\n",
       "0  87  40  41  58   5  91   8  61  22  61  36   0  99   9   2  10  15  92  99   \n",
       "1  42  94  19   8   0  51  36   4  74  75  36  36  40  42  18  30  10  66  89   \n",
       "2  44  95  97  24  81  56  63  36  22  54  38  78   9   2  98  21  87  83  40   \n",
       "\n",
       "   19  20  21  22  23  \n",
       "0  77  69  58   5  93  \n",
       "1   0  14  29  76  67  \n",
       "2  40  53  25  74  73  "
      ]
     },
     "execution_count": 8,
     "metadata": {},
     "output_type": "execute_result"
    }
   ],
   "source": [
    "import numpy as np, pandas as pd\n",
    "a = pd.DataFrame(np.random.randint(0, 100, (3, 24)))\n",
    "a"
   ]
  },
  {
   "cell_type": "code",
   "execution_count": 2,
   "metadata": {
    "collapsed": false
   },
   "outputs": [
    {
     "name": "stderr",
     "output_type": "stream",
     "text": [
      "ERROR:root:Line magic function `%C` not found.\n"
     ]
    }
   ],
   "source": [
    "%C"
   ]
  },
  {
   "cell_type": "code",
   "execution_count": 10,
   "metadata": {
    "collapsed": false
   },
   "outputs": [
    {
     "name": "stdout",
     "output_type": "stream",
     "text": [
      "[ 2  3  4  5  6  7  8  9 10 11 12]\n",
      "['a2', 'a3', 'a4', 'a5', 'a6', 'a7', 'a8', 'a9', 'a10', 'a11', 'a12']\n"
     ]
    }
   ],
   "source": [
    "import numpy as np\n",
    "loops = np.array(list(range(11))) + 2\n",
    "print(loops)\n",
    "#数字をキー、df名をバリューとする辞書を作成して対応\n",
    "# vals = [(\"a\"+i) for i in loops] \n",
    "vals = [(\"a\"+str(i)) for i in loops] \n",
    "print(vals)\n",
    "# df_dicts = {key: value for (key, value) in zip(loops, vals)}"
   ]
  },
  {
   "cell_type": "code",
   "execution_count": null,
   "metadata": {
    "collapsed": true
   },
   "outputs": [],
   "source": []
  }
 ],
 "metadata": {
  "anaconda-cloud": {},
  "kernelspec": {
   "display_name": "Python 3",
   "language": "python",
   "name": "python3"
  },
  "language_info": {
   "codemirror_mode": {
    "name": "ipython",
    "version": 3
   },
   "file_extension": ".py",
   "mimetype": "text/x-python",
   "name": "python",
   "nbconvert_exporter": "python",
   "pygments_lexer": "ipython3",
   "version": "3.5.2"
  }
 },
 "nbformat": 4,
 "nbformat_minor": 1
}
