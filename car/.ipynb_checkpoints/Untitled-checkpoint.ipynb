{
 "cells": [
  {
   "cell_type": "code",
   "execution_count": 1,
   "metadata": {
    "collapsed": true
   },
   "outputs": [],
   "source": [
    "import pandas as pd\n",
    "import numpy as np\n",
    "import cloudpickle\n",
    "import pickle\n",
    "import time\n",
    "import dask.dataframe as dskdf\n",
    "import dask\n",
    "gl = globals()"
   ]
  },
  {
   "cell_type": "code",
   "execution_count": null,
   "metadata": {
    "collapsed": true
   },
   "outputs": [],
   "source": [
    "class test:\n",
    "\n",
    "    def __init__(self):\n",
    "        pass\n",
    "\n",
    "    #地域系は全部で４つのデータをマージする\n",
    "    #車種系は全部で●つのデーたをマージする\n",
    "    #車種の元ネタが成約データなので、最終的に車種データに地域データを市区町村名で紐付ける\n",
    "\n",
    "    #地域(1)\n",
    "    #市区町村別国勢調査\n",
    "    def make_kokusei(self):\n",
    "        kokusei = pd.read_csv(\"/Users/01017387/Desktop/しごと/data/car用/加工済み/kokuseichosa_2015_for_merge.csv\")\n",
    "        #全てを英字変換する必要あり\n",
    "        kokusei.columns=[\"pref_code\", \"pref_city_code\", \"capital_city_flg\", \"city_categories\", \"chiho\", \"city_name\",\n",
    "                         \"population\", \"h22_kumikae_population\", \"population_changed_from_h22_to_h27\", \"rate_population_changed_from_h22_to_h27\",\n",
    "                         \"gross_area\", \"population_density\", \"ave_age_from_h22_to_h27\", \"med_age_from_h22_to_h27\", \"population\",\n",
    "                         \"population_under_15old\", \"population_from_15_to_64_old\", \"population_over_65old\", \"rate_population_under_15_year_old\",\n",
    "                         \"rate_population_from_15_to_64_old\", \"rate_population_over_65old\", \"population_male\",\"population_male_under_15old\",\n",
    "                         \"population_male_from_15_to_64_old\", \"population_male_over_65old\", \"rate_population_male_under_15old\",\n",
    "                         \"rate_population_male_from_15_to_64_old\", \"rate_population_male_over_65old\", \"population_female\",\n",
    "                         \"population_female_under_15old\", \"population_female_from_15_to_64_old\", \"population_female_over_65old\",\n",
    "                         \"rate_population_female_under_15old\", \"rate_population_female_from_15_to_64_old\", \"rate_population_female_over_65old\",\n",
    "                         \"rate_population_male_to female\", \"population_jap\", \"population_no_jap\", \"num_of_family\", \"num_of_normal_family\",\n",
    "                         \"num_of_family_in_facilities\", \"h22_kumikae_family\", \"num_of_normal_family\", \"num_of_nuclear_family\",\n",
    "                         \"num_of_family_no_children\", \"num_of_family_with_children\", \"num_of_father_and_children\", \"num_of_mother_and_children\",\n",
    "                         \"num_of_singles\", \"num_of_over_65old_singles\", \"num_of_old_married_couples_no_children\", \"num_of_3generation_family\",]\n",
    "        return kokusei\n",
    "\n",
    "    #chiho(都道府県名)で国勢調査と保有台数をマージ\n",
    "    def left_merge_on_chiho(self,left,right,out):\n",
    "        out = pd.merge(left,right,on=\"chiho\",how=\"left\")\n",
    "        #一番下に謎の欠損行が存在するので削除する\n",
    "        out = out.dropna(subset=['pref_code'])\n",
    "        return out\n",
    "\n",
    "    #地域(2)\n",
    "    #都道府県別保有台数\n",
    "    def make_hoyu(self):\n",
    "        hoyu = pd.read_csv(\"/Users/01017387/Desktop/しごと/data/car用/加工済み/2015_hoyu_daisu.csv\",encoding=\"utf-8\")\n",
    "        hoyu.columns = [\"chiho\", \"num_of_cars_all\", \"num_of_cars_kei\", \"num_of_cars_normal\", \"num_of_familiy\", \"cars_per_person\",\n",
    "                        \"normal_cars_per_person\", \"kei_cars_per_person\", \"kei_rate\", \"normal_rate\", \"kei_share_in_JP\", \"normal_share_in_JP\",\n",
    "                        \"guess_2nd_hand_kei_car_sales_per_year\", \"guess_2nd_hand_normal_car_sales_per_year\", \"guess_2nd_hand_car_all_sales_per_year\"]\n",
    "        koku_hoyu = left_merge_on_chiho(kokusei, hoyu, \"koku_hoyu\")\n",
    "        return koku_hoyu"
   ]
  },
  {
   "cell_type": "code",
   "execution_count": null,
   "metadata": {
    "collapsed": false
   },
   "outputs": [],
   "source": [
    "tes = test()\n",
    "tes.make_kokusei()\n",
    "tes.make_hoyu()\n",
    "\n",
    "tes.kokusei.head()\n",
    "tes.koku_hoyu.head(6)\n"
   ]
  },
  {
   "cell_type": "code",
   "execution_count": 2,
   "metadata": {
    "collapsed": false
   },
   "outputs": [
    {
     "name": "stderr",
     "output_type": "stream",
     "text": [
      "/Users/01017387/anaconda/lib/python3.5/site-packages/IPython/core/interactiveshell.py:2717: DtypeWarning: Columns (23) have mixed types. Specify dtype option on import or set low_memory=False.\n",
      "  interactivity=interactivity, compiler=compiler, result=result)\n"
     ]
    }
   ],
   "source": [
    "ku = pd.read_csv(\"/Users/01017387/Desktop/しごと/data/car用/加工済み/物件*問い合わせ/toiawase_1.csv\",delimiter=\"\\t\",encoding=\"cp932\")\n",
    "ru = pd.read_csv(\"/Users/01017387/Desktop/しごと/data/car用/加工済み/物件*問い合わせ/toiawase_2.csv\",delimiter=\"\\t\",encoding=\"cp932\")\n",
    "ma = pd.read_csv(\"/Users/01017387/Desktop/しごと/data/car用/加工済み/物件*問い合わせ/toiawase_3.csv\",delimiter=\"\\t\",encoding=\"cp932\")"
   ]
  },
  {
   "cell_type": "code",
   "execution_count": 3,
   "metadata": {
    "collapsed": true
   },
   "outputs": [],
   "source": [
    "kuru = pd.concat([ku,ru],axis=0)\n"
   ]
  },
  {
   "cell_type": "code",
   "execution_count": 4,
   "metadata": {
    "collapsed": false
   },
   "outputs": [
    {
     "name": "stdout",
     "output_type": "stream",
     "text": [
      "(1378603, 30)\n",
      "(1378534, 30)\n",
      "(2757137, 60)\n"
     ]
    }
   ],
   "source": [
    "print(ku.shape)\n",
    "print(ru.shape)\n",
    "print(kuru.shape)\n"
   ]
  },
  {
   "cell_type": "code",
   "execution_count": 108,
   "metadata": {
    "collapsed": false
   },
   "outputs": [],
   "source": [
    "# kuruma = pd.read_csv(\"/Users/01017387/Desktop/しごと/data/car用/加工済み/物件*問い合わせ/tes.csv\")\n",
    "ku = pd.read_csv(\"/Users/01017387/Desktop/しごと/data/car用/加工済み/物件*問い合わせ/toiawase_1.csv\",\n",
    "                 delimiter=\"\\t\", dtype=\"object\", encoding=\"cp932\",)\n",
    "colname = ku.columns\n",
    "ru = pd.read_csv(\"/Users/01017387/Desktop/しごと/data/car用/加工済み/物件*問い合わせ/toiawase_2.csv\",\n",
    "                 delimiter=\"\\t\", dtype=\"object\", encoding=\"cp932\",names=colname)\n",
    "ma = pd.read_csv(\"/Users/01017387/Desktop/しごと/data/car用/加工済み/物件*問い合わせ/toiawase_3.csv\",\n",
    "                 delimiter=\"\\t\", dtype=\"object\", encoding=\"cp932\",names=colname)\n",
    "kuru = pd.concat([ku,ru],axis=0)\n",
    "kuruma = pd.concat([kuru,ma],axis=0)\n",
    "\n",
    "kuruma[\"b.shikuchoson_jusho_kj\"] = kuruma[\"b.shikuchoson_jusho_kj\"].str.replace('ヶ', 'ケ')\n",
    "kuruma[\"b.todofuken_jusho_kj\"] = kuruma[\"b.todofuken_jusho_kj\"].map(lambda x: str(x).strip()).values\n",
    "#県単位、市区町村単位での地方別集計（問い合わせ）\n",
    "#もともとの市区町村名に入ってるレベル感が違う(市区町村で終わるものもあれば、町大字まで入っているものもある)\n",
    "#市区町村マスタと一致する部分のみ残す\n",
    "\n",
    "#都道府県欠損を削除\n",
    "cu = kuruma.dropna(subset=[\"b.todofuken_jusho_kj\"])\n",
    "#都道府県名に異常値が入っているものを除く\n",
    "# '〓'が入っていたらアウト\n",
    "cus = cu.ix[cu['b.shikuchoson_jusho_kj'] != \"〓\"]"
   ]
  },
  {
   "cell_type": "code",
   "execution_count": 57,
   "metadata": {
    "collapsed": true
   },
   "outputs": [],
   "source": [
    "dl = pd.read_csv(\"/Users/01017387/Desktop/しごと/data/car用/加工済み/市区町村マスタ.csv\",names=[\"pref\",\"city\"])\n",
    "\n",
    "#h市区町村表記揺れを消したい\n",
    "dl[\"city\"] = dl[\"city\"].str.replace('ヶ', 'ケ')\n",
    "pre = dl[\"pref\"].unique() #array\n",
    "#県内市区町村数のカウント用\n",
    "dl[\"count\"] =1\n",
    "num = dl.groupby(\"pref\").sum()\n",
    "dc = num.to_dict()\n",
    "dic = dc[\"count\"]\n",
    "\n",
    "biglis = []\n",
    "c=0\n",
    "#都道府県別市区町村の格納\n",
    "for i in pre:\n",
    "    tmplis = []\n",
    "    for k in range(int(dic[i])):\n",
    "#             exec(\"tmplis.append(dl['city'][\"+str(c)+\"])\")\n",
    "        tmplis.append(dl['city'][c])\n",
    "        c +=1\n",
    "    #元データの入り方が札幌市→札幌市〇〇区、といった順で入っているので、上から部分一致で合致を探す際の障害になる\n",
    "    #ゆえに最初の要素を最後に持ってくる処理が必要\n",
    "    push_to_last = tmplis.pop(0)\n",
    "    tmplis.append(push_to_last)\n",
    "    biglis.append(tmplis)\n",
    "\n",
    "#辞書の作成\n",
    "#県名をキーとして、市区町村名のリストをバリューとする\n",
    "dicts = {key: value for (key, value) in zip(pre,biglis)}\n"
   ]
  },
  {
   "cell_type": "code",
   "execution_count": 60,
   "metadata": {
    "collapsed": false
   },
   "outputs": [
    {
     "ename": "KeyError",
     "evalue": "'null'",
     "output_type": "error",
     "traceback": [
      "\u001b[0;31m---------------------------------------------------------------------------\u001b[0m",
      "\u001b[0;31mKeyError\u001b[0m                                  Traceback (most recent call last)",
      "\u001b[0;32m<ipython-input-60-f95ef3495846>\u001b[0m in \u001b[0;36m<module>\u001b[0;34m()\u001b[0m\n\u001b[1;32m      9\u001b[0m \u001b[0;32mfor\u001b[0m \u001b[0mk\u001b[0m\u001b[0;34m,\u001b[0m\u001b[0mi\u001b[0m \u001b[0;32min\u001b[0m \u001b[0mzip\u001b[0m\u001b[0;34m(\u001b[0m\u001b[0mken\u001b[0m\u001b[0;34m,\u001b[0m\u001b[0morg_toshi\u001b[0m\u001b[0;34m)\u001b[0m\u001b[0;34m:\u001b[0m\u001b[0;34m\u001b[0m\u001b[0m\n\u001b[1;32m     10\u001b[0m     \u001b[0mcount\u001b[0m\u001b[0;34m=\u001b[0m\u001b[0;36m0\u001b[0m\u001b[0;34m\u001b[0m\u001b[0m\n\u001b[0;32m---> 11\u001b[0;31m     \u001b[0;32mfor\u001b[0m \u001b[0ml\u001b[0m \u001b[0;32min\u001b[0m \u001b[0mdicts\u001b[0m\u001b[0;34m[\u001b[0m\u001b[0mk\u001b[0m\u001b[0;34m]\u001b[0m\u001b[0;34m:\u001b[0m\u001b[0;34m\u001b[0m\u001b[0m\n\u001b[0m\u001b[1;32m     12\u001b[0m         \u001b[0;32mif\u001b[0m \u001b[0ml\u001b[0m \u001b[0;32min\u001b[0m \u001b[0mi\u001b[0m\u001b[0;34m:\u001b[0m\u001b[0;34m\u001b[0m\u001b[0m\n\u001b[1;32m     13\u001b[0m             \u001b[0mtoshi\u001b[0m\u001b[0;34m.\u001b[0m\u001b[0mappend\u001b[0m\u001b[0;34m(\u001b[0m\u001b[0ml\u001b[0m\u001b[0;34m)\u001b[0m\u001b[0;34m\u001b[0m\u001b[0m\n",
      "\u001b[0;31mKeyError\u001b[0m: 'null'"
     ]
    }
   ],
   "source": [
    "\n",
    "#dfの各要素について、辞書のどこに一致するかを見て、ループで部分一致を探す\n",
    "#部分一致したものをtoshiで保持する\n",
    "# ken = kuruma[\"b.todofuken_jusho_kj\"].values\n",
    "ken = kuruma[\"b.todofuken_jusho_kj\"].map(lambda x: str(x).strip()).values\n",
    "org_toshi = kuruma[\"b.shikuchoson_jusho_kj\"].values\n",
    "toshi = [] #整形した市区町村名\n",
    "counter =[] #部分一致するものがあるかどうかのフラグ\n",
    "for k,i in zip(ken,org_toshi):\n",
    "    count=0\n",
    "    for l in dicts[k]:\n",
    "        if l in i:\n",
    "            toshi.append(l)\n",
    "            counter.append(1)\n",
    "            break\n",
    "        count+=1\n",
    "        if count >=(len(dicts[k])):\n",
    "            toshi.append(\"\")\n",
    "            counter.append(0)\n",
    "            break\n"
   ]
  },
  {
   "cell_type": "code",
   "execution_count": null,
   "metadata": {
    "collapsed": true
   },
   "outputs": [],
   "source": [
    "#概ねOKだけど、県名の後に直接郡の名前が来るケースに対応できていない\n",
    "# →修正面倒なので後回し\n",
    "#スクレイピングで持ってくる必要ある：　http://www.geocities.jp/je2kcr/current_allgun.htm\n",
    "#toshiが欠損のものはとりあえず除外検討\n",
    "\n",
    "#bbをkurumaにマージ\n",
    "kuruma[\"city_name\"] = toshi\n",
    "kuruma[\"count\"] = 1\n",
    "#toiawase_dateの型を日付型に変更する必要がある\n",
    "kuruma[\"toiawase_datetime\"] = pd.to_datetime(kuruma[\"b.toiawase_date\"].str[:10] + \" \" + kuruma[\"b.toiawase_date\"].str[10:])\n",
    "kuruma[\"toiawase_y\"] = kuruma[\"toiawase_datetime\"].dt.year.astype(str)\n",
    "kuruma[\"toiawase_m\"] = kuruma[\"toiawase_datetime\"].dt.month.astype(str)\n",
    "kuruma[\"toiawase_ym\"] = kuruma[\"toiawase_y\"] + kuruma[\"toiawase_m\"]\n"
   ]
  }
 ],
 "metadata": {
  "anaconda-cloud": {},
  "kernelspec": {
   "display_name": "Python 3",
   "language": "python",
   "name": "python3"
  },
  "language_info": {
   "codemirror_mode": {
    "name": "ipython",
    "version": 3
   },
   "file_extension": ".py",
   "mimetype": "text/x-python",
   "name": "python",
   "nbconvert_exporter": "python",
   "pygments_lexer": "ipython3",
   "version": "3.5.2"
  }
 },
 "nbformat": 4,
 "nbformat_minor": 1
}
