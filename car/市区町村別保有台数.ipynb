{
 "cells": [
  {
   "cell_type": "code",
   "execution_count": 38,
   "metadata": {
    "collapsed": false
   },
   "outputs": [],
   "source": [
    "import re #正規表現置換用\n",
    "import pandas as pd\n",
    "import numpy as np\n",
    "pd.set_option('display.max_columns', None)\n",
    "pd.set_option('display.max_rows', None)"
   ]
  },
  {
   "cell_type": "code",
   "execution_count": 77,
   "metadata": {
    "collapsed": false
   },
   "outputs": [],
   "source": [
    "daisu= pd.read_csv(\"/Users/01017387/Desktop/しごと/data/car用/市区町村別保有台数/市区町村別自動車保有台数.csv\")"
   ]
  },
  {
   "cell_type": "code",
   "execution_count": 78,
   "metadata": {
    "collapsed": false
   },
   "outputs": [],
   "source": [
    "city_master = pd.read_csv(\"/Users/01017387/Desktop/しごと/data/car用/加工済み/市区町村マスタ.csv\",names=[\"pref\",\"city\"])\n",
    "city_master[\"k\"] = city_master[\"city\"].apply(lambda x:\"郡\" in x)\n",
    "keep_list = city_master[city_master[\"k\"] == 1][\"city\"].values\n"
   ]
  },
  {
   "cell_type": "code",
   "execution_count": 79,
   "metadata": {
    "collapsed": false
   },
   "outputs": [],
   "source": [
    "daisu_use = daisu.ix[:,[\"市区町村\",\"業態\",\"乗用計\",\"登録自動車計\",\"軽自動車\"]]\n",
    "#元データ\n",
    "daisu_normal_use = daisu_use.where(daisu_use[\"業態\"]==\"自家用\").dropna()\n",
    "#\"-\"を\"0\"に置換\n",
    "daisu_normal_use = daisu_normal_use.replace(\"-\",0)"
   ]
  },
  {
   "cell_type": "code",
   "execution_count": 138,
   "metadata": {
    "collapsed": false
   },
   "outputs": [
    {
     "name": "stdout",
     "output_type": "stream",
     "text": [
      "(3971, 10)\n",
      "(3971, 11)\n"
     ]
    },
    {
     "name": "stderr",
     "output_type": "stream",
     "text": [
      "/Users/01017387/anaconda/lib/python3.5/site-packages/ipykernel/__main__.py:10: UserWarning: Boolean Series key will be reindexed to match DataFrame index.\n"
     ]
    },
    {
     "data": {
      "text/html": [
       "<div>\n",
       "<table border=\"1\" class=\"dataframe\">\n",
       "  <thead>\n",
       "    <tr style=\"text-align: right;\">\n",
       "      <th></th>\n",
       "      <th>city</th>\n",
       "      <th>num_city_cars</th>\n",
       "      <th>all_cars_in_city</th>\n",
       "    </tr>\n",
       "  </thead>\n",
       "  <tbody>\n",
       "    <tr>\n",
       "      <th>0</th>\n",
       "      <td>札幌市中央区</td>\n",
       "      <td>76191</td>\n",
       "      <td>86018</td>\n",
       "    </tr>\n",
       "    <tr>\n",
       "      <th>3</th>\n",
       "      <td>札幌市北区</td>\n",
       "      <td>84393</td>\n",
       "      <td>98467</td>\n",
       "    </tr>\n",
       "    <tr>\n",
       "      <th>6</th>\n",
       "      <td>札幌市白石区</td>\n",
       "      <td>70153</td>\n",
       "      <td>88850</td>\n",
       "    </tr>\n",
       "    <tr>\n",
       "      <th>9</th>\n",
       "      <td>札幌市豊平区</td>\n",
       "      <td>65467</td>\n",
       "      <td>73413</td>\n",
       "    </tr>\n",
       "    <tr>\n",
       "      <th>12</th>\n",
       "      <td>札幌市南区</td>\n",
       "      <td>44143</td>\n",
       "      <td>49907</td>\n",
       "    </tr>\n",
       "  </tbody>\n",
       "</table>\n",
       "</div>"
      ],
      "text/plain": [
       "      city  num_city_cars  all_cars_in_city\n",
       "0   札幌市中央区          76191             86018\n",
       "3    札幌市北区          84393             98467\n",
       "6   札幌市白石区          70153             88850\n",
       "9   札幌市豊平区          65467             73413\n",
       "12   札幌市南区          44143             49907"
      ]
     },
     "execution_count": 138,
     "metadata": {},
     "output_type": "execute_result"
    }
   ],
   "source": [
    "#普通車は市区町村単位\n",
    "#計、不明、カッコが入っているものはいらない\n",
    "#郡までの文字を消す\n",
    "daisu_normal_use[\"keep_flg\"] = daisu_normal_use[\"市区町村\"].apply(lambda x:\"郡\" in x)\n",
    "daisu_normal_use[\"del_flg\"]  = daisu_normal_use[\"市区町村\"].apply(lambda x:\"計\" in x)\n",
    "daisu_normal_use[\"del_flg1\"] = daisu_normal_use[\"市区町村\"].apply(lambda x:\"不明\" in x)\n",
    "daisu_normal_use[\"del_flg2\"] = daisu_normal_use[\"市区町村\"].apply(lambda x:\"(\" in x)\n",
    "daisu_normal_use[\"del_flg3\"] = daisu_normal_use[\"市区町村\"].apply(lambda x:\"（\" in x)\n",
    "\n",
    "tmp = daisu_normal_use[daisu_normal_use[\"del_flg\"]==0][daisu_normal_use[\"del_flg1\"]==0][daisu_normal_use[\"del_flg2\"]==0][daisu_normal_use[\"del_flg3\"]==0]\n",
    "print(tmp.shape)\n",
    "\n",
    "#群までの文字を消す\n",
    "tmp[\"city\"] = tmp.where(tmp[\"keep_flg\"] ==False)[\"市区町村\"].apply(lambda x:re.sub(\".*郡\",\"\",str(x)))\n",
    "print(tmp.shape)\n",
    "\n",
    "daisu_by_city = tmp.ix[:,[\"city\",\"乗用計\",\"登録自動車計\"]]\n",
    "daisu_by_city = daisu_by_city.applymap(lambda x:re.sub(\",\",\"\",str(x)))\n",
    "\n",
    "daisu_by_city = daisu_by_city.rename(columns={\"乗用計\":\"num_city_cars\",\"登録自動車計\":\"all_cars_in_city\"})\n",
    "daisu_by_city[\"num_city_cars\"] = daisu_by_city[\"num_city_cars\"].astype(int)\n",
    "daisu_by_city[\"all_cars_in_city\"] = daisu_by_city[\"all_cars_in_city\"].astype(int)\n",
    "\n",
    "#chihoでマージする\n",
    "daisu_by_city.head()"
   ]
  },
  {
   "cell_type": "code",
   "execution_count": 132,
   "metadata": {
    "collapsed": false
   },
   "outputs": [
    {
     "data": {
      "text/html": [
       "<div>\n",
       "<table border=\"1\" class=\"dataframe\">\n",
       "  <thead>\n",
       "    <tr style=\"text-align: right;\">\n",
       "      <th></th>\n",
       "      <th>chiho</th>\n",
       "      <th>num_pref_cars</th>\n",
       "      <th>all_cars_in_pref</th>\n",
       "      <th>num_kei_cars_in_pref</th>\n",
       "    </tr>\n",
       "  </thead>\n",
       "  <tbody>\n",
       "    <tr>\n",
       "      <th>1404</th>\n",
       "      <td>青森県</td>\n",
       "      <td>406645</td>\n",
       "      <td>505284</td>\n",
       "      <td>464822</td>\n",
       "    </tr>\n",
       "    <tr>\n",
       "      <th>1668</th>\n",
       "      <td>岩手県</td>\n",
       "      <td>424702</td>\n",
       "      <td>519616</td>\n",
       "      <td>469089</td>\n",
       "    </tr>\n",
       "    <tr>\n",
       "      <th>2019</th>\n",
       "      <td>宮城県</td>\n",
       "      <td>825154</td>\n",
       "      <td>971540</td>\n",
       "      <td>641988</td>\n",
       "    </tr>\n",
       "    <tr>\n",
       "      <th>2319</th>\n",
       "      <td>秋田県</td>\n",
       "      <td>347948</td>\n",
       "      <td>413383</td>\n",
       "      <td>381203</td>\n",
       "    </tr>\n",
       "    <tr>\n",
       "      <th>2508</th>\n",
       "      <td>山形県</td>\n",
       "      <td>408276</td>\n",
       "      <td>484491</td>\n",
       "      <td>422338</td>\n",
       "    </tr>\n",
       "  </tbody>\n",
       "</table>\n",
       "</div>"
      ],
      "text/plain": [
       "     chiho  num_pref_cars  all_cars_in_pref  num_kei_cars_in_pref\n",
       "1404   青森県         406645            505284                464822\n",
       "1668   岩手県         424702            519616                469089\n",
       "2019   宮城県         825154            971540                641988\n",
       "2319   秋田県         347948            413383                381203\n",
       "2508   山形県         408276            484491                422338"
      ]
     },
     "execution_count": 132,
     "metadata": {},
     "output_type": "execute_result"
    }
   ],
   "source": [
    "#軽自動車は県単位\n",
    "#ついでに自動車の県単位保有台数も入れる\n",
    "\n",
    "#計が入っているので絞る\n",
    "kei = daisu_normal_use[daisu_normal_use[\"市区町村\"].apply(lambda x:\"計\" in x)]\n",
    "kei = kei.applymap(lambda x:re.sub(\",\",\"\",str(x)))\n",
    "kei[\"city\"] = kei[\"市区町村\"].apply(lambda x:re.sub(\"計\",\"\",str(x)))\n",
    "#軽自動車の数値が入っているところだけ\n",
    "kei = kei[kei[\"軽自動車\"].astype(int)>0]\n",
    "#filter with prepectures name\n",
    "prefs = city_master[\"pref\"].unique()\n",
    "kei = kei[kei[\"city\"].apply(lambda x:x in prefs)]\n",
    "\n",
    "kei_daisu_by_pref = kei.ix[:,[\"city\",\"乗用計\",\"登録自動車計\",\"軽自動車\"]]\n",
    "kei_daisu_by_pref = kei_daisu_by_pref.rename(columns={\"city\":\"chiho\",\"乗用計\":\"num_pref_cars\",\"登録自動車計\":\"all_cars_in_pref\",\"軽自動車\":\"num_kei_cars_in_pref\"})\n",
    "kei_daisu_by_pref[\"num_pref_cars\"] = kei_daisu_by_pref[\"num_pref_cars\"].astype(int)\n",
    "kei_daisu_by_pref[\"all_cars_in_pref\"] = kei_daisu_by_pref[\"all_cars_in_pref\"].astype(int)\n",
    "kei_daisu_by_pref[\"num_kei_cars_in_pref\"] = kei_daisu_by_pref[\"num_kei_cars_in_pref\"].astype(int)\n",
    "\n",
    "#\n",
    "kei_daisu_by_pref.head()"
   ]
  },
  {
   "cell_type": "code",
   "execution_count": 133,
   "metadata": {
    "collapsed": false
   },
   "outputs": [],
   "source": [
    "    #地域(4)\n",
    "    def hoyu_by_city():\n",
    "        #元データ読み込み\n",
    "        daisu= pd.read_csv(\"/Users/01017387/Desktop/しごと/data/car用/市区町村別保有台数/市区町村別自動車保有台数.csv\")\n",
    "\n",
    "        #city_prefマスタの読み込み\n",
    "        city_master = pd.read_csv(\"/Users/01017387/Desktop/しごと/data/car用/加工済み/市区町村マスタ.csv\",names=[\"pref\",\"city\"])\n",
    "        #郡の入り方が元データと少し違うので、マスタに合わせる\n",
    "        city_master[\"k\"] = city_master[\"city\"].apply(lambda x:\"郡\" in x)\n",
    "        keep_list = city_master[city_master[\"k\"] == 1][\"city\"].values\n",
    "\n",
    "        #必要な変数に絞って元データを作成\n",
    "        daisu_use = daisu.ix[:,[\"市区町村\",\"業態\",\"乗用計\",\"登録自動車計\",\"軽自動車\"]]\n",
    "        daisu_normal_use = daisu_use.where(daisu_use[\"業態\"]==\"自家用\").dropna()\n",
    "        #\"-\"を\"0\"に置換\n",
    "        daisu_normal_use = daisu_normal_use.replace(\"-\",0)\n",
    "\n",
    "        #普通車は市区町村単位\n",
    "        #計、不明、カッコが入っているものはいらない\n",
    "        #郡までの文字を消す\n",
    "        daisu_normal_use[\"keep_flg\"] = daisu_normal_use[\"市区町村\"].apply(lambda x:\"郡\" in x)\n",
    "        daisu_normal_use[\"del_flg\"]  = daisu_normal_use[\"市区町村\"].apply(lambda x:\"計\" in x)\n",
    "        daisu_normal_use[\"del_flg1\"] = daisu_normal_use[\"市区町村\"].apply(lambda x:\"不明\" in x)\n",
    "        daisu_normal_use[\"del_flg2\"] = daisu_normal_use[\"市区町村\"].apply(lambda x:\"(\" in x)\n",
    "        daisu_normal_use[\"del_flg3\"] = daisu_normal_use[\"市区町村\"].apply(lambda x:\"（\" in x)\n",
    "\n",
    "        tmp = daisu_normal_use[daisu_normal_use[\"del_flg\"]==0][daisu_normal_use[\"del_flg1\"]==0][daisu_normal_use[\"del_flg2\"]==0][daisu_normal_use[\"del_flg3\"]==0]\n",
    "\n",
    "        #群までの文字を消す\n",
    "        tmp[\"city\"] = tmp.where(tmp[\"keep_flg\"] ==False)[\"市区町村\"].apply(lambda x:re.sub(\".*郡\",\"\",str(x)))\n",
    "\n",
    "        daisu_by_city = tmp.ix[:,[\"city\",\"乗用計\",\"登録自動車計\"]]\n",
    "        daisu_by_city = daisu_by_city.applymap(lambda x:re.sub(\",\",\"\",str(x)))\n",
    "\n",
    "        daisu_by_city = daisu_by_city.rename(columns={\"city\":\"chiho\",\"乗用計\":\"num_city_cars\",\"登録自動車計\":\"all_cars_in_city\"})\n",
    "        daisu_by_city[\"num_city_cars\"] = daisu_by_city[\"num_city_cars\"].astype(int)\n",
    "        daisu_by_city[\"all_cars_in_city\"] = daisu_by_city[\"all_cars_in_city\"].astype(int)\n",
    "\n",
    "        #軽自動車は県単位\n",
    "        #ついでに自動車の県単位保有台数も入れる\n",
    "\n",
    "        #計が入っているので絞る\n",
    "        kei = daisu_normal_use[daisu_normal_use[\"市区町村\"].apply(lambda x:\"計\" in x)]\n",
    "        kei = kei.applymap(lambda x:re.sub(\",\",\"\",str(x)))\n",
    "        kei[\"city\"] = kei[\"市区町村\"].apply(lambda x:re.sub(\"計\",\"\",str(x)))\n",
    "        #軽自動車の数値が入っているところだけ\n",
    "        kei = kei[kei[\"軽自動車\"].astype(int)>0]\n",
    "        #filter with prepectures name\n",
    "        prefs = city_master[\"pref\"].unique()\n",
    "        kei = kei[kei[\"city\"].apply(lambda x:x in prefs)]\n",
    "\n",
    "        kei_daisu_by_pref = kei.ix[:,[\"city\",\"乗用計\",\"登録自動車計\",\"軽自動車\"]]\n",
    "        kei_daisu_by_pref = kei_daisu_by_pref.rename(columns={\"city\":\"chiho\",\"乗用計\":\"num_pref_cars\",\"登録自動車計\":\"all_cars_in_pref\",\"軽自動車\":\"num_kei_cars_in_pref\"})\n",
    "        kei_daisu_by_pref[\"num_pref_cars\"] = kei_daisu_by_pref[\"num_pref_cars\"].astype(int)\n",
    "        kei_daisu_by_pref[\"all_cars_in_pref\"] = kei_daisu_by_pref[\"all_cars_in_pref\"].astype(int)\n",
    "        kei_daisu_by_pref[\"num_kei_cars_in_pref\"] = kei_daisu_by_pref[\"num_kei_cars_in_pref\"].astype(int)\n",
    "\n",
    "        return [daisu_by_city, kei_daisu_by_pref]\n",
    "    #     kei_daisu_by_pref.head()"
   ]
  },
  {
   "cell_type": "code",
   "execution_count": 135,
   "metadata": {
    "collapsed": false
   },
   "outputs": [
    {
     "name": "stderr",
     "output_type": "stream",
     "text": [
      "/Users/01017387/anaconda/lib/python3.5/site-packages/ipykernel/__main__.py:26: UserWarning: Boolean Series key will be reindexed to match DataFrame index.\n"
     ]
    }
   ],
   "source": [
    "a,b = hoyu_by_city()"
   ]
  },
  {
   "cell_type": "code",
   "execution_count": 137,
   "metadata": {
    "collapsed": false
   },
   "outputs": [
    {
     "data": {
      "text/html": [
       "<div>\n",
       "<table border=\"1\" class=\"dataframe\">\n",
       "  <thead>\n",
       "    <tr style=\"text-align: right;\">\n",
       "      <th></th>\n",
       "      <th>chiho</th>\n",
       "      <th>num_pref_cars</th>\n",
       "      <th>all_cars_in_pref</th>\n",
       "      <th>num_kei_cars_in_pref</th>\n",
       "    </tr>\n",
       "  </thead>\n",
       "  <tbody>\n",
       "    <tr>\n",
       "      <th>1404</th>\n",
       "      <td>青森県</td>\n",
       "      <td>406645</td>\n",
       "      <td>505284</td>\n",
       "      <td>464822</td>\n",
       "    </tr>\n",
       "    <tr>\n",
       "      <th>1668</th>\n",
       "      <td>岩手県</td>\n",
       "      <td>424702</td>\n",
       "      <td>519616</td>\n",
       "      <td>469089</td>\n",
       "    </tr>\n",
       "    <tr>\n",
       "      <th>2019</th>\n",
       "      <td>宮城県</td>\n",
       "      <td>825154</td>\n",
       "      <td>971540</td>\n",
       "      <td>641988</td>\n",
       "    </tr>\n",
       "    <tr>\n",
       "      <th>2319</th>\n",
       "      <td>秋田県</td>\n",
       "      <td>347948</td>\n",
       "      <td>413383</td>\n",
       "      <td>381203</td>\n",
       "    </tr>\n",
       "    <tr>\n",
       "      <th>2508</th>\n",
       "      <td>山形県</td>\n",
       "      <td>408276</td>\n",
       "      <td>484491</td>\n",
       "      <td>422338</td>\n",
       "    </tr>\n",
       "  </tbody>\n",
       "</table>\n",
       "</div>"
      ],
      "text/plain": [
       "     chiho  num_pref_cars  all_cars_in_pref  num_kei_cars_in_pref\n",
       "1404   青森県         406645            505284                464822\n",
       "1668   岩手県         424702            519616                469089\n",
       "2019   宮城県         825154            971540                641988\n",
       "2319   秋田県         347948            413383                381203\n",
       "2508   山形県         408276            484491                422338"
      ]
     },
     "execution_count": 137,
     "metadata": {},
     "output_type": "execute_result"
    }
   ],
   "source": [
    "b.head()"
   ]
  },
  {
   "cell_type": "code",
   "execution_count": null,
   "metadata": {
    "collapsed": true
   },
   "outputs": [],
   "source": []
  }
 ],
 "metadata": {
  "anaconda-cloud": {},
  "kernelspec": {
   "display_name": "Python 3",
   "language": "python",
   "name": "python3"
  },
  "language_info": {
   "codemirror_mode": {
    "name": "ipython",
    "version": 3
   },
   "file_extension": ".py",
   "mimetype": "text/x-python",
   "name": "python",
   "nbconvert_exporter": "python",
   "pygments_lexer": "ipython3",
   "version": "3.5.2"
  }
 },
 "nbformat": 4,
 "nbformat_minor": 1
}
