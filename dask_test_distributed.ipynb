{
 "cells": [
  {
   "cell_type": "code",
   "execution_count": 29,
   "metadata": {
    "collapsed": false
   },
   "outputs": [
    {
     "data": {
      "text/plain": [
       "<Client: scheduler='tcp://localhost:8786' processes=2 cores=8>"
      ]
     },
     "execution_count": 29,
     "metadata": {},
     "output_type": "execute_result"
    }
   ],
   "source": [
    "from dask.distributed import Client, Executor, progress\n",
    "# e = Executor('tcp://10.15.197.146:8786')\n",
    "e = Executor('localhost:8786')\n",
    "# e = Executor('0.0.0.0:9786')\n",
    "\n",
    "e"
   ]
  },
  {
   "cell_type": "code",
   "execution_count": 39,
   "metadata": {
    "collapsed": false
   },
   "outputs": [],
   "source": [
    "from itertools import product\n",
    "import dask.dataframe as dd\n",
    "from dask import delayed\n",
    "import pandas as pd\n",
    "import pandas as pd\n",
    "import numpy as np\n",
    "import random\n",
    "import numpy as np\n",
    "\n",
    "def fake_data(size):\n",
    "    return pd.DataFrame({'product': [''.join(random.sample(alphabet, 4)) for i in range(size)],\n",
    "                         'value': np.random.exponential(100, size=size).astype(int),\n",
    "                         'rating': np.random.normal(0, 1, size=size)})"
   ]
  },
  {
   "cell_type": "code",
   "execution_count": 37,
   "metadata": {
    "collapsed": false
   },
   "outputs": [],
   "source": [
    "\n",
    "alphabet = 'ABCDEFGHIJKLMNOPQRSTUVWXYZ'\n",
    "products = [''.join(x) for x in product(alphabet, alphabet, alphabet, alphabet)]\n",
    "\n",
    "dimension = pd.DataFrame({'product': products, \n",
    "                          'category': np.random.randint(0, 1000, size=len(products))})\n",
    "example = fake_data(5)\n",
    "example.merge(dimension, on='product', how='inner')\n",
    "\n",
    "partitions = []\n",
    "for i in range(10):\n",
    "    partitions.append(delayed(fake_data)(10000))\n",
    "    \n",
    "example = fake_data(1)\n",
    "\n",
    "df = dd.from_delayed(partitions, example)"
   ]
  },
  {
   "cell_type": "code",
   "execution_count": 40,
   "metadata": {
    "collapsed": false
   },
   "outputs": [
    {
     "data": {
      "text/html": [
       "<div>\n",
       "<table border=\"1\" class=\"dataframe\">\n",
       "  <thead>\n",
       "    <tr style=\"text-align: right;\">\n",
       "      <th></th>\n",
       "      <th>product</th>\n",
       "      <th>rating</th>\n",
       "      <th>value</th>\n",
       "      <th>category</th>\n",
       "    </tr>\n",
       "  </thead>\n",
       "  <tbody>\n",
       "    <tr>\n",
       "      <th>0</th>\n",
       "      <td>EQMP</td>\n",
       "      <td>0.866543</td>\n",
       "      <td>124</td>\n",
       "      <td>115</td>\n",
       "    </tr>\n",
       "    <tr>\n",
       "      <th>1</th>\n",
       "      <td>CPYR</td>\n",
       "      <td>1.070692</td>\n",
       "      <td>16</td>\n",
       "      <td>86</td>\n",
       "    </tr>\n",
       "    <tr>\n",
       "      <th>2</th>\n",
       "      <td>BECA</td>\n",
       "      <td>-0.307197</td>\n",
       "      <td>99</td>\n",
       "      <td>135</td>\n",
       "    </tr>\n",
       "    <tr>\n",
       "      <th>3</th>\n",
       "      <td>XQIB</td>\n",
       "      <td>-0.092523</td>\n",
       "      <td>125</td>\n",
       "      <td>674</td>\n",
       "    </tr>\n",
       "    <tr>\n",
       "      <th>4</th>\n",
       "      <td>IPOE</td>\n",
       "      <td>-2.017492</td>\n",
       "      <td>7</td>\n",
       "      <td>127</td>\n",
       "    </tr>\n",
       "  </tbody>\n",
       "</table>\n",
       "</div>"
      ],
      "text/plain": [
       "  product    rating  value  category\n",
       "0    EQMP  0.866543    124       115\n",
       "1    CPYR  1.070692     16        86\n",
       "2    BECA -0.307197     99       135\n",
       "3    XQIB -0.092523    125       674\n",
       "4    IPOE -2.017492      7       127"
      ]
     },
     "execution_count": 40,
     "metadata": {},
     "output_type": "execute_result"
    }
   ],
   "source": [
    "joined = df.merge(dimension, how='inner', on='product')\n",
    "joined.head()"
   ]
  },
  {
   "cell_type": "code",
   "execution_count": 41,
   "metadata": {
    "collapsed": false
   },
   "outputs": [
    {
     "data": {
      "text/plain": [
       "category\n",
       "435    0.414251\n",
       "886    0.328292\n",
       "487    0.306072\n",
       "338    0.267605\n",
       "381    0.258749\n",
       "394    0.256630\n",
       "546    0.254954\n",
       "349    0.230423\n",
       "147    0.228695\n",
       "588    0.228511\n",
       "Name: rating, dtype: float64"
      ]
     },
     "execution_count": 41,
     "metadata": {},
     "output_type": "execute_result"
    }
   ],
   "source": [
    "joined.groupby('category').rating.mean().nlargest(10).compute()"
   ]
  },
  {
   "cell_type": "code",
   "execution_count": 42,
   "metadata": {
    "collapsed": true
   },
   "outputs": [],
   "source": [
    "dfs = [delayed(fake_data)(10000) for i in range(1000)]\n",
    "example = fake_data(1)\n",
    "df = dd.from_delayed(dfs, example)"
   ]
  },
  {
   "cell_type": "code",
   "execution_count": 43,
   "metadata": {
    "collapsed": false
   },
   "outputs": [
    {
     "data": {
      "text/html": [
       "<div><strong>Dask DataFrame Structure:</strong></div>\n",
       "<div>\n",
       "<table border=\"1\" class=\"dataframe\">\n",
       "  <thead>\n",
       "    <tr style=\"text-align: right;\">\n",
       "      <th></th>\n",
       "      <th>product</th>\n",
       "      <th>rating</th>\n",
       "      <th>value</th>\n",
       "    </tr>\n",
       "    <tr>\n",
       "      <th>npartitions=1000</th>\n",
       "      <th></th>\n",
       "      <th></th>\n",
       "      <th></th>\n",
       "    </tr>\n",
       "  </thead>\n",
       "  <tbody>\n",
       "    <tr>\n",
       "      <th>None</th>\n",
       "      <td>object</td>\n",
       "      <td>float64</td>\n",
       "      <td>int64</td>\n",
       "    </tr>\n",
       "    <tr>\n",
       "      <th>None</th>\n",
       "      <td>...</td>\n",
       "      <td>...</td>\n",
       "      <td>...</td>\n",
       "    </tr>\n",
       "    <tr>\n",
       "      <th>...</th>\n",
       "      <td>...</td>\n",
       "      <td>...</td>\n",
       "      <td>...</td>\n",
       "    </tr>\n",
       "    <tr>\n",
       "      <th>None</th>\n",
       "      <td>...</td>\n",
       "      <td>...</td>\n",
       "      <td>...</td>\n",
       "    </tr>\n",
       "    <tr>\n",
       "      <th>None</th>\n",
       "      <td>...</td>\n",
       "      <td>...</td>\n",
       "      <td>...</td>\n",
       "    </tr>\n",
       "  </tbody>\n",
       "</table>\n",
       "</div>\n",
       "<div>Dask Name: from-delayed, 2000 tasks</div>"
      ],
      "text/plain": [
       "Dask DataFrame Structure:\n",
       "                 product   rating  value\n",
       "npartitions=1000                        \n",
       "None              object  float64  int64\n",
       "None                 ...      ...    ...\n",
       "...                  ...      ...    ...\n",
       "None                 ...      ...    ...\n",
       "None                 ...      ...    ...\n",
       "Dask Name: from-delayed, 2000 tasks"
      ]
     },
     "execution_count": 43,
     "metadata": {},
     "output_type": "execute_result"
    }
   ],
   "source": [
    "df"
   ]
  },
  {
   "cell_type": "code",
   "execution_count": 44,
   "metadata": {
    "collapsed": true
   },
   "outputs": [],
   "source": [
    "joined = df.merge(dimension, how='inner', on='product')\n",
    "result = joined.groupby('category').rating.mean().nlargest(10)\n",
    "future = e.compute(result)\n",
    "progress(future)"
   ]
  },
  {
   "cell_type": "code",
   "execution_count": null,
   "metadata": {
    "collapsed": true
   },
   "outputs": [],
   "source": []
  }
 ],
 "metadata": {
  "kernelspec": {
   "display_name": "Python 3",
   "language": "python",
   "name": "python3"
  },
  "language_info": {
   "codemirror_mode": {
    "name": "ipython",
    "version": 3
   },
   "file_extension": ".py",
   "mimetype": "text/x-python",
   "name": "python",
   "nbconvert_exporter": "python",
   "pygments_lexer": "ipython3",
   "version": "3.6.0"
  },
  "widgets": {
   "state": {
    "c6841718d8254554b327fe85c44bb13e": {
     "views": [
      {
       "cell_index": 13
      }
     ]
    }
   },
   "version": "1.2.0"
  }
 },
 "nbformat": 4,
 "nbformat_minor": 2
}
