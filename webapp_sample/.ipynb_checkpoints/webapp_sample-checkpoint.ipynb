{
 "cells": [
  {
   "cell_type": "code",
   "execution_count": null,
   "metadata": {
    "collapsed": true
   },
   "outputs": [],
   "source": [
    "# -*- coding: utf-8 -*-\n",
    "\n",
    "from flask import Flask, render_template, request, redirect, url_for\n",
    "import numpy as np\n",
    "import datetime\n",
    "import pandas as pd\n",
    "import os\n",
    "from flask import Flask, request, redirect, url_for\n",
    "from werkzeug.utils import secure_filename\n",
    "\n",
    "app = Flask(__name__)\n",
    "\n",
    "#本処理\n",
    "UPLOAD_FOLDER = '/Users/01017387/Desktop/webapp_sample/file'\n",
    "#JSON未対応\n",
    "ALLOWED_EXTENSIONS = set(['csv', 'txt', 'pdf', 'png', 'jpg', 'jpeg', 'gif'])\n",
    "\n",
    "app = Flask(__name__)\n",
    "app.config['UPLOAD_FOLDER'] = UPLOAD_FOLDER\n",
    "\n",
    "def allowed_file(filename):\n",
    "    return '.' in filename and \\\n",
    "           filename.rsplit('.', 1)[1].lower() in ALLOWED_EXTENSIONS\n",
    "\n",
    "#これからの対応：\n",
    "#0.前処理\n",
    "#\t%とか,が入ってる場合にちゃんと読み込む\n",
    "#1.重いファイル対応\n",
    "#\tdaskで読み込めば対応できそう\n",
    "#2.可視化対応\n",
    "#\t目的変数を選択、ヒストグラムと線形回帰した直線を見せることができる\n",
    "#3.モデリング対応\n",
    "#\t目的変数選択ができた後に、モデリング(変数選択とりあえずしない)ができる\n",
    "\n",
    "# Routing\n",
    "@app.route('/')\n",
    "def index():\n",
    "    message = \"アップロードしたファイルの要約統計量を出す\"\n",
    "    return render_template('index.html')\n",
    "\n",
    "@app.route('/post', methods=['POST', 'GET'])\n",
    "def post():\n",
    "    message = \"\"\n",
    "    if request.method == 'POST':\n",
    "        #ファイルを保存してからpandasで読み込む\n",
    "        file = request.files[\"example1\"]\n",
    "        filename = file.filename\n",
    "        target = os.path.join(app.config['UPLOAD_FOLDER'], filename)\n",
    "        file.save(target)\n",
    "        org_file = pd.read_csv(target)\n",
    "        #前処理\n",
    "\n",
    "        head = org_file.head()\n",
    "        describe = org_file.describe()\n",
    "        return render_template('index.html',result=filename,head=head, describe=describe)\n",
    "    else:\n",
    "        return redirect(url_for('index'))\n",
    "\n",
    "if __name__ == '__main__':\n",
    "    app.debug = True\n",
    "    app.run(host='0.0.0.0')"
   ]
  },
  {
   "cell_type": "code",
   "execution_count": 59,
   "metadata": {
    "collapsed": false
   },
   "outputs": [],
   "source": [
    "from flask import Flask, render_template, request, redirect, url_for\n",
    "import numpy as np\n",
    "import datetime\n",
    "import pandas as pd\n",
    "import os\n",
    "from flask import Flask, request, redirect, url_for\n",
    "from werkzeug.utils import secure_filename\n",
    "import seaborn as sns\n",
    "%matplotlib inline\n",
    "# from autosklearn.classification import AutoSklearnClassifier\n",
    "# from autosklearn.regression import AutoSklearnRegressor\n",
    "from sklearn.preprocessing import normalize\n",
    "\n",
    "import sklearn.cross_validation\n",
    "import sklearn.datasets\n",
    "import sklearn.metrics\n"
   ]
  },
  {
   "cell_type": "code",
   "execution_count": 60,
   "metadata": {
    "collapsed": true
   },
   "outputs": [],
   "source": [
    "def hasNumbers(inputString):\n",
    "    return any(char.isdigit() for char in inputString)"
   ]
  },
  {
   "cell_type": "code",
   "execution_count": 61,
   "metadata": {
    "collapsed": false
   },
   "outputs": [
    {
     "data": {
      "text/html": [
       "<div>\n",
       "<table border=\"1\" class=\"dataframe\">\n",
       "  <thead>\n",
       "    <tr style=\"text-align: right;\">\n",
       "      <th></th>\n",
       "      <th>都道府県名</th>\n",
       "      <th>乗用車</th>\n",
       "      <th>軽</th>\n",
       "      <th>普通</th>\n",
       "      <th>世帯数</th>\n",
       "      <th>車両数/世帯数</th>\n",
       "      <th>普通車両数/世帯数</th>\n",
       "      <th>軽車両数/世帯数</th>\n",
       "      <th>軽率</th>\n",
       "      <th>普通率</th>\n",
       "      <th>軽シェア</th>\n",
       "      <th>普通シェア</th>\n",
       "      <th>軽シェア×中古販売数</th>\n",
       "      <th>普通シェア×中古販売数</th>\n",
       "      <th>中古車販売台数</th>\n",
       "    </tr>\n",
       "  </thead>\n",
       "  <tbody>\n",
       "    <tr>\n",
       "      <th>0</th>\n",
       "      <td>北海道</td>\n",
       "      <td>2,805,265</td>\n",
       "      <td>1142062</td>\n",
       "      <td>1,663,203</td>\n",
       "      <td>2,734,906</td>\n",
       "      <td>1.025726</td>\n",
       "      <td>0.608139</td>\n",
       "      <td>0.417587</td>\n",
       "      <td>40.71%</td>\n",
       "      <td>59.29%</td>\n",
       "      <td>3.77%</td>\n",
       "      <td>5.39%</td>\n",
       "      <td>37,693</td>\n",
       "      <td>161,743</td>\n",
       "      <td>199,436</td>\n",
       "    </tr>\n",
       "    <tr>\n",
       "      <th>1</th>\n",
       "      <td>青森</td>\n",
       "      <td>728,253</td>\n",
       "      <td>455493</td>\n",
       "      <td>272,760</td>\n",
       "      <td>586,148</td>\n",
       "      <td>1.242439</td>\n",
       "      <td>0.465343</td>\n",
       "      <td>0.777096</td>\n",
       "      <td>62.55%</td>\n",
       "      <td>37.45%</td>\n",
       "      <td>1.50%</td>\n",
       "      <td>0.88%</td>\n",
       "      <td>15,033</td>\n",
       "      <td>26,525</td>\n",
       "      <td>41,559</td>\n",
       "    </tr>\n",
       "    <tr>\n",
       "      <th>2</th>\n",
       "      <td>岩手</td>\n",
       "      <td>738,199</td>\n",
       "      <td>458943</td>\n",
       "      <td>279,256</td>\n",
       "      <td>517,845</td>\n",
       "      <td>1.425521</td>\n",
       "      <td>0.539266</td>\n",
       "      <td>0.886256</td>\n",
       "      <td>62.17%</td>\n",
       "      <td>37.83%</td>\n",
       "      <td>1.51%</td>\n",
       "      <td>0.91%</td>\n",
       "      <td>15,147</td>\n",
       "      <td>27,157</td>\n",
       "      <td>42,304</td>\n",
       "    </tr>\n",
       "    <tr>\n",
       "      <th>3</th>\n",
       "      <td>宮城</td>\n",
       "      <td>1,282,869</td>\n",
       "      <td>617560</td>\n",
       "      <td>665,309</td>\n",
       "      <td>961,574</td>\n",
       "      <td>1.334134</td>\n",
       "      <td>0.691896</td>\n",
       "      <td>0.642239</td>\n",
       "      <td>48.14%</td>\n",
       "      <td>51.86%</td>\n",
       "      <td>2.04%</td>\n",
       "      <td>2.16%</td>\n",
       "      <td>20,382</td>\n",
       "      <td>64,700</td>\n",
       "      <td>85,082</td>\n",
       "    </tr>\n",
       "    <tr>\n",
       "      <th>4</th>\n",
       "      <td>秋田</td>\n",
       "      <td>594,158</td>\n",
       "      <td>374063</td>\n",
       "      <td>220,095</td>\n",
       "      <td>424,208</td>\n",
       "      <td>1.400629</td>\n",
       "      <td>0.518837</td>\n",
       "      <td>0.881791</td>\n",
       "      <td>62.96%</td>\n",
       "      <td>37.04%</td>\n",
       "      <td>1.23%</td>\n",
       "      <td>0.71%</td>\n",
       "      <td>12,346</td>\n",
       "      <td>21,404</td>\n",
       "      <td>33,749</td>\n",
       "    </tr>\n",
       "  </tbody>\n",
       "</table>\n",
       "</div>"
      ],
      "text/plain": [
       "  都道府県名        乗用車        軽         普通        世帯数   車両数/世帯数  普通車両数/世帯数  \\\n",
       "0   北海道  2,805,265  1142062  1,663,203  2,734,906  1.025726   0.608139   \n",
       "1    青森    728,253   455493    272,760    586,148  1.242439   0.465343   \n",
       "2    岩手    738,199   458943    279,256    517,845  1.425521   0.539266   \n",
       "3    宮城  1,282,869   617560    665,309    961,574  1.334134   0.691896   \n",
       "4    秋田    594,158   374063    220,095    424,208  1.400629   0.518837   \n",
       "\n",
       "   軽車両数/世帯数      軽率     普通率   軽シェア  普通シェア 軽シェア×中古販売数 普通シェア×中古販売数  中古車販売台数  \n",
       "0  0.417587  40.71%  59.29%  3.77%  5.39%     37,693     161,743  199,436  \n",
       "1  0.777096  62.55%  37.45%  1.50%  0.88%     15,033      26,525   41,559  \n",
       "2  0.886256  62.17%  37.83%  1.51%  0.91%     15,147      27,157   42,304  \n",
       "3  0.642239  48.14%  51.86%  2.04%  2.16%     20,382      64,700   85,082  \n",
       "4  0.881791  62.96%  37.04%  1.23%  0.71%     12,346      21,404   33,749  "
      ]
     },
     "execution_count": 61,
     "metadata": {},
     "output_type": "execute_result"
    }
   ],
   "source": [
    "dt = pd.read_csv('/Users/01017387/Desktop/webapp_sample/file/2015_hoyu_daisu.csv')\n",
    "dt.head()\n"
   ]
  },
  {
   "cell_type": "code",
   "execution_count": 5,
   "metadata": {
    "collapsed": false
   },
   "outputs": [
    {
     "name": "stdout",
     "output_type": "stream",
     "text": [
      "乗用車\n",
      "普通\n",
      "世帯数\n",
      "軽率\n",
      "普通率\n",
      "軽シェア\n",
      "普通シェア\n",
      "軽シェア×中古販売数\n",
      "普通シェア×中古販売数\n",
      "中古車販売台数\n"
     ]
    }
   ],
   "source": [
    "#int,float以外のcolumn名を取得\n",
    "preprocess_tgt = dt.select_dtypes(exclude=['int','floating']).columns.values\n",
    "\n",
    "import re\n",
    "# #全ての列に関して、数値を全て含む列なのかを判定\n",
    "for p in preprocess_tgt:\n",
    "    if dt[p].apply(hasNumbers).sum() >0:\n",
    "        print(p)\n",
    "        #全て数値を含むものであれば、余計な文字を除く処理\n",
    "        #正規表現で一行で実行できると思うので、それは改良点\n",
    "        dt[p] = dt[p].apply(lambda x: re.sub(\",\", \"\", str(x)))\n",
    "        dt[p] = dt[p].apply(lambda x: re.sub(\"%\", \"\", str(x))).astype(float)\n",
    "#     data[p].head()"
   ]
  },
  {
   "cell_type": "code",
   "execution_count": 6,
   "metadata": {
    "collapsed": false
   },
   "outputs": [
    {
     "name": "stderr",
     "output_type": "stream",
     "text": [
      "/Users/01017387/anaconda/lib/python3.6/site-packages/statsmodels/nonparametric/kdetools.py:20: VisibleDeprecationWarning: using a non-integer number instead of an integer will result in an error in the future\n",
      "  y = X[:m/2+1] + np.r_[0,X[m/2+1:],0]*1j\n"
     ]
    },
    {
     "data": {
      "text/plain": [
       "<seaborn.axisgrid.JointGrid at 0x10e1c8dd8>"
      ]
     },
     "execution_count": 6,
     "metadata": {},
     "output_type": "execute_result"
    },
    {
     "data": {
      "image/png": "[encoded data removed]",
      "text/plain": [
       "<matplotlib.figure.Figure at 0x10e1c8e80>"
      ]
     },
     "metadata": {},
     "output_type": "display_data"
    }
   ],
   "source": [
    "# dt[\"ke\"] = dt[\"軽\"]\n",
    "# dt[\"fu\"] = dt[\"普通\"]\n",
    "import seaborn as sns\n",
    "sns.jointplot(\"軽\",\"普通\",data=dt,kind=\"kde\")"
   ]
  },
  {
   "cell_type": "code",
   "execution_count": 9,
   "metadata": {
    "collapsed": false
   },
   "outputs": [
    {
     "name": "stderr",
     "output_type": "stream",
     "text": [
      "/Users/01017387/anaconda/lib/python3.6/site-packages/statsmodels/nonparametric/kdetools.py:20: VisibleDeprecationWarning: using a non-integer number instead of an integer will result in an error in the future\n",
      "  y = X[:m/2+1] + np.r_[0,X[m/2+1:],0]*1j\n"
     ]
    },
    {
     "data": {
      "image/png": "[encoded data removed]",
      "text/plain": [
       "<matplotlib.figure.Figure at 0x11191fd30>"
      ]
     },
     "metadata": {},
     "output_type": "display_data"
    }
   ],
   "source": [
    "tmp2 = sns.distplot(dt[\"軽\"])\n",
    "tmp2.set_title(\"軽\"+ \"の分布\")\n",
    "# tmp2.set(xlim=(min(dt[k]), max(dt[k])),ylim=())\n",
    "# tmp2.set(xlim=(min(dt[\"軽\"]), max(dt[\"軽\"])))\n",
    "fig = tmp2.get_figure()"
   ]
  },
  {
   "cell_type": "code",
   "execution_count": 1,
   "metadata": {
    "collapsed": false
   },
   "outputs": [],
   "source": [
    "# import matplotlib.pyplot as plt\n",
    "import matplotlib.pyplot as plt\n",
    "from matplotlib.backends.backend_pdf import PdfPages\n",
    "# pp = PdfPages('multipage.pdf')"
   ]
  },
  {
   "cell_type": "code",
   "execution_count": 76,
   "metadata": {
    "collapsed": false
   },
   "outputs": [
    {
     "data": {
      "text/plain": [
       "['都道府県名',\n",
       " '乗用車',\n",
       " '軽',\n",
       " '普通',\n",
       " '世帯数',\n",
       " '車両数/世帯数',\n",
       " '普通車両数/世帯数',\n",
       " '軽車両数/世帯数',\n",
       " '軽率',\n",
       " '普通率',\n",
       " '軽シェア',\n",
       " '普通シェア',\n",
       " '軽シェア×中古販売数',\n",
       " '普通シェア×中古販売数',\n",
       " '中古車販売台数']"
      ]
     },
     "execution_count": 76,
     "metadata": {},
     "output_type": "execute_result"
    }
   ],
   "source": [
    "dt.columns.tolist()"
   ]
  },
  {
   "cell_type": "code",
   "execution_count": 78,
   "metadata": {
    "collapsed": false
   },
   "outputs": [
    {
     "name": "stdout",
     "output_type": "stream",
     "text": [
      "乗用車\n",
      "軽\n",
      "普通\n",
      "世帯数\n",
      "車両数/世帯数\n",
      "普通車両数/世帯数\n",
      "軽車両数/世帯数\n",
      "軽率\n",
      "普通率\n",
      "軽シェア\n",
      "普通シェア\n",
      "軽シェア×中古販売数\n",
      "普通シェア×中古販売数\n",
      "中古車販売台数\n"
     ]
    }
   ],
   "source": [
    "li = dt.columns.tolist()\n",
    "li.pop(0)\n",
    "with PdfPages('multipage_pdf.pdf') as pdf:\n",
    "    for i in li:\n",
    "#         plt.figure()\n",
    "#         print(i)\n",
    "        plt.hist(dt[i].values, bins='auto')  # plt.hist passes it's arguments to np.histogram\n",
    "    #     plt.show()\n",
    "        plt.title('Page One')\n",
    "        pdf.savefig()  # saves the current figure into a pdf page\n",
    "        plt.close()"
   ]
  },
  {
   "cell_type": "code",
   "execution_count": 91,
   "metadata": {
    "collapsed": false
   },
   "outputs": [
    {
     "name": "stderr",
     "output_type": "stream",
     "text": [
      "/Users/01017387/anaconda/lib/python3.6/site-packages/statsmodels/nonparametric/kdetools.py:20: VisibleDeprecationWarning: using a non-integer number instead of an integer will result in an error in the future\n",
      "  y = X[:m/2+1] + np.r_[0,X[m/2+1:],0]*1j\n"
     ]
    }
   ],
   "source": [
    "sorted_res = dt.columns.tolist()\n",
    "sorted_res.pop(0)\n",
    "# 分布を見る\n",
    "#異常値/外れ値を発見するため、上下1%地点を切って、縦にラインを引いてあげたい\n",
    "with PdfPages('plt_all.pdf') as pdf_pages:\n",
    "    # for k in dt.drop(tgtvar, axis=1).select_dtypes(include=['int', 'floating']).columns:\n",
    "    for k in sorted_res:\n",
    "        tmp = sns.lmplot(\"乗用車\", k, data=dt)\n",
    "        tmp.fig.suptitle(str(k))\n",
    "        pdf_pages.savefig(tmp.fig)\n",
    "        plt.close()\n",
    "plt.close()\n",
    "import matplotlib.pyplot as plt\n",
    "with PdfPages('plt_dist.pdf') as pdf_pages:\n",
    "    for k in sorted_res:\n",
    "        tmp2 = sns.distplot(dt[k])\n",
    "        dt\n",
    "        tmp2.set_title(str(k) + \"の分布\")\n",
    "        tmp2.set(xlim=(min(dt[k]), max(dt[k])))\n",
    "        fig = tmp2.get_figure()\n",
    "        pdf_pages.savefig(fig)\n",
    "        plt.close()"
   ]
  },
  {
   "cell_type": "code",
   "execution_count": 114,
   "metadata": {
    "collapsed": false
   },
   "outputs": [
    {
     "name": "stdout",
     "output_type": "stream",
     "text": [
      "1460819.9399999997\n"
     ]
    },
    {
     "data": {
      "text/plain": [
       "<matplotlib.text.Annotation at 0x115188940>"
      ]
     },
     "execution_count": 114,
     "metadata": {},
     "output_type": "execute_result"
    },
    {
     "ename": "ValueError",
     "evalue": "Image size of 1460928x272 pixels is too large. It must be less than 2^16 in each direction.",
     "output_type": "error",
     "traceback": [
      "\u001b[0;31m---------------------------------------------------------------------------\u001b[0m",
      "\u001b[0;31mValueError\u001b[0m                                Traceback (most recent call last)",
      "\u001b[0;32m/Users/01017387/anaconda/lib/python3.6/site-packages/IPython/core/formatters.py\u001b[0m in \u001b[0;36m__call__\u001b[0;34m(self, obj)\u001b[0m\n\u001b[1;32m    305\u001b[0m                 \u001b[0;32mpass\u001b[0m\u001b[0;34m\u001b[0m\u001b[0m\n\u001b[1;32m    306\u001b[0m             \u001b[0;32melse\u001b[0m\u001b[0;34m:\u001b[0m\u001b[0;34m\u001b[0m\u001b[0m\n\u001b[0;32m--> 307\u001b[0;31m                 \u001b[0;32mreturn\u001b[0m \u001b[0mprinter\u001b[0m\u001b[0;34m(\u001b[0m\u001b[0mobj\u001b[0m\u001b[0;34m)\u001b[0m\u001b[0;34m\u001b[0m\u001b[0m\n\u001b[0m\u001b[1;32m    308\u001b[0m             \u001b[0;31m# Finally look for special method names\u001b[0m\u001b[0;34m\u001b[0m\u001b[0;34m\u001b[0m\u001b[0m\n\u001b[1;32m    309\u001b[0m             \u001b[0mmethod\u001b[0m \u001b[0;34m=\u001b[0m \u001b[0mget_real_method\u001b[0m\u001b[0;34m(\u001b[0m\u001b[0mobj\u001b[0m\u001b[0;34m,\u001b[0m \u001b[0mself\u001b[0m\u001b[0;34m.\u001b[0m\u001b[0mprint_method\u001b[0m\u001b[0;34m)\u001b[0m\u001b[0;34m\u001b[0m\u001b[0m\n",
      "\u001b[0;32m/Users/01017387/anaconda/lib/python3.6/site-packages/IPython/core/pylabtools.py\u001b[0m in \u001b[0;36m<lambda>\u001b[0;34m(fig)\u001b[0m\n\u001b[1;32m    225\u001b[0m \u001b[0;34m\u001b[0m\u001b[0m\n\u001b[1;32m    226\u001b[0m     \u001b[0;32mif\u001b[0m \u001b[0;34m'png'\u001b[0m \u001b[0;32min\u001b[0m \u001b[0mformats\u001b[0m\u001b[0;34m:\u001b[0m\u001b[0;34m\u001b[0m\u001b[0m\n\u001b[0;32m--> 227\u001b[0;31m         \u001b[0mpng_formatter\u001b[0m\u001b[0;34m.\u001b[0m\u001b[0mfor_type\u001b[0m\u001b[0;34m(\u001b[0m\u001b[0mFigure\u001b[0m\u001b[0;34m,\u001b[0m \u001b[0;32mlambda\u001b[0m \u001b[0mfig\u001b[0m\u001b[0;34m:\u001b[0m \u001b[0mprint_figure\u001b[0m\u001b[0;34m(\u001b[0m\u001b[0mfig\u001b[0m\u001b[0;34m,\u001b[0m \u001b[0;34m'png'\u001b[0m\u001b[0;34m,\u001b[0m \u001b[0;34m**\u001b[0m\u001b[0mkwargs\u001b[0m\u001b[0;34m)\u001b[0m\u001b[0;34m)\u001b[0m\u001b[0;34m\u001b[0m\u001b[0m\n\u001b[0m\u001b[1;32m    228\u001b[0m     \u001b[0;32mif\u001b[0m \u001b[0;34m'retina'\u001b[0m \u001b[0;32min\u001b[0m \u001b[0mformats\u001b[0m \u001b[0;32mor\u001b[0m \u001b[0;34m'png2x'\u001b[0m \u001b[0;32min\u001b[0m \u001b[0mformats\u001b[0m\u001b[0;34m:\u001b[0m\u001b[0;34m\u001b[0m\u001b[0m\n\u001b[1;32m    229\u001b[0m         \u001b[0mpng_formatter\u001b[0m\u001b[0;34m.\u001b[0m\u001b[0mfor_type\u001b[0m\u001b[0;34m(\u001b[0m\u001b[0mFigure\u001b[0m\u001b[0;34m,\u001b[0m \u001b[0;32mlambda\u001b[0m \u001b[0mfig\u001b[0m\u001b[0;34m:\u001b[0m \u001b[0mretina_figure\u001b[0m\u001b[0;34m(\u001b[0m\u001b[0mfig\u001b[0m\u001b[0;34m,\u001b[0m \u001b[0;34m**\u001b[0m\u001b[0mkwargs\u001b[0m\u001b[0;34m)\u001b[0m\u001b[0;34m)\u001b[0m\u001b[0;34m\u001b[0m\u001b[0m\n",
      "\u001b[0;32m/Users/01017387/anaconda/lib/python3.6/site-packages/IPython/core/pylabtools.py\u001b[0m in \u001b[0;36mprint_figure\u001b[0;34m(fig, fmt, bbox_inches, **kwargs)\u001b[0m\n\u001b[1;32m    117\u001b[0m \u001b[0;34m\u001b[0m\u001b[0m\n\u001b[1;32m    118\u001b[0m     \u001b[0mbytes_io\u001b[0m \u001b[0;34m=\u001b[0m \u001b[0mBytesIO\u001b[0m\u001b[0;34m(\u001b[0m\u001b[0;34m)\u001b[0m\u001b[0;34m\u001b[0m\u001b[0m\n\u001b[0;32m--> 119\u001b[0;31m     \u001b[0mfig\u001b[0m\u001b[0;34m.\u001b[0m\u001b[0mcanvas\u001b[0m\u001b[0;34m.\u001b[0m\u001b[0mprint_figure\u001b[0m\u001b[0;34m(\u001b[0m\u001b[0mbytes_io\u001b[0m\u001b[0;34m,\u001b[0m \u001b[0;34m**\u001b[0m\u001b[0mkw\u001b[0m\u001b[0;34m)\u001b[0m\u001b[0;34m\u001b[0m\u001b[0m\n\u001b[0m\u001b[1;32m    120\u001b[0m     \u001b[0mdata\u001b[0m \u001b[0;34m=\u001b[0m \u001b[0mbytes_io\u001b[0m\u001b[0;34m.\u001b[0m\u001b[0mgetvalue\u001b[0m\u001b[0;34m(\u001b[0m\u001b[0;34m)\u001b[0m\u001b[0;34m\u001b[0m\u001b[0m\n\u001b[1;32m    121\u001b[0m     \u001b[0;32mif\u001b[0m \u001b[0mfmt\u001b[0m \u001b[0;34m==\u001b[0m \u001b[0;34m'svg'\u001b[0m\u001b[0;34m:\u001b[0m\u001b[0;34m\u001b[0m\u001b[0m\n",
      "\u001b[0;32m/Users/01017387/anaconda/lib/python3.6/site-packages/matplotlib/backend_bases.py\u001b[0m in \u001b[0;36mprint_figure\u001b[0;34m(self, filename, dpi, facecolor, edgecolor, orientation, format, **kwargs)\u001b[0m\n\u001b[1;32m   2242\u001b[0m                 \u001b[0morientation\u001b[0m\u001b[0;34m=\u001b[0m\u001b[0morientation\u001b[0m\u001b[0;34m,\u001b[0m\u001b[0;34m\u001b[0m\u001b[0m\n\u001b[1;32m   2243\u001b[0m                 \u001b[0mbbox_inches_restore\u001b[0m\u001b[0;34m=\u001b[0m\u001b[0m_bbox_inches_restore\u001b[0m\u001b[0;34m,\u001b[0m\u001b[0;34m\u001b[0m\u001b[0m\n\u001b[0;32m-> 2244\u001b[0;31m                 **kwargs)\n\u001b[0m\u001b[1;32m   2245\u001b[0m         \u001b[0;32mfinally\u001b[0m\u001b[0;34m:\u001b[0m\u001b[0;34m\u001b[0m\u001b[0m\n\u001b[1;32m   2246\u001b[0m             \u001b[0;32mif\u001b[0m \u001b[0mbbox_inches\u001b[0m \u001b[0;32mand\u001b[0m \u001b[0mrestore_bbox\u001b[0m\u001b[0;34m:\u001b[0m\u001b[0;34m\u001b[0m\u001b[0m\n",
      "\u001b[0;32m/Users/01017387/anaconda/lib/python3.6/site-packages/matplotlib/backends/backend_agg.py\u001b[0m in \u001b[0;36mprint_png\u001b[0;34m(self, filename_or_obj, *args, **kwargs)\u001b[0m\n\u001b[1;32m    543\u001b[0m \u001b[0;34m\u001b[0m\u001b[0m\n\u001b[1;32m    544\u001b[0m     \u001b[0;32mdef\u001b[0m \u001b[0mprint_png\u001b[0m\u001b[0;34m(\u001b[0m\u001b[0mself\u001b[0m\u001b[0;34m,\u001b[0m \u001b[0mfilename_or_obj\u001b[0m\u001b[0;34m,\u001b[0m \u001b[0;34m*\u001b[0m\u001b[0margs\u001b[0m\u001b[0;34m,\u001b[0m \u001b[0;34m**\u001b[0m\u001b[0mkwargs\u001b[0m\u001b[0;34m)\u001b[0m\u001b[0;34m:\u001b[0m\u001b[0;34m\u001b[0m\u001b[0m\n\u001b[0;32m--> 545\u001b[0;31m         \u001b[0mFigureCanvasAgg\u001b[0m\u001b[0;34m.\u001b[0m\u001b[0mdraw\u001b[0m\u001b[0;34m(\u001b[0m\u001b[0mself\u001b[0m\u001b[0;34m)\u001b[0m\u001b[0;34m\u001b[0m\u001b[0m\n\u001b[0m\u001b[1;32m    546\u001b[0m         \u001b[0mrenderer\u001b[0m \u001b[0;34m=\u001b[0m \u001b[0mself\u001b[0m\u001b[0;34m.\u001b[0m\u001b[0mget_renderer\u001b[0m\u001b[0;34m(\u001b[0m\u001b[0;34m)\u001b[0m\u001b[0;34m\u001b[0m\u001b[0m\n\u001b[1;32m    547\u001b[0m         \u001b[0moriginal_dpi\u001b[0m \u001b[0;34m=\u001b[0m \u001b[0mrenderer\u001b[0m\u001b[0;34m.\u001b[0m\u001b[0mdpi\u001b[0m\u001b[0;34m\u001b[0m\u001b[0m\n",
      "\u001b[0;32m/Users/01017387/anaconda/lib/python3.6/site-packages/matplotlib/backends/backend_agg.py\u001b[0m in \u001b[0;36mdraw\u001b[0;34m(self)\u001b[0m\n\u001b[1;32m    457\u001b[0m         \u001b[0;32mif\u001b[0m \u001b[0m__debug__\u001b[0m\u001b[0;34m:\u001b[0m \u001b[0mverbose\u001b[0m\u001b[0;34m.\u001b[0m\u001b[0mreport\u001b[0m\u001b[0;34m(\u001b[0m\u001b[0;34m'FigureCanvasAgg.draw'\u001b[0m\u001b[0;34m,\u001b[0m \u001b[0;34m'debug-annoying'\u001b[0m\u001b[0;34m)\u001b[0m\u001b[0;34m\u001b[0m\u001b[0m\n\u001b[1;32m    458\u001b[0m \u001b[0;34m\u001b[0m\u001b[0m\n\u001b[0;32m--> 459\u001b[0;31m         \u001b[0mself\u001b[0m\u001b[0;34m.\u001b[0m\u001b[0mrenderer\u001b[0m \u001b[0;34m=\u001b[0m \u001b[0mself\u001b[0m\u001b[0;34m.\u001b[0m\u001b[0mget_renderer\u001b[0m\u001b[0;34m(\u001b[0m\u001b[0mcleared\u001b[0m\u001b[0;34m=\u001b[0m\u001b[0;32mTrue\u001b[0m\u001b[0;34m)\u001b[0m\u001b[0;34m\u001b[0m\u001b[0m\n\u001b[0m\u001b[1;32m    460\u001b[0m         \u001b[0;31m# acquire a lock on the shared font cache\u001b[0m\u001b[0;34m\u001b[0m\u001b[0;34m\u001b[0m\u001b[0m\n\u001b[1;32m    461\u001b[0m         \u001b[0mRendererAgg\u001b[0m\u001b[0;34m.\u001b[0m\u001b[0mlock\u001b[0m\u001b[0;34m.\u001b[0m\u001b[0macquire\u001b[0m\u001b[0;34m(\u001b[0m\u001b[0;34m)\u001b[0m\u001b[0;34m\u001b[0m\u001b[0m\n",
      "\u001b[0;32m/Users/01017387/anaconda/lib/python3.6/site-packages/matplotlib/backends/backend_agg.py\u001b[0m in \u001b[0;36mget_renderer\u001b[0;34m(self, cleared)\u001b[0m\n\u001b[1;32m    474\u001b[0m \u001b[0;34m\u001b[0m\u001b[0m\n\u001b[1;32m    475\u001b[0m         \u001b[0;32mif\u001b[0m \u001b[0mneed_new_renderer\u001b[0m\u001b[0;34m:\u001b[0m\u001b[0;34m\u001b[0m\u001b[0m\n\u001b[0;32m--> 476\u001b[0;31m             \u001b[0mself\u001b[0m\u001b[0;34m.\u001b[0m\u001b[0mrenderer\u001b[0m \u001b[0;34m=\u001b[0m \u001b[0mRendererAgg\u001b[0m\u001b[0;34m(\u001b[0m\u001b[0mw\u001b[0m\u001b[0;34m,\u001b[0m \u001b[0mh\u001b[0m\u001b[0;34m,\u001b[0m \u001b[0mself\u001b[0m\u001b[0;34m.\u001b[0m\u001b[0mfigure\u001b[0m\u001b[0;34m.\u001b[0m\u001b[0mdpi\u001b[0m\u001b[0;34m)\u001b[0m\u001b[0;34m\u001b[0m\u001b[0m\n\u001b[0m\u001b[1;32m    477\u001b[0m             \u001b[0mself\u001b[0m\u001b[0;34m.\u001b[0m\u001b[0m_lastKey\u001b[0m \u001b[0;34m=\u001b[0m \u001b[0mkey\u001b[0m\u001b[0;34m\u001b[0m\u001b[0m\n\u001b[1;32m    478\u001b[0m         \u001b[0;32melif\u001b[0m \u001b[0mcleared\u001b[0m\u001b[0;34m:\u001b[0m\u001b[0;34m\u001b[0m\u001b[0m\n",
      "\u001b[0;32m/Users/01017387/anaconda/lib/python3.6/site-packages/matplotlib/backends/backend_agg.py\u001b[0m in \u001b[0;36m__init__\u001b[0;34m(self, width, height, dpi)\u001b[0m\n\u001b[1;32m     91\u001b[0m         \u001b[0mself\u001b[0m\u001b[0;34m.\u001b[0m\u001b[0mheight\u001b[0m \u001b[0;34m=\u001b[0m \u001b[0mheight\u001b[0m\u001b[0;34m\u001b[0m\u001b[0m\n\u001b[1;32m     92\u001b[0m         \u001b[0;32mif\u001b[0m \u001b[0m__debug__\u001b[0m\u001b[0;34m:\u001b[0m \u001b[0mverbose\u001b[0m\u001b[0;34m.\u001b[0m\u001b[0mreport\u001b[0m\u001b[0;34m(\u001b[0m\u001b[0;34m'RendererAgg.__init__ width=%s, height=%s'\u001b[0m\u001b[0;34m%\u001b[0m\u001b[0;34m(\u001b[0m\u001b[0mwidth\u001b[0m\u001b[0;34m,\u001b[0m \u001b[0mheight\u001b[0m\u001b[0;34m)\u001b[0m\u001b[0;34m,\u001b[0m \u001b[0;34m'debug-annoying'\u001b[0m\u001b[0;34m)\u001b[0m\u001b[0;34m\u001b[0m\u001b[0m\n\u001b[0;32m---> 93\u001b[0;31m         \u001b[0mself\u001b[0m\u001b[0;34m.\u001b[0m\u001b[0m_renderer\u001b[0m \u001b[0;34m=\u001b[0m \u001b[0m_RendererAgg\u001b[0m\u001b[0;34m(\u001b[0m\u001b[0mint\u001b[0m\u001b[0;34m(\u001b[0m\u001b[0mwidth\u001b[0m\u001b[0;34m)\u001b[0m\u001b[0;34m,\u001b[0m \u001b[0mint\u001b[0m\u001b[0;34m(\u001b[0m\u001b[0mheight\u001b[0m\u001b[0;34m)\u001b[0m\u001b[0;34m,\u001b[0m \u001b[0mdpi\u001b[0m\u001b[0;34m,\u001b[0m \u001b[0mdebug\u001b[0m\u001b[0;34m=\u001b[0m\u001b[0;32mFalse\u001b[0m\u001b[0;34m)\u001b[0m\u001b[0;34m\u001b[0m\u001b[0m\n\u001b[0m\u001b[1;32m     94\u001b[0m         \u001b[0mself\u001b[0m\u001b[0;34m.\u001b[0m\u001b[0m_filter_renderers\u001b[0m \u001b[0;34m=\u001b[0m \u001b[0;34m[\u001b[0m\u001b[0;34m]\u001b[0m\u001b[0;34m\u001b[0m\u001b[0m\n\u001b[1;32m     95\u001b[0m \u001b[0;34m\u001b[0m\u001b[0m\n",
      "\u001b[0;31mValueError\u001b[0m: Image size of 1460928x272 pixels is too large. It must be less than 2^16 in each direction."
     ]
    },
    {
     "data": {
      "text/plain": [
       "<matplotlib.figure.Figure at 0x114f1a160>"
      ]
     },
     "metadata": {},
     "output_type": "display_data"
    }
   ],
   "source": [
    "# 上位1%点の見極め\n",
    "# dt.quantile(q=0.01)\n",
    "print(upper)\n",
    "plt.annotate([upper, 0],[upper,1])"
   ]
  },
  {
   "cell_type": "code",
   "execution_count": 109,
   "metadata": {
    "collapsed": false
   },
   "outputs": [
    {
     "name": "stderr",
     "output_type": "stream",
     "text": [
      "/Users/01017387/anaconda/lib/python3.6/site-packages/statsmodels/nonparametric/kdetools.py:20: VisibleDeprecationWarning: using a non-integer number instead of an integer will result in an error in the future\n",
      "  y = X[:m/2+1] + np.r_[0,X[m/2+1:],0]*1j\n"
     ]
    },
    {
     "data": {
      "image/png": "[encoded data removed]",
      "text/plain": [
       "<matplotlib.figure.Figure at 0x1126627b8>"
      ]
     },
     "metadata": {},
     "output_type": "display_data"
    }
   ],
   "source": [
    "import matplotlib\n",
    "k = \"軽\"\n",
    "tmp2 = sns.distplot(dt[k],rug=True,norm_hist=True,kde=True)\n",
    "# tmp2 = sns.Jointdist(dt[k])\n",
    "upper = dt[k].quantile(q=0.99)\n",
    "lower = dt[k].quantile(q=0.01)\n",
    "max_count = dt[k].sum()\n",
    "kernel = stats.gaussian_kde(dt[k].values)\n",
    "kpdf = kernel.pdf(np.linspace(min(dt[k]), max(dt[k]), 1000))\n",
    "line_height = max(kpdf)\n",
    "\n",
    "tmp2.set_title(str(k) + \"の分布\")\n",
    "\n",
    "#1%点、99%点を表示してあげて、外れ値を特定しやすくする\n",
    "points = [upper,lower]\n",
    "indx = [\"99%点\",\"1%点\"]\n",
    "for point,ind in zip(points,indx):\n",
    "    tmp2.text(point, line_height , int(point), ha='center', va='bottom')\n",
    "    tmp2.text(point, line_height*6/5 , ind, ha='center', va='bottom')\n",
    "#1%点、99%点を線で表示\n",
    "plt.plot((upper, upper), (0, line_height), 'k-')\n",
    "plt.plot((lower, lower), (0, line_height), 'k-')\n",
    "#具体的にupper、lowerがそれぞれいくつかをグラフに埋め込む必要あり\n",
    "#右上に\n",
    "\n",
    "# tmp2.set(xlim=(min(dt[k]), max(dt[k])))\n",
    "\n",
    "plt.savefig(\"test.png\")\n"
   ]
  },
  {
   "cell_type": "code",
   "execution_count": 96,
   "metadata": {
    "collapsed": false
   },
   "outputs": [
    {
     "data": {
      "text/plain": [
       "223931.66666666674"
      ]
     },
     "execution_count": 96,
     "metadata": {},
     "output_type": "execute_result"
    }
   ],
   "source": [
    "# for i in rects:\n",
    "#     plt.plot(rect)\n",
    "# # rects\n",
    "rect.get_x()\n",
    "rect.get_width()"
   ]
  },
  {
   "cell_type": "code",
   "execution_count": 75,
   "metadata": {
    "collapsed": false
   },
   "outputs": [
    {
     "data": {
      "text/plain": [
       "[<matplotlib.lines.Line2D at 0x1122d1d68>]"
      ]
     },
     "execution_count": 75,
     "metadata": {},
     "output_type": "execute_result"
    },
    {
     "data": {
      "image/png": "[encoded data removed]",
      "text/plain": [
       "<matplotlib.figure.Figure at 0x112be1da0>"
      ]
     },
     "metadata": {},
     "output_type": "display_data"
    }
   ],
   "source": [
    "#グラフがkdeのスケールに調整されてしまうので、線引きの高さを別途指定してあげる必要がある\n",
    "kernel = stats.gaussian_kde(dt[k].values)\n",
    "kpdf = kernel.pdf(np.linspace(min(dt[k]), max(dt[k]), 1000))\n",
    "line_height = max(kpdf)\n",
    "plt.plot(kpdf)"
   ]
  },
  {
   "cell_type": "code",
   "execution_count": 84,
   "metadata": {
    "collapsed": false
   },
   "outputs": [
    {
     "name": "stdout",
     "output_type": "stream",
     "text": [
      "multipage.pdf                     read_psql_test.ipynb\r\n",
      "multipage_pdf のコピー.pdf        tes.jpg\r\n",
      "multipage_pdf.pdf                 tes.pdf\r\n",
      "plt_all.pdf                       test.pdf\r\n",
      "plt_dist.pdf                      test.png\r\n",
      "read_log.ipynb                    webapp_sample.ipynb\r\n"
     ]
    }
   ],
   "source": [
    "!ls"
   ]
  },
  {
   "cell_type": "code",
   "execution_count": 77,
   "metadata": {
    "collapsed": false
   },
   "outputs": [
    {
     "data": {
      "text/plain": [
       "1.3290168351450759e-06"
      ]
     },
     "execution_count": 77,
     "metadata": {},
     "output_type": "execute_result"
    }
   ],
   "source": [
    "max(kpdf)"
   ]
  },
  {
   "cell_type": "code",
   "execution_count": 51,
   "metadata": {
    "collapsed": false
   },
   "outputs": [],
   "source": [
    "# seabornにおけるbinの数はfreedman diaconis ruleによって決まっているので、それで分割した後に、一番多く属するクラスタの数を指定すれば\n",
    "# 異常値、外れ値の切りを提案するヒストグラムが作成できる\n",
    "# from .utils import set_hls_values, iqr, _kde_support\n",
    "from scipy import stats\n",
    "\n",
    "def iqr(a):\n",
    "    \"\"\"Calculate the IQR for an array of numbers.\"\"\"\n",
    "    a = np.asarray(a)\n",
    "    q1 = stats.scoreatpercentile(a, 25)\n",
    "    q3 = stats.scoreatpercentile(a, 75)\n",
    "    return q3 - q1\n",
    "\n",
    "def _freedman_diaconis_bins(a):\n",
    "    \"\"\"Calculate number of hist bins using Freedman-Diaconis rule.\"\"\"\n",
    "    # From http://stats.stackexchange.com/questions/798/\n",
    "    a = np.asarray(a)\n",
    "    h = 2 * iqr(a) / (len(a) ** (1 / 3))\n",
    "    # fall back to sqrt(a) bins if iqr is 0\n",
    "    if h == 0:\n",
    "        return int(np.sqrt(a.size))\n",
    "    else:\n",
    "        return int(np.ceil((a.max() - a.min()) / h))"
   ]
  },
  {
   "cell_type": "code",
   "execution_count": 52,
   "metadata": {
    "collapsed": false
   },
   "outputs": [
    {
     "data": {
      "text/plain": [
       "6"
      ]
     },
     "execution_count": 52,
     "metadata": {},
     "output_type": "execute_result"
    }
   ],
   "source": [
    "l = _freedman_diaconis_bins(dt[k])\n",
    "l"
   ]
  },
  {
   "cell_type": "code",
   "execution_count": null,
   "metadata": {
    "collapsed": true
   },
   "outputs": [],
   "source": [
    "# 最大から最小を引いて\n",
    "\n"
   ]
  },
  {
   "cell_type": "code",
   "execution_count": 19,
   "metadata": {
    "collapsed": false
   },
   "outputs": [
    {
     "data": {
      "image/png": "[encoded data removed]",
      "text/plain": [
       "<matplotlib.figure.Figure at 0x1122e4a20>"
      ]
     },
     "metadata": {},
     "output_type": "display_data"
    }
   ],
   "source": [
    "# tmp2 = sns.distplot(dt[k],kde=True,norm_hist=True)\n",
    "tmp2 = sns.distplot(dt[k],kde=False)\n",
    "# tmp2?"
   ]
  },
  {
   "cell_type": "code",
   "execution_count": 38,
   "metadata": {
    "collapsed": false
   },
   "outputs": [
    {
     "name": "stderr",
     "output_type": "stream",
     "text": [
      "/Users/01017387/anaconda/lib/python3.6/site-packages/statsmodels/nonparametric/kdetools.py:20: VisibleDeprecationWarning: using a non-integer number instead of an integer will result in an error in the future\n",
      "  y = X[:m/2+1] + np.r_[0,X[m/2+1:],0]*1j\n"
     ]
    }
   ],
   "source": [
    "# max_count = dt[k].max\n",
    "# max_count\n",
    "\n",
    "import statsmodels as sm\n",
    "# x, y = .nonparametric.kde.KDEUnivariate(data, kernel, bw, gridsize, cut, clip,\n",
    "# x, y = .nonparametric.kde.KDEUnivariate(dt[k], kernel, bw, gridsize, cut, clip, cumulative=cumulative)\n",
    "x = sm.nonparametric.kde.KDEUnivariate(dt[k].apply(lambda x:np.float(x)).values)\n",
    "x.fit()\n",
    "# sm.nonparametric.KDEUnivariate(np.random.normal(size=nobs))"
   ]
  },
  {
   "cell_type": "code",
   "execution_count": 42,
   "metadata": {
    "collapsed": false
   },
   "outputs": [
    {
     "data": {
      "text/plain": [
       "[<matplotlib.lines.Line2D at 0x111903be0>]"
      ]
     },
     "execution_count": 42,
     "metadata": {},
     "output_type": "execute_result"
    },
    {
     "data": {
      "image/png": "[encoded data removed]",
      "text/plain": [
       "<matplotlib.figure.Figure at 0x112006940>"
      ]
     },
     "metadata": {},
     "output_type": "display_data"
    }
   ],
   "source": [
    "plt.plot(x.cdf) "
   ]
  },
  {
   "cell_type": "code",
   "execution_count": 158,
   "metadata": {
    "collapsed": false
   },
   "outputs": [
    {
     "data": {
      "text/plain": [
       "[<matplotlib.lines.Line2D at 0x116d8ce10>]"
      ]
     },
     "execution_count": 158,
     "metadata": {},
     "output_type": "execute_result"
    },
    {
     "data": {
      "image/png": "[encoded data removed]",
      "text/plain": [
       "<matplotlib.figure.Figure at 0x11672e278>"
      ]
     },
     "metadata": {},
     "output_type": "display_data"
    }
   ],
   "source": [
    "# dt[k]\n",
    "aa = plt.hist(dt[k])\n",
    "# aa?\n",
    "#最大の数を出してくれる→ここ＋１に縦軸を合わせたほうがいい\n",
    "yl = aa[0].max()\n",
    "upper = dt[k].quantile(q=0.99)\n",
    "lower = dt[k].quantile(q=0.01)\n",
    "\n",
    "plt.title(str(k) + \"の分布\")\n",
    "# matplotlib.lines([upper, 0], [upper, 1])\n",
    "plt.plot((upper, upper), (0, yl), 'k-')\n",
    "plt.plot((lower, lower), (0, yl), 'k-')\n",
    "# plt.save(sample.png)\n",
    "# plt.set(xlim=(min(dt[k]), max(dt[k])))\n"
   ]
  },
  {
   "cell_type": "code",
   "execution_count": 156,
   "metadata": {
    "collapsed": false
   },
   "outputs": [
    {
     "data": {
      "image/png": "[encoded data removed]",
      "text/plain": [
       "<matplotlib.figure.Figure at 0x116060898>"
      ]
     },
     "metadata": {},
     "output_type": "display_data"
    }
   ],
   "source": [
    "aa = plt.hist(dt[k])\n",
    "aa?"
   ]
  },
  {
   "cell_type": "code",
   "execution_count": 154,
   "metadata": {
    "collapsed": false
   },
   "outputs": [
    {
     "name": "stderr",
     "output_type": "stream",
     "text": [
      "/Users/01017387/anaconda/lib/python3.6/site-packages/statsmodels/nonparametric/kdetools.py:20: VisibleDeprecationWarning: using a non-integer number instead of an integer will result in an error in the future\n",
      "  y = X[:m/2+1] + np.r_[0,X[m/2+1:],0]*1j\n"
     ]
    },
    {
     "data": {
      "image/png": "[encoded data removed]",
      "text/plain": [
       "<matplotlib.figure.Figure at 0x113a30e10>"
      ]
     },
     "metadata": {},
     "output_type": "display_data"
    }
   ],
   "source": [
    ">>> sns.set(rc={\"figure.figsize\": (8, 4)}); np.random.seed(0)\n",
    ">>> x = np.random.randn(100)\n",
    ">>> ax = sns.distplot(x)"
   ]
  },
  {
   "cell_type": "code",
   "execution_count": 64,
   "metadata": {
    "collapsed": false
   },
   "outputs": [],
   "source": [
    "# Z = np.reshape(kernel(positions).T, dt[k].shape)\n",
    "# plt.plot(kernel.pdf)"
   ]
  },
  {
   "cell_type": "code",
   "execution_count": 70,
   "metadata": {
    "collapsed": false
   },
   "outputs": [
    {
     "data": {
      "text/plain": [
       "[<matplotlib.lines.Line2D at 0x112de25c0>]"
      ]
     },
     "execution_count": 70,
     "metadata": {},
     "output_type": "execute_result"
    },
    {
     "data": {
      "image/png": "[encoded data removed]",
      "text/plain": [
       "<matplotlib.figure.Figure at 0x112d2d320>"
      ]
     },
     "metadata": {},
     "output_type": "display_data"
    }
   ],
   "source": [
    "kernel = stats.gaussian_kde(dt[k].values)\n",
    "fig = plt.figure()\n",
    "ax = fig.add_subplot(111)\n",
    "ax.plot(kernel.pdf(np.linspace(min(dt[k]), max(dt[k]), 1000)))"
   ]
  },
  {
   "cell_type": "code",
   "execution_count": 58,
   "metadata": {
    "collapsed": false
   },
   "outputs": [
    {
     "data": {
      "text/plain": [
       "array([[-3.25937654, -3.25937654, -3.25937654, ...,  4.8307322 ,\n",
       "         4.8307322 ,  4.8307322 ],\n",
       "       [-3.58295664, -3.51113407, -3.4393115 , ...,  3.38383264,\n",
       "         3.45565521,  3.52747778]])"
      ]
     },
     "execution_count": 58,
     "metadata": {},
     "output_type": "execute_result"
    }
   ],
   "source": [
    ">>> def measure(n):\n",
    "...     \"Measurement model, return two coupled measurements.\"\n",
    "...     m1 = np.random.normal(size=n)\n",
    "...     m2 = np.random.normal(scale=0.5, size=n)\n",
    "...     return m1+m2, m1-m2\n",
    ">>> m1, m2 = measure(2000)\n",
    "\n",
    ">>> xmin = m1.min()\n",
    ">>> xmax = m1.max()\n",
    ">>> ymin = m2.min()\n",
    ">>> ymax = m2.max()\n",
    "\n",
    ">>> X, Y = np.mgrid[xmin:xmax:100j, ymin:ymax:100j]\n",
    "#なんのポジションかようわからんので調べる必要ある\n",
    ">>> positions = np.vstack([X.ravel(), Y.ravel()])\n",
    "positions"
   ]
  },
  {
   "cell_type": "code",
   "execution_count": 69,
   "metadata": {
    "collapsed": false
   },
   "outputs": [],
   "source": [
    "import datetime\n",
    "import numpy as np\n",
    "from matplotlib.backends.backend_pdf import PdfPages\n",
    "import matplotlib.pyplot as plt\n",
    "\n",
    "# Create the PdfPages object to which we will save the pages:\n",
    "# The with statement makes sure that the PdfPages object is closed properly at\n",
    "# the end of the block, even if an Exception occurs.\n",
    "with PdfPages('multipage_pdf.pdf') as pdf:\n",
    "    plt.figure(figsize=(3, 3))\n",
    "    plt.plot(range(7), [3, 1, 4, 1, 5, 9, 2], 'r-o')\n",
    "#     plt.show()\n",
    "    plt.title('Page One')\n",
    "    pdf.savefig()  # saves the current figure into a pdf page\n",
    "    plt.close()"
   ]
  },
  {
   "cell_type": "code",
   "execution_count": 28,
   "metadata": {
    "collapsed": false
   },
   "outputs": [],
   "source": [
    "digits = sklearn.datasets.load_digits()\n",
    "X = digits.data\n",
    "# dt[\"乗用車\"].as_matrix\n",
    "digits = sklearn.datasets.load_digits()\n",
    "X = digits.data\n",
    "y = digits.target"
   ]
  },
  {
   "cell_type": "code",
   "execution_count": 31,
   "metadata": {
    "collapsed": false
   },
   "outputs": [
    {
     "data": {
      "text/plain": [
       "array([0, 1, 2, ..., 8, 9, 8])"
      ]
     },
     "execution_count": 31,
     "metadata": {},
     "output_type": "execute_result"
    }
   ],
   "source": [
    "# print(len(dt[\"乗用車\"].values))\n",
    "# print(len(dt[\"世帯数\"].values))\n",
    "\n",
    "# a = np.array([1,2,3,4])\n",
    "# b = np.array([2,4,7,10])\n",
    "len(y)\n",
    "y"
   ]
  },
  {
   "cell_type": "code",
   "execution_count": 41,
   "metadata": {
    "collapsed": false
   },
   "outputs": [
    {
     "data": {
      "text/plain": [
       "array([ 14.84700857,  13.49840379,  13.51196871,  14.06460953,\n",
       "        13.29490056,  13.44793499,  14.01410811,  14.48567976,\n",
       "        14.0939662 ,  14.12636824,  14.96985615,  14.83676797,\n",
       "        14.96441949,  14.93297175,  13.21998543,  14.14122514,\n",
       "        13.46590627,  13.47691828,  14.12766083,  13.13497551,\n",
       "        14.07103533,  14.60278677,  15.23005923,  13.951137  ,\n",
       "        13.58067011,  13.81854296,  14.83262063,  13.38804368,\n",
       "        13.19744488,  14.65008091,  12.74519705,  12.91485939,\n",
       "        13.95392202,  14.18547491,  13.61743638,  13.0285361 ,\n",
       "        13.27911581,  13.51199174,  12.88694986,  14.75768695,\n",
       "        13.12191928,  13.45137212,  13.8378883 ,  13.44366106,\n",
       "        13.41711441,  13.75938667,  13.62857959])"
      ]
     },
     "execution_count": 41,
     "metadata": {},
     "output_type": "execute_result"
    }
   ],
   "source": [
    "np.log(dt[\"乗用車\"].values)"
   ]
  },
  {
   "cell_type": "code",
   "execution_count": null,
   "metadata": {
    "collapsed": false,
    "scrolled": true
   },
   "outputs": [
    {
     "name": "stdout",
     "output_type": "stream",
     "text": [
      "[WARNING] [2017-01-03 16:40:51,394:intensifier] Challenger was the same as the current incumbent; Skipping challenger\n"
     ]
    },
    {
     "name": "stderr",
     "output_type": "stream",
     "text": [
      "You are already timing task: index_run3\n",
      "You are already timing task: index_run4\n",
      "Process pynisher function call:\n",
      "Traceback (most recent call last):\n",
      "  File \"/Users/01017387/anaconda/lib/python3.5/multiprocessing/process.py\", line 249, in _bootstrap\n",
      "    self.run()\n",
      "  File \"/Users/01017387/anaconda/lib/python3.5/multiprocessing/process.py\", line 93, in run\n",
      "    self._target(*self._args, **self._kwargs)\n",
      "  File \"/Users/01017387/anaconda/lib/python3.5/site-packages/pynisher/limit_function_call.py\", line 83, in subprocess_func\n",
      "    return_value = ((func(*args, **kwargs), 0))\n",
      "  File \"/Users/01017387/anaconda/lib/python3.5/site-packages/autosklearn/evaluation/holdout_evaluator.py\", line 148, in eval_holdout\n",
      "    loss, opt_pred, valid_pred, test_pred = evaluator.fit_predict_and_loss()\n",
      "  File \"/Users/01017387/anaconda/lib/python3.5/site-packages/autosklearn/evaluation/holdout_evaluator.py\", line 60, in fit_predict_and_loss\n",
      "    return self.predict_and_loss()\n",
      "  File \"/Users/01017387/anaconda/lib/python3.5/site-packages/autosklearn/evaluation/holdout_evaluator.py\", line 115, in predict_and_loss\n",
      "    Y_optimization_pred, Y_valid_pred, Y_test_pred = self._predict()\n",
      "  File \"/Users/01017387/anaconda/lib/python3.5/site-packages/autosklearn/evaluation/holdout_evaluator.py\", line 98, in _predict\n",
      "    self.Y_train)\n",
      "  File \"/Users/01017387/anaconda/lib/python3.5/site-packages/autosklearn/evaluation/abstract_evaluator.py\", line 294, in _predict_regression\n",
      "    Y_pred = model.predict(X)\n",
      "  File \"/Users/01017387/anaconda/lib/python3.5/site-packages/autosklearn/pipeline/regression.py\", line 96, in predict\n",
      "    predict(X, batch_size=batch_size)\n",
      "  File \"/Users/01017387/anaconda/lib/python3.5/site-packages/autosklearn/pipeline/base.py\", line 174, in predict\n",
      "    return self.pipeline_.predict(X).astype(self._output_dtype)\n",
      "  File \"/Users/01017387/anaconda/lib/python3.5/site-packages/sklearn/utils/metaestimators.py\", line 37, in <lambda>\n",
      "    out = lambda *args, **kwargs: self.fn(obj, *args, **kwargs)\n",
      "  File \"/Users/01017387/anaconda/lib/python3.5/site-packages/sklearn/pipeline.py\", line 204, in predict\n",
      "    return self.steps[-1][-1].predict(Xt)\n",
      "  File \"/Users/01017387/anaconda/lib/python3.5/site-packages/autosklearn/pipeline/components/regression/k_nearest_neighbors.py\", line 30, in predict\n",
      "    return self.estimator.predict(X)\n",
      "  File \"/Users/01017387/anaconda/lib/python3.5/site-packages/sklearn/neighbors/regression.py\", line 144, in predict\n",
      "    neigh_dist, neigh_ind = self.kneighbors(X)\n",
      "  File \"/Users/01017387/anaconda/lib/python3.5/site-packages/sklearn/neighbors/base.py\", line 361, in kneighbors\n",
      "    (train_size, n_neighbors)\n",
      "ValueError: Expected n_neighbors <= n_samples,  but n_samples = 31, n_neighbors = 80\n"
     ]
    },
    {
     "name": "stdout",
     "output_type": "stream",
     "text": [
      "n_components is too large: it will be set to 2\n"
     ]
    },
    {
     "name": "stderr",
     "output_type": "stream",
     "text": [
      "You are already timing task: index_run8\n"
     ]
    },
    {
     "name": "stdout",
     "output_type": "stream",
     "text": [
      "n_components is too large: it will be set to 2\n"
     ]
    },
    {
     "name": "stderr",
     "output_type": "stream",
     "text": [
      "Process pynisher function call:\n",
      "Traceback (most recent call last):\n",
      "  File \"/Users/01017387/anaconda/lib/python3.5/multiprocessing/process.py\", line 249, in _bootstrap\n",
      "    self.run()\n",
      "  File \"/Users/01017387/anaconda/lib/python3.5/multiprocessing/process.py\", line 93, in run\n",
      "    self._target(*self._args, **self._kwargs)\n",
      "  File \"/Users/01017387/anaconda/lib/python3.5/site-packages/pynisher/limit_function_call.py\", line 83, in subprocess_func\n",
      "    return_value = ((func(*args, **kwargs), 0))\n",
      "  File \"/Users/01017387/anaconda/lib/python3.5/site-packages/autosklearn/evaluation/holdout_evaluator.py\", line 148, in eval_holdout\n",
      "    loss, opt_pred, valid_pred, test_pred = evaluator.fit_predict_and_loss()\n",
      "  File \"/Users/01017387/anaconda/lib/python3.5/site-packages/autosklearn/evaluation/holdout_evaluator.py\", line 60, in fit_predict_and_loss\n",
      "    return self.predict_and_loss()\n",
      "  File \"/Users/01017387/anaconda/lib/python3.5/site-packages/autosklearn/evaluation/holdout_evaluator.py\", line 115, in predict_and_loss\n",
      "    Y_optimization_pred, Y_valid_pred, Y_test_pred = self._predict()\n",
      "  File \"/Users/01017387/anaconda/lib/python3.5/site-packages/autosklearn/evaluation/holdout_evaluator.py\", line 98, in _predict\n",
      "    self.Y_train)\n",
      "  File \"/Users/01017387/anaconda/lib/python3.5/site-packages/autosklearn/evaluation/abstract_evaluator.py\", line 294, in _predict_regression\n",
      "    Y_pred = model.predict(X)\n",
      "  File \"/Users/01017387/anaconda/lib/python3.5/site-packages/autosklearn/pipeline/regression.py\", line 96, in predict\n",
      "    predict(X, batch_size=batch_size)\n",
      "  File \"/Users/01017387/anaconda/lib/python3.5/site-packages/autosklearn/pipeline/base.py\", line 174, in predict\n",
      "    return self.pipeline_.predict(X).astype(self._output_dtype)\n",
      "  File \"/Users/01017387/anaconda/lib/python3.5/site-packages/sklearn/utils/metaestimators.py\", line 37, in <lambda>\n",
      "    out = lambda *args, **kwargs: self.fn(obj, *args, **kwargs)\n",
      "  File \"/Users/01017387/anaconda/lib/python3.5/site-packages/sklearn/pipeline.py\", line 204, in predict\n",
      "    return self.steps[-1][-1].predict(Xt)\n",
      "  File \"/Users/01017387/anaconda/lib/python3.5/site-packages/autosklearn/pipeline/components/regression/k_nearest_neighbors.py\", line 30, in predict\n",
      "    return self.estimator.predict(X)\n",
      "  File \"/Users/01017387/anaconda/lib/python3.5/site-packages/sklearn/neighbors/regression.py\", line 144, in predict\n",
      "    neigh_dist, neigh_ind = self.kneighbors(X)\n",
      "  File \"/Users/01017387/anaconda/lib/python3.5/site-packages/sklearn/neighbors/base.py\", line 361, in kneighbors\n",
      "    (train_size, n_neighbors)\n",
      "ValueError: Expected n_neighbors <= n_samples,  but n_samples = 31, n_neighbors = 47\n",
      "You are already timing task: index_run10\n"
     ]
    },
    {
     "name": "stdout",
     "output_type": "stream",
     "text": [
      "n_components is too large: it will be set to 2\n",
      "n_components is too large: it will be set to 2\n",
      "n_components is too large: it will be set to 2\n",
      "n_components is too large: it will be set to 2\n"
     ]
    },
    {
     "name": "stderr",
     "output_type": "stream",
     "text": [
      "You are already timing task: index_run12\n",
      "You are already timing task: index_run13\n"
     ]
    },
    {
     "name": "stdout",
     "output_type": "stream",
     "text": [
      "n_components is too large: it will be set to 2\n"
     ]
    },
    {
     "name": "stderr",
     "output_type": "stream",
     "text": [
      "You are already timing task: index_run13\n",
      "You are already timing task: index_run13\n",
      "You are already timing task: index_run13\n",
      "Process pynisher function call:\n",
      "Traceback (most recent call last):\n",
      "  File \"/Users/01017387/anaconda/lib/python3.5/multiprocessing/process.py\", line 249, in _bootstrap\n",
      "    self.run()\n",
      "  File \"/Users/01017387/anaconda/lib/python3.5/multiprocessing/process.py\", line 93, in run\n",
      "    self._target(*self._args, **self._kwargs)\n",
      "  File \"/Users/01017387/anaconda/lib/python3.5/site-packages/pynisher/limit_function_call.py\", line 83, in subprocess_func\n",
      "    return_value = ((func(*args, **kwargs), 0))\n",
      "  File \"/Users/01017387/anaconda/lib/python3.5/site-packages/autosklearn/evaluation/holdout_evaluator.py\", line 148, in eval_holdout\n",
      "    loss, opt_pred, valid_pred, test_pred = evaluator.fit_predict_and_loss()\n",
      "  File \"/Users/01017387/anaconda/lib/python3.5/site-packages/autosklearn/evaluation/holdout_evaluator.py\", line 60, in fit_predict_and_loss\n",
      "    return self.predict_and_loss()\n",
      "  File \"/Users/01017387/anaconda/lib/python3.5/site-packages/autosklearn/evaluation/holdout_evaluator.py\", line 115, in predict_and_loss\n",
      "    Y_optimization_pred, Y_valid_pred, Y_test_pred = self._predict()\n",
      "  File \"/Users/01017387/anaconda/lib/python3.5/site-packages/autosklearn/evaluation/holdout_evaluator.py\", line 98, in _predict\n",
      "    self.Y_train)\n",
      "  File \"/Users/01017387/anaconda/lib/python3.5/site-packages/autosklearn/evaluation/abstract_evaluator.py\", line 294, in _predict_regression\n",
      "    Y_pred = model.predict(X)\n",
      "  File \"/Users/01017387/anaconda/lib/python3.5/site-packages/autosklearn/pipeline/regression.py\", line 96, in predict\n",
      "    predict(X, batch_size=batch_size)\n",
      "  File \"/Users/01017387/anaconda/lib/python3.5/site-packages/autosklearn/pipeline/base.py\", line 174, in predict\n",
      "    return self.pipeline_.predict(X).astype(self._output_dtype)\n",
      "  File \"/Users/01017387/anaconda/lib/python3.5/site-packages/sklearn/utils/metaestimators.py\", line 37, in <lambda>\n",
      "    out = lambda *args, **kwargs: self.fn(obj, *args, **kwargs)\n",
      "  File \"/Users/01017387/anaconda/lib/python3.5/site-packages/sklearn/pipeline.py\", line 204, in predict\n",
      "    return self.steps[-1][-1].predict(Xt)\n",
      "  File \"/Users/01017387/anaconda/lib/python3.5/site-packages/autosklearn/pipeline/components/regression/k_nearest_neighbors.py\", line 30, in predict\n",
      "    return self.estimator.predict(X)\n",
      "  File \"/Users/01017387/anaconda/lib/python3.5/site-packages/sklearn/neighbors/regression.py\", line 144, in predict\n",
      "    neigh_dist, neigh_ind = self.kneighbors(X)\n",
      "  File \"/Users/01017387/anaconda/lib/python3.5/site-packages/sklearn/neighbors/base.py\", line 361, in kneighbors\n",
      "    (train_size, n_neighbors)\n",
      "ValueError: Expected n_neighbors <= n_samples,  but n_samples = 31, n_neighbors = 62\n",
      "You are already timing task: index_run16\n",
      "You are already timing task: index_run16\n",
      "You are already timing task: index_run17\n",
      "You are already timing task: index_run18\n"
     ]
    },
    {
     "name": "stdout",
     "output_type": "stream",
     "text": [
      "n_components is too large: it will be set to 2\n"
     ]
    },
    {
     "name": "stderr",
     "output_type": "stream",
     "text": [
      "You are already timing task: index_run18\n"
     ]
    },
    {
     "name": "stdout",
     "output_type": "stream",
     "text": [
      "n_components is too large: it will be set to 2\n",
      "n_components is too large: it will be set to 2\n"
     ]
    },
    {
     "name": "stderr",
     "output_type": "stream",
     "text": [
      "You are already timing task: index_run19\n"
     ]
    },
    {
     "name": "stdout",
     "output_type": "stream",
     "text": [
      "n_components is too large: it will be set to 2\n"
     ]
    },
    {
     "name": "stderr",
     "output_type": "stream",
     "text": [
      "Process pynisher function call:\n",
      "Traceback (most recent call last):\n",
      "  File \"/Users/01017387/anaconda/lib/python3.5/multiprocessing/process.py\", line 249, in _bootstrap\n",
      "    self.run()\n",
      "  File \"/Users/01017387/anaconda/lib/python3.5/multiprocessing/process.py\", line 93, in run\n",
      "    self._target(*self._args, **self._kwargs)\n",
      "  File \"/Users/01017387/anaconda/lib/python3.5/site-packages/pynisher/limit_function_call.py\", line 83, in subprocess_func\n",
      "    return_value = ((func(*args, **kwargs), 0))\n",
      "  File \"/Users/01017387/anaconda/lib/python3.5/site-packages/autosklearn/evaluation/holdout_evaluator.py\", line 148, in eval_holdout\n",
      "    loss, opt_pred, valid_pred, test_pred = evaluator.fit_predict_and_loss()\n",
      "  File \"/Users/01017387/anaconda/lib/python3.5/site-packages/autosklearn/evaluation/holdout_evaluator.py\", line 60, in fit_predict_and_loss\n",
      "    return self.predict_and_loss()\n",
      "  File \"/Users/01017387/anaconda/lib/python3.5/site-packages/autosklearn/evaluation/holdout_evaluator.py\", line 115, in predict_and_loss\n",
      "    Y_optimization_pred, Y_valid_pred, Y_test_pred = self._predict()\n",
      "  File \"/Users/01017387/anaconda/lib/python3.5/site-packages/autosklearn/evaluation/holdout_evaluator.py\", line 98, in _predict\n",
      "    self.Y_train)\n",
      "  File \"/Users/01017387/anaconda/lib/python3.5/site-packages/autosklearn/evaluation/abstract_evaluator.py\", line 294, in _predict_regression\n",
      "    Y_pred = model.predict(X)\n",
      "  File \"/Users/01017387/anaconda/lib/python3.5/site-packages/autosklearn/pipeline/regression.py\", line 96, in predict\n",
      "    predict(X, batch_size=batch_size)\n",
      "  File \"/Users/01017387/anaconda/lib/python3.5/site-packages/autosklearn/pipeline/base.py\", line 174, in predict\n",
      "    return self.pipeline_.predict(X).astype(self._output_dtype)\n",
      "  File \"/Users/01017387/anaconda/lib/python3.5/site-packages/sklearn/utils/metaestimators.py\", line 37, in <lambda>\n",
      "    out = lambda *args, **kwargs: self.fn(obj, *args, **kwargs)\n",
      "  File \"/Users/01017387/anaconda/lib/python3.5/site-packages/sklearn/pipeline.py\", line 204, in predict\n",
      "    return self.steps[-1][-1].predict(Xt)\n",
      "  File \"/Users/01017387/anaconda/lib/python3.5/site-packages/autosklearn/pipeline/components/regression/k_nearest_neighbors.py\", line 30, in predict\n",
      "    return self.estimator.predict(X)\n",
      "  File \"/Users/01017387/anaconda/lib/python3.5/site-packages/sklearn/neighbors/regression.py\", line 144, in predict\n",
      "    neigh_dist, neigh_ind = self.kneighbors(X)\n",
      "  File \"/Users/01017387/anaconda/lib/python3.5/site-packages/sklearn/neighbors/base.py\", line 361, in kneighbors\n",
      "    (train_size, n_neighbors)\n",
      "ValueError: Expected n_neighbors <= n_samples,  but n_samples = 31, n_neighbors = 77\n",
      "You are already timing task: index_run20\n",
      "You are already timing task: index_run22\n",
      "You are already timing task: index_run23\n",
      "You are already timing task: index_run23\n",
      "You are already timing task: index_run23\n"
     ]
    },
    {
     "name": "stdout",
     "output_type": "stream",
     "text": [
      "n_components is too large: it will be set to 2\n"
     ]
    },
    {
     "name": "stderr",
     "output_type": "stream",
     "text": [
      "You are already timing task: index_run23\n",
      "You are already timing task: index_run23\n",
      "Process pynisher function call:\n",
      "Traceback (most recent call last):\n",
      "  File \"/Users/01017387/anaconda/lib/python3.5/multiprocessing/process.py\", line 249, in _bootstrap\n",
      "    self.run()\n",
      "  File \"/Users/01017387/anaconda/lib/python3.5/multiprocessing/process.py\", line 93, in run\n",
      "    self._target(*self._args, **self._kwargs)\n",
      "  File \"/Users/01017387/anaconda/lib/python3.5/site-packages/pynisher/limit_function_call.py\", line 83, in subprocess_func\n",
      "    return_value = ((func(*args, **kwargs), 0))\n",
      "  File \"/Users/01017387/anaconda/lib/python3.5/site-packages/autosklearn/evaluation/holdout_evaluator.py\", line 148, in eval_holdout\n",
      "    loss, opt_pred, valid_pred, test_pred = evaluator.fit_predict_and_loss()\n",
      "  File \"/Users/01017387/anaconda/lib/python3.5/site-packages/autosklearn/evaluation/holdout_evaluator.py\", line 60, in fit_predict_and_loss\n",
      "    return self.predict_and_loss()\n",
      "  File \"/Users/01017387/anaconda/lib/python3.5/site-packages/autosklearn/evaluation/holdout_evaluator.py\", line 115, in predict_and_loss\n",
      "    Y_optimization_pred, Y_valid_pred, Y_test_pred = self._predict()\n",
      "  File \"/Users/01017387/anaconda/lib/python3.5/site-packages/autosklearn/evaluation/holdout_evaluator.py\", line 98, in _predict\n",
      "    self.Y_train)\n",
      "  File \"/Users/01017387/anaconda/lib/python3.5/site-packages/autosklearn/evaluation/abstract_evaluator.py\", line 294, in _predict_regression\n",
      "    Y_pred = model.predict(X)\n",
      "  File \"/Users/01017387/anaconda/lib/python3.5/site-packages/autosklearn/pipeline/regression.py\", line 96, in predict\n",
      "    predict(X, batch_size=batch_size)\n",
      "  File \"/Users/01017387/anaconda/lib/python3.5/site-packages/autosklearn/pipeline/base.py\", line 174, in predict\n",
      "    return self.pipeline_.predict(X).astype(self._output_dtype)\n",
      "  File \"/Users/01017387/anaconda/lib/python3.5/site-packages/sklearn/utils/metaestimators.py\", line 37, in <lambda>\n",
      "    out = lambda *args, **kwargs: self.fn(obj, *args, **kwargs)\n",
      "  File \"/Users/01017387/anaconda/lib/python3.5/site-packages/sklearn/pipeline.py\", line 204, in predict\n",
      "    return self.steps[-1][-1].predict(Xt)\n",
      "  File \"/Users/01017387/anaconda/lib/python3.5/site-packages/autosklearn/pipeline/components/regression/k_nearest_neighbors.py\", line 30, in predict\n",
      "    return self.estimator.predict(X)\n",
      "  File \"/Users/01017387/anaconda/lib/python3.5/site-packages/sklearn/neighbors/regression.py\", line 144, in predict\n",
      "    neigh_dist, neigh_ind = self.kneighbors(X)\n",
      "  File \"/Users/01017387/anaconda/lib/python3.5/site-packages/sklearn/neighbors/base.py\", line 361, in kneighbors\n",
      "    (train_size, n_neighbors)\n",
      "ValueError: Expected n_neighbors <= n_samples,  but n_samples = 31, n_neighbors = 96\n",
      "You are already timing task: index_run24\n",
      "You are already timing task: index_run25\n",
      "You are already timing task: index_run25\n",
      "You are already timing task: index_run25\n"
     ]
    },
    {
     "name": "stdout",
     "output_type": "stream",
     "text": [
      "n_components is too large: it will be set to 2\n"
     ]
    },
    {
     "name": "stderr",
     "output_type": "stream",
     "text": [
      "You are already timing task: index_run25\n",
      "Process pynisher function call:\n",
      "Traceback (most recent call last):\n",
      "  File \"/Users/01017387/anaconda/lib/python3.5/site-packages/autosklearn/pipeline/components/feature_preprocessing/fast_ica.py\", line 33, in fit\n",
      "    self.preprocessor.fit(X)\n",
      "  File \"/Users/01017387/anaconda/lib/python3.5/site-packages/sklearn/decomposition/fastica_.py\", line 523, in fit\n",
      "    self._fit(X, compute_sources=False)\n",
      "  File \"/Users/01017387/anaconda/lib/python3.5/site-packages/sklearn/decomposition/fastica_.py\", line 479, in _fit\n",
      "    compute_sources=compute_sources, return_n_iter=True)\n",
      "  File \"/Users/01017387/anaconda/lib/python3.5/site-packages/sklearn/decomposition/fastica_.py\", line 335, in fastica\n",
      "    W, n_iter = _ica_par(X1, **kwargs)\n",
      "  File \"/Users/01017387/anaconda/lib/python3.5/site-packages/sklearn/decomposition/fastica_.py\", line 108, in _ica_par\n",
      "    - g_wtx[:, np.newaxis] * W)\n",
      "  File \"/Users/01017387/anaconda/lib/python3.5/site-packages/sklearn/decomposition/fastica_.py\", line 55, in _sym_decorrelation\n",
      "    s, u = linalg.eigh(np.dot(W, W.T))\n",
      "  File \"/Users/01017387/anaconda/lib/python3.5/site-packages/scipy/linalg/decomp.py\", line 288, in eigh\n",
      "    a1 = _asarray_validated(a, check_finite=check_finite)\n",
      "  File \"/Users/01017387/anaconda/lib/python3.5/site-packages/scipy/_lib/_util.py\", line 228, in _asarray_validated\n",
      "    a = toarray(a)\n",
      "  File \"/Users/01017387/anaconda/lib/python3.5/site-packages/numpy/lib/function_base.py\", line 1033, in asarray_chkfinite\n",
      "    \"array must not contain infs or NaNs\")\n",
      "ValueError: array must not contain infs or NaNs\n",
      "\n",
      "During handling of the above exception, another exception occurred:\n",
      "\n",
      "Traceback (most recent call last):\n",
      "  File \"/Users/01017387/anaconda/lib/python3.5/multiprocessing/process.py\", line 249, in _bootstrap\n",
      "    self.run()\n",
      "  File \"/Users/01017387/anaconda/lib/python3.5/multiprocessing/process.py\", line 93, in run\n",
      "    self._target(*self._args, **self._kwargs)\n",
      "  File \"/Users/01017387/anaconda/lib/python3.5/site-packages/pynisher/limit_function_call.py\", line 83, in subprocess_func\n",
      "    return_value = ((func(*args, **kwargs), 0))\n",
      "  File \"/Users/01017387/anaconda/lib/python3.5/site-packages/autosklearn/evaluation/holdout_evaluator.py\", line 148, in eval_holdout\n",
      "    loss, opt_pred, valid_pred, test_pred = evaluator.fit_predict_and_loss()\n",
      "  File \"/Users/01017387/anaconda/lib/python3.5/site-packages/autosklearn/evaluation/holdout_evaluator.py\", line 59, in fit_predict_and_loss\n",
      "    self._fit_and_suppress_warnings(self.model, X_train, Y_train)\n",
      "  File \"/Users/01017387/anaconda/lib/python3.5/site-packages/autosklearn/evaluation/abstract_evaluator.py\", line 335, in _fit_and_suppress_warnings\n",
      "    model = model.fit(X, y)\n",
      "  File \"/Users/01017387/anaconda/lib/python3.5/site-packages/autosklearn/pipeline/base.py\", line 62, in fit\n",
      "    init_params=init_params)\n",
      "  File \"/Users/01017387/anaconda/lib/python3.5/site-packages/autosklearn/pipeline/regression.py\", line 74, in pre_transform\n",
      "    X, Y, fit_params=fit_params, init_params=init_params)\n",
      "  File \"/Users/01017387/anaconda/lib/python3.5/site-packages/autosklearn/pipeline/base.py\", line 131, in pre_transform\n",
      "    X, fit_params = self.pipeline_._pre_transform(X, y, **fit_params)\n",
      "  File \"/Users/01017387/anaconda/lib/python3.5/site-packages/sklearn/pipeline.py\", line 147, in _pre_transform\n",
      "    Xt = transform.fit(Xt, y, **fit_params_steps[name]) \\\n",
      "  File \"/Users/01017387/anaconda/lib/python3.5/site-packages/autosklearn/pipeline/components/feature_preprocessing/fast_ica.py\", line 36, in fit\n",
      "    raise ValueError(\"Bug in scikit-learn: https://github.com/scikit-learn/scikit-learn/pull/2738\")\n",
      "ValueError: Bug in scikit-learn: https://github.com/scikit-learn/scikit-learn/pull/2738\n",
      "You are already timing task: index_run25\n"
     ]
    },
    {
     "name": "stdout",
     "output_type": "stream",
     "text": [
      "n_components is too large: it will be set to 2\n"
     ]
    },
    {
     "name": "stderr",
     "output_type": "stream",
     "text": [
      "You are already timing task: index_run25\n"
     ]
    },
    {
     "name": "stdout",
     "output_type": "stream",
     "text": [
      "n_components is too large: it will be set to 2\n"
     ]
    },
    {
     "name": "stderr",
     "output_type": "stream",
     "text": [
      "You are already timing task: index_run25\n",
      "Process pynisher function call:\n",
      "Traceback (most recent call last):\n",
      "  File \"/Users/01017387/anaconda/lib/python3.5/site-packages/autosklearn/pipeline/components/feature_preprocessing/fast_ica.py\", line 33, in fit\n",
      "    self.preprocessor.fit(X)\n",
      "  File \"/Users/01017387/anaconda/lib/python3.5/site-packages/sklearn/decomposition/fastica_.py\", line 523, in fit\n",
      "    self._fit(X, compute_sources=False)\n",
      "  File \"/Users/01017387/anaconda/lib/python3.5/site-packages/sklearn/decomposition/fastica_.py\", line 479, in _fit\n",
      "    compute_sources=compute_sources, return_n_iter=True)\n",
      "  File \"/Users/01017387/anaconda/lib/python3.5/site-packages/sklearn/decomposition/fastica_.py\", line 335, in fastica\n",
      "    W, n_iter = _ica_par(X1, **kwargs)\n",
      "  File \"/Users/01017387/anaconda/lib/python3.5/site-packages/sklearn/decomposition/fastica_.py\", line 108, in _ica_par\n",
      "    - g_wtx[:, np.newaxis] * W)\n",
      "  File \"/Users/01017387/anaconda/lib/python3.5/site-packages/sklearn/decomposition/fastica_.py\", line 55, in _sym_decorrelation\n",
      "    s, u = linalg.eigh(np.dot(W, W.T))\n",
      "  File \"/Users/01017387/anaconda/lib/python3.5/site-packages/scipy/linalg/decomp.py\", line 288, in eigh\n",
      "    a1 = _asarray_validated(a, check_finite=check_finite)\n",
      "  File \"/Users/01017387/anaconda/lib/python3.5/site-packages/scipy/_lib/_util.py\", line 228, in _asarray_validated\n",
      "    a = toarray(a)\n",
      "  File \"/Users/01017387/anaconda/lib/python3.5/site-packages/numpy/lib/function_base.py\", line 1033, in asarray_chkfinite\n",
      "    \"array must not contain infs or NaNs\")\n",
      "ValueError: array must not contain infs or NaNs\n",
      "\n",
      "During handling of the above exception, another exception occurred:\n",
      "\n",
      "Traceback (most recent call last):\n",
      "  File \"/Users/01017387/anaconda/lib/python3.5/multiprocessing/process.py\", line 249, in _bootstrap\n",
      "    self.run()\n",
      "  File \"/Users/01017387/anaconda/lib/python3.5/multiprocessing/process.py\", line 93, in run\n",
      "    self._target(*self._args, **self._kwargs)\n",
      "  File \"/Users/01017387/anaconda/lib/python3.5/site-packages/pynisher/limit_function_call.py\", line 83, in subprocess_func\n",
      "    return_value = ((func(*args, **kwargs), 0))\n",
      "  File \"/Users/01017387/anaconda/lib/python3.5/site-packages/autosklearn/evaluation/holdout_evaluator.py\", line 148, in eval_holdout\n",
      "    loss, opt_pred, valid_pred, test_pred = evaluator.fit_predict_and_loss()\n",
      "  File \"/Users/01017387/anaconda/lib/python3.5/site-packages/autosklearn/evaluation/holdout_evaluator.py\", line 59, in fit_predict_and_loss\n",
      "    self._fit_and_suppress_warnings(self.model, X_train, Y_train)\n",
      "  File \"/Users/01017387/anaconda/lib/python3.5/site-packages/autosklearn/evaluation/abstract_evaluator.py\", line 335, in _fit_and_suppress_warnings\n",
      "    model = model.fit(X, y)\n",
      "  File \"/Users/01017387/anaconda/lib/python3.5/site-packages/autosklearn/pipeline/base.py\", line 62, in fit\n",
      "    init_params=init_params)\n",
      "  File \"/Users/01017387/anaconda/lib/python3.5/site-packages/autosklearn/pipeline/regression.py\", line 74, in pre_transform\n",
      "    X, Y, fit_params=fit_params, init_params=init_params)\n",
      "  File \"/Users/01017387/anaconda/lib/python3.5/site-packages/autosklearn/pipeline/base.py\", line 131, in pre_transform\n",
      "    X, fit_params = self.pipeline_._pre_transform(X, y, **fit_params)\n",
      "  File \"/Users/01017387/anaconda/lib/python3.5/site-packages/sklearn/pipeline.py\", line 147, in _pre_transform\n",
      "    Xt = transform.fit(Xt, y, **fit_params_steps[name]) \\\n",
      "  File \"/Users/01017387/anaconda/lib/python3.5/site-packages/autosklearn/pipeline/components/feature_preprocessing/fast_ica.py\", line 36, in fit\n",
      "    raise ValueError(\"Bug in scikit-learn: https://github.com/scikit-learn/scikit-learn/pull/2738\")\n",
      "ValueError: Bug in scikit-learn: https://github.com/scikit-learn/scikit-learn/pull/2738\n",
      "You are already timing task: index_run25\n",
      "Process pynisher function call:\n",
      "Traceback (most recent call last):\n",
      "  File \"/Users/01017387/anaconda/lib/python3.5/site-packages/autosklearn/pipeline/components/feature_preprocessing/fast_ica.py\", line 33, in fit\n",
      "    self.preprocessor.fit(X)\n",
      "  File \"/Users/01017387/anaconda/lib/python3.5/site-packages/sklearn/decomposition/fastica_.py\", line 523, in fit\n",
      "    self._fit(X, compute_sources=False)\n",
      "  File \"/Users/01017387/anaconda/lib/python3.5/site-packages/sklearn/decomposition/fastica_.py\", line 479, in _fit\n",
      "    compute_sources=compute_sources, return_n_iter=True)\n",
      "  File \"/Users/01017387/anaconda/lib/python3.5/site-packages/sklearn/decomposition/fastica_.py\", line 335, in fastica\n",
      "    W, n_iter = _ica_par(X1, **kwargs)\n",
      "  File \"/Users/01017387/anaconda/lib/python3.5/site-packages/sklearn/decomposition/fastica_.py\", line 108, in _ica_par\n",
      "    - g_wtx[:, np.newaxis] * W)\n",
      "  File \"/Users/01017387/anaconda/lib/python3.5/site-packages/sklearn/decomposition/fastica_.py\", line 55, in _sym_decorrelation\n",
      "    s, u = linalg.eigh(np.dot(W, W.T))\n",
      "  File \"/Users/01017387/anaconda/lib/python3.5/site-packages/scipy/linalg/decomp.py\", line 288, in eigh\n",
      "    a1 = _asarray_validated(a, check_finite=check_finite)\n",
      "  File \"/Users/01017387/anaconda/lib/python3.5/site-packages/scipy/_lib/_util.py\", line 228, in _asarray_validated\n",
      "    a = toarray(a)\n",
      "  File \"/Users/01017387/anaconda/lib/python3.5/site-packages/numpy/lib/function_base.py\", line 1033, in asarray_chkfinite\n",
      "    \"array must not contain infs or NaNs\")\n",
      "ValueError: array must not contain infs or NaNs\n",
      "\n",
      "During handling of the above exception, another exception occurred:\n",
      "\n",
      "Traceback (most recent call last):\n",
      "  File \"/Users/01017387/anaconda/lib/python3.5/multiprocessing/process.py\", line 249, in _bootstrap\n",
      "    self.run()\n",
      "  File \"/Users/01017387/anaconda/lib/python3.5/multiprocessing/process.py\", line 93, in run\n",
      "    self._target(*self._args, **self._kwargs)\n",
      "  File \"/Users/01017387/anaconda/lib/python3.5/site-packages/pynisher/limit_function_call.py\", line 83, in subprocess_func\n",
      "    return_value = ((func(*args, **kwargs), 0))\n",
      "  File \"/Users/01017387/anaconda/lib/python3.5/site-packages/autosklearn/evaluation/holdout_evaluator.py\", line 148, in eval_holdout\n",
      "    loss, opt_pred, valid_pred, test_pred = evaluator.fit_predict_and_loss()\n",
      "  File \"/Users/01017387/anaconda/lib/python3.5/site-packages/autosklearn/evaluation/holdout_evaluator.py\", line 59, in fit_predict_and_loss\n",
      "    self._fit_and_suppress_warnings(self.model, X_train, Y_train)\n",
      "  File \"/Users/01017387/anaconda/lib/python3.5/site-packages/autosklearn/evaluation/abstract_evaluator.py\", line 335, in _fit_and_suppress_warnings\n",
      "    model = model.fit(X, y)\n",
      "  File \"/Users/01017387/anaconda/lib/python3.5/site-packages/autosklearn/pipeline/base.py\", line 62, in fit\n",
      "    init_params=init_params)\n",
      "  File \"/Users/01017387/anaconda/lib/python3.5/site-packages/autosklearn/pipeline/regression.py\", line 74, in pre_transform\n",
      "    X, Y, fit_params=fit_params, init_params=init_params)\n",
      "  File \"/Users/01017387/anaconda/lib/python3.5/site-packages/autosklearn/pipeline/base.py\", line 131, in pre_transform\n",
      "    X, fit_params = self.pipeline_._pre_transform(X, y, **fit_params)\n",
      "  File \"/Users/01017387/anaconda/lib/python3.5/site-packages/sklearn/pipeline.py\", line 147, in _pre_transform\n",
      "    Xt = transform.fit(Xt, y, **fit_params_steps[name]) \\\n",
      "  File \"/Users/01017387/anaconda/lib/python3.5/site-packages/autosklearn/pipeline/components/feature_preprocessing/fast_ica.py\", line 36, in fit\n",
      "    raise ValueError(\"Bug in scikit-learn: https://github.com/scikit-learn/scikit-learn/pull/2738\")\n",
      "ValueError: Bug in scikit-learn: https://github.com/scikit-learn/scikit-learn/pull/2738\n",
      "You are already timing task: index_run25\n",
      "You are already timing task: index_run25\n",
      "You are already timing task: index_run25\n",
      "Process pynisher function call:\n",
      "Traceback (most recent call last):\n",
      "  File \"/Users/01017387/anaconda/lib/python3.5/multiprocessing/process.py\", line 249, in _bootstrap\n",
      "    self.run()\n",
      "  File \"/Users/01017387/anaconda/lib/python3.5/multiprocessing/process.py\", line 93, in run\n",
      "    self._target(*self._args, **self._kwargs)\n",
      "  File \"/Users/01017387/anaconda/lib/python3.5/site-packages/pynisher/limit_function_call.py\", line 83, in subprocess_func\n",
      "    return_value = ((func(*args, **kwargs), 0))\n",
      "  File \"/Users/01017387/anaconda/lib/python3.5/site-packages/autosklearn/evaluation/holdout_evaluator.py\", line 148, in eval_holdout\n",
      "    loss, opt_pred, valid_pred, test_pred = evaluator.fit_predict_and_loss()\n",
      "  File \"/Users/01017387/anaconda/lib/python3.5/site-packages/autosklearn/evaluation/holdout_evaluator.py\", line 60, in fit_predict_and_loss\n",
      "    return self.predict_and_loss()\n",
      "  File \"/Users/01017387/anaconda/lib/python3.5/site-packages/autosklearn/evaluation/holdout_evaluator.py\", line 115, in predict_and_loss\n",
      "    Y_optimization_pred, Y_valid_pred, Y_test_pred = self._predict()\n",
      "  File \"/Users/01017387/anaconda/lib/python3.5/site-packages/autosklearn/evaluation/holdout_evaluator.py\", line 98, in _predict\n",
      "    self.Y_train)\n",
      "  File \"/Users/01017387/anaconda/lib/python3.5/site-packages/autosklearn/evaluation/abstract_evaluator.py\", line 294, in _predict_regression\n",
      "    Y_pred = model.predict(X)\n",
      "  File \"/Users/01017387/anaconda/lib/python3.5/site-packages/autosklearn/pipeline/regression.py\", line 96, in predict\n",
      "    predict(X, batch_size=batch_size)\n",
      "  File \"/Users/01017387/anaconda/lib/python3.5/site-packages/autosklearn/pipeline/base.py\", line 174, in predict\n",
      "    return self.pipeline_.predict(X).astype(self._output_dtype)\n",
      "  File \"/Users/01017387/anaconda/lib/python3.5/site-packages/sklearn/utils/metaestimators.py\", line 37, in <lambda>\n",
      "    out = lambda *args, **kwargs: self.fn(obj, *args, **kwargs)\n",
      "  File \"/Users/01017387/anaconda/lib/python3.5/site-packages/sklearn/pipeline.py\", line 204, in predict\n",
      "    return self.steps[-1][-1].predict(Xt)\n",
      "  File \"/Users/01017387/anaconda/lib/python3.5/site-packages/autosklearn/pipeline/components/regression/k_nearest_neighbors.py\", line 30, in predict\n",
      "    return self.estimator.predict(X)\n",
      "  File \"/Users/01017387/anaconda/lib/python3.5/site-packages/sklearn/neighbors/regression.py\", line 144, in predict\n",
      "    neigh_dist, neigh_ind = self.kneighbors(X)\n",
      "  File \"/Users/01017387/anaconda/lib/python3.5/site-packages/sklearn/neighbors/base.py\", line 361, in kneighbors\n",
      "    (train_size, n_neighbors)\n",
      "ValueError: Expected n_neighbors <= n_samples,  but n_samples = 31, n_neighbors = 49\n",
      "You are already timing task: index_run25\n",
      "You are already timing task: index_run25\n",
      "You are already timing task: index_run25\n"
     ]
    },
    {
     "name": "stdout",
     "output_type": "stream",
     "text": [
      "n_components is too large: it will be set to 2\n",
      "n_components is too large: it will be set to 2\n",
      "n_components is too large: it will be set to 2\n"
     ]
    },
    {
     "name": "stderr",
     "output_type": "stream",
     "text": [
      "You are already timing task: index_run25\n"
     ]
    },
    {
     "name": "stdout",
     "output_type": "stream",
     "text": [
      "n_components is too large: it will be set to 2\n"
     ]
    },
    {
     "name": "stderr",
     "output_type": "stream",
     "text": [
      "You are already timing task: index_run25\n"
     ]
    },
    {
     "name": "stdout",
     "output_type": "stream",
     "text": [
      "n_components is too large: it will be set to 2\n"
     ]
    },
    {
     "name": "stderr",
     "output_type": "stream",
     "text": [
      "You are already timing task: index_run25\n",
      "Process pynisher function call:\n",
      "Traceback (most recent call last):\n",
      "  File \"/Users/01017387/anaconda/lib/python3.5/site-packages/autosklearn/pipeline/components/feature_preprocessing/fast_ica.py\", line 33, in fit\n",
      "    self.preprocessor.fit(X)\n",
      "  File \"/Users/01017387/anaconda/lib/python3.5/site-packages/sklearn/decomposition/fastica_.py\", line 523, in fit\n",
      "    self._fit(X, compute_sources=False)\n",
      "  File \"/Users/01017387/anaconda/lib/python3.5/site-packages/sklearn/decomposition/fastica_.py\", line 479, in _fit\n",
      "    compute_sources=compute_sources, return_n_iter=True)\n",
      "  File \"/Users/01017387/anaconda/lib/python3.5/site-packages/sklearn/decomposition/fastica_.py\", line 335, in fastica\n",
      "    W, n_iter = _ica_par(X1, **kwargs)\n",
      "  File \"/Users/01017387/anaconda/lib/python3.5/site-packages/sklearn/decomposition/fastica_.py\", line 108, in _ica_par\n",
      "    - g_wtx[:, np.newaxis] * W)\n",
      "  File \"/Users/01017387/anaconda/lib/python3.5/site-packages/sklearn/decomposition/fastica_.py\", line 55, in _sym_decorrelation\n",
      "    s, u = linalg.eigh(np.dot(W, W.T))\n",
      "  File \"/Users/01017387/anaconda/lib/python3.5/site-packages/scipy/linalg/decomp.py\", line 288, in eigh\n",
      "    a1 = _asarray_validated(a, check_finite=check_finite)\n",
      "  File \"/Users/01017387/anaconda/lib/python3.5/site-packages/scipy/_lib/_util.py\", line 228, in _asarray_validated\n",
      "    a = toarray(a)\n",
      "  File \"/Users/01017387/anaconda/lib/python3.5/site-packages/numpy/lib/function_base.py\", line 1033, in asarray_chkfinite\n",
      "    \"array must not contain infs or NaNs\")\n",
      "ValueError: array must not contain infs or NaNs\n",
      "\n",
      "During handling of the above exception, another exception occurred:\n",
      "\n",
      "Traceback (most recent call last):\n",
      "  File \"/Users/01017387/anaconda/lib/python3.5/multiprocessing/process.py\", line 249, in _bootstrap\n",
      "    self.run()\n",
      "  File \"/Users/01017387/anaconda/lib/python3.5/multiprocessing/process.py\", line 93, in run\n",
      "    self._target(*self._args, **self._kwargs)\n",
      "  File \"/Users/01017387/anaconda/lib/python3.5/site-packages/pynisher/limit_function_call.py\", line 83, in subprocess_func\n",
      "    return_value = ((func(*args, **kwargs), 0))\n",
      "  File \"/Users/01017387/anaconda/lib/python3.5/site-packages/autosklearn/evaluation/holdout_evaluator.py\", line 148, in eval_holdout\n",
      "    loss, opt_pred, valid_pred, test_pred = evaluator.fit_predict_and_loss()\n",
      "  File \"/Users/01017387/anaconda/lib/python3.5/site-packages/autosklearn/evaluation/holdout_evaluator.py\", line 59, in fit_predict_and_loss\n",
      "    self._fit_and_suppress_warnings(self.model, X_train, Y_train)\n",
      "  File \"/Users/01017387/anaconda/lib/python3.5/site-packages/autosklearn/evaluation/abstract_evaluator.py\", line 335, in _fit_and_suppress_warnings\n",
      "    model = model.fit(X, y)\n",
      "  File \"/Users/01017387/anaconda/lib/python3.5/site-packages/autosklearn/pipeline/base.py\", line 62, in fit\n",
      "    init_params=init_params)\n",
      "  File \"/Users/01017387/anaconda/lib/python3.5/site-packages/autosklearn/pipeline/regression.py\", line 74, in pre_transform\n",
      "    X, Y, fit_params=fit_params, init_params=init_params)\n",
      "  File \"/Users/01017387/anaconda/lib/python3.5/site-packages/autosklearn/pipeline/base.py\", line 131, in pre_transform\n",
      "    X, fit_params = self.pipeline_._pre_transform(X, y, **fit_params)\n",
      "  File \"/Users/01017387/anaconda/lib/python3.5/site-packages/sklearn/pipeline.py\", line 147, in _pre_transform\n",
      "    Xt = transform.fit(Xt, y, **fit_params_steps[name]) \\\n",
      "  File \"/Users/01017387/anaconda/lib/python3.5/site-packages/autosklearn/pipeline/components/feature_preprocessing/fast_ica.py\", line 36, in fit\n",
      "    raise ValueError(\"Bug in scikit-learn: https://github.com/scikit-learn/scikit-learn/pull/2738\")\n",
      "ValueError: Bug in scikit-learn: https://github.com/scikit-learn/scikit-learn/pull/2738\n"
     ]
    },
    {
     "name": "stdout",
     "output_type": "stream",
     "text": [
      "n_components is too large: it will be set to 2\n"
     ]
    },
    {
     "name": "stderr",
     "output_type": "stream",
     "text": [
      "You are already timing task: index_run25\n"
     ]
    },
    {
     "name": "stdout",
     "output_type": "stream",
     "text": [
      "n_components is too large: it will be set to 2\n",
      "n_components is too large: it will be set to 2\n",
      "n_components is too large: it will be set to 2\n"
     ]
    },
    {
     "name": "stderr",
     "output_type": "stream",
     "text": [
      "You are already timing task: index_run25\n"
     ]
    },
    {
     "name": "stdout",
     "output_type": "stream",
     "text": [
      "n_components is too large: it will be set to 2\n",
      "n_components is too large: it will be set to 2\n"
     ]
    },
    {
     "name": "stderr",
     "output_type": "stream",
     "text": [
      "You are already timing task: index_run25\n",
      "You are already timing task: index_run25\n",
      "You are already timing task: index_run25\n",
      "You are already timing task: index_run25\n"
     ]
    },
    {
     "name": "stdout",
     "output_type": "stream",
     "text": [
      "n_components is too large: it will be set to 2\n"
     ]
    },
    {
     "name": "stderr",
     "output_type": "stream",
     "text": [
      "You are already timing task: index_run25\n"
     ]
    },
    {
     "name": "stdout",
     "output_type": "stream",
     "text": [
      "n_components is too large: it will be set to 2\n"
     ]
    },
    {
     "name": "stderr",
     "output_type": "stream",
     "text": [
      "You are already timing task: index_run25\n",
      "You are already timing task: index_run25\n"
     ]
    },
    {
     "name": "stdout",
     "output_type": "stream",
     "text": [
      "n_components is too large: it will be set to 2\n"
     ]
    },
    {
     "name": "stderr",
     "output_type": "stream",
     "text": [
      "You are already timing task: index_run25\n"
     ]
    },
    {
     "name": "stdout",
     "output_type": "stream",
     "text": [
      "n_components is too large: it will be set to 2\n",
      "n_components is too large: it will be set to 2\n"
     ]
    },
    {
     "name": "stderr",
     "output_type": "stream",
     "text": [
      "You are already timing task: index_run25\n"
     ]
    },
    {
     "name": "stdout",
     "output_type": "stream",
     "text": [
      "n_components is too large: it will be set to 2\n"
     ]
    },
    {
     "name": "stderr",
     "output_type": "stream",
     "text": [
      "You are already timing task: index_run26\n",
      "You are already timing task: index_run27\n"
     ]
    },
    {
     "name": "stdout",
     "output_type": "stream",
     "text": [
      "n_components is too large: it will be set to 2\n"
     ]
    },
    {
     "name": "stderr",
     "output_type": "stream",
     "text": [
      "You are already timing task: index_run27\n",
      "You are already timing task: index_run27\n"
     ]
    },
    {
     "name": "stdout",
     "output_type": "stream",
     "text": [
      "n_components is too large: it will be set to 2\n",
      "n_components is too large: it will be set to 2\n"
     ]
    },
    {
     "name": "stderr",
     "output_type": "stream",
     "text": [
      "Process pynisher function call:\n",
      "Traceback (most recent call last):\n",
      "  File \"/Users/01017387/anaconda/lib/python3.5/multiprocessing/process.py\", line 249, in _bootstrap\n",
      "    self.run()\n",
      "  File \"/Users/01017387/anaconda/lib/python3.5/multiprocessing/process.py\", line 93, in run\n",
      "    self._target(*self._args, **self._kwargs)\n",
      "  File \"/Users/01017387/anaconda/lib/python3.5/site-packages/pynisher/limit_function_call.py\", line 83, in subprocess_func\n",
      "    return_value = ((func(*args, **kwargs), 0))\n",
      "  File \"/Users/01017387/anaconda/lib/python3.5/site-packages/autosklearn/evaluation/holdout_evaluator.py\", line 148, in eval_holdout\n",
      "    loss, opt_pred, valid_pred, test_pred = evaluator.fit_predict_and_loss()\n",
      "  File \"/Users/01017387/anaconda/lib/python3.5/site-packages/autosklearn/evaluation/holdout_evaluator.py\", line 60, in fit_predict_and_loss\n",
      "    return self.predict_and_loss()\n",
      "  File \"/Users/01017387/anaconda/lib/python3.5/site-packages/autosklearn/evaluation/holdout_evaluator.py\", line 115, in predict_and_loss\n",
      "    Y_optimization_pred, Y_valid_pred, Y_test_pred = self._predict()\n",
      "  File \"/Users/01017387/anaconda/lib/python3.5/site-packages/autosklearn/evaluation/holdout_evaluator.py\", line 98, in _predict\n",
      "    self.Y_train)\n",
      "  File \"/Users/01017387/anaconda/lib/python3.5/site-packages/autosklearn/evaluation/abstract_evaluator.py\", line 294, in _predict_regression\n",
      "    Y_pred = model.predict(X)\n",
      "  File \"/Users/01017387/anaconda/lib/python3.5/site-packages/autosklearn/pipeline/regression.py\", line 96, in predict\n",
      "    predict(X, batch_size=batch_size)\n",
      "  File \"/Users/01017387/anaconda/lib/python3.5/site-packages/autosklearn/pipeline/base.py\", line 174, in predict\n",
      "    return self.pipeline_.predict(X).astype(self._output_dtype)\n",
      "  File \"/Users/01017387/anaconda/lib/python3.5/site-packages/sklearn/utils/metaestimators.py\", line 37, in <lambda>\n",
      "    out = lambda *args, **kwargs: self.fn(obj, *args, **kwargs)\n",
      "  File \"/Users/01017387/anaconda/lib/python3.5/site-packages/sklearn/pipeline.py\", line 204, in predict\n",
      "    return self.steps[-1][-1].predict(Xt)\n",
      "  File \"/Users/01017387/anaconda/lib/python3.5/site-packages/autosklearn/pipeline/components/regression/k_nearest_neighbors.py\", line 30, in predict\n",
      "    return self.estimator.predict(X)\n",
      "  File \"/Users/01017387/anaconda/lib/python3.5/site-packages/sklearn/neighbors/regression.py\", line 144, in predict\n",
      "    neigh_dist, neigh_ind = self.kneighbors(X)\n",
      "  File \"/Users/01017387/anaconda/lib/python3.5/site-packages/sklearn/neighbors/base.py\", line 361, in kneighbors\n",
      "    (train_size, n_neighbors)\n",
      "ValueError: Expected n_neighbors <= n_samples,  but n_samples = 31, n_neighbors = 45\n",
      "You are already timing task: index_run27\n"
     ]
    },
    {
     "name": "stdout",
     "output_type": "stream",
     "text": [
      "n_components is too large: it will be set to 2\n"
     ]
    },
    {
     "name": "stderr",
     "output_type": "stream",
     "text": [
      "You are already timing task: index_run27\n"
     ]
    },
    {
     "name": "stdout",
     "output_type": "stream",
     "text": [
      "n_components is too large: it will be set to 2\n"
     ]
    },
    {
     "name": "stderr",
     "output_type": "stream",
     "text": [
      "You are already timing task: index_run27\n",
      "You are already timing task: index_run27\n",
      "Process pynisher function call:\n",
      "Traceback (most recent call last):\n",
      "  File \"/Users/01017387/anaconda/lib/python3.5/site-packages/autosklearn/pipeline/components/feature_preprocessing/fast_ica.py\", line 33, in fit\n",
      "    self.preprocessor.fit(X)\n",
      "  File \"/Users/01017387/anaconda/lib/python3.5/site-packages/sklearn/decomposition/fastica_.py\", line 523, in fit\n",
      "    self._fit(X, compute_sources=False)\n",
      "  File \"/Users/01017387/anaconda/lib/python3.5/site-packages/sklearn/decomposition/fastica_.py\", line 479, in _fit\n",
      "    compute_sources=compute_sources, return_n_iter=True)\n",
      "  File \"/Users/01017387/anaconda/lib/python3.5/site-packages/sklearn/decomposition/fastica_.py\", line 335, in fastica\n",
      "    W, n_iter = _ica_par(X1, **kwargs)\n",
      "  File \"/Users/01017387/anaconda/lib/python3.5/site-packages/sklearn/decomposition/fastica_.py\", line 108, in _ica_par\n",
      "    - g_wtx[:, np.newaxis] * W)\n",
      "  File \"/Users/01017387/anaconda/lib/python3.5/site-packages/sklearn/decomposition/fastica_.py\", line 55, in _sym_decorrelation\n",
      "    s, u = linalg.eigh(np.dot(W, W.T))\n",
      "  File \"/Users/01017387/anaconda/lib/python3.5/site-packages/scipy/linalg/decomp.py\", line 288, in eigh\n",
      "    a1 = _asarray_validated(a, check_finite=check_finite)\n",
      "  File \"/Users/01017387/anaconda/lib/python3.5/site-packages/scipy/_lib/_util.py\", line 228, in _asarray_validated\n",
      "    a = toarray(a)\n",
      "  File \"/Users/01017387/anaconda/lib/python3.5/site-packages/numpy/lib/function_base.py\", line 1033, in asarray_chkfinite\n",
      "    \"array must not contain infs or NaNs\")\n",
      "ValueError: array must not contain infs or NaNs\n",
      "\n",
      "During handling of the above exception, another exception occurred:\n",
      "\n",
      "Traceback (most recent call last):\n",
      "  File \"/Users/01017387/anaconda/lib/python3.5/multiprocessing/process.py\", line 249, in _bootstrap\n",
      "    self.run()\n",
      "  File \"/Users/01017387/anaconda/lib/python3.5/multiprocessing/process.py\", line 93, in run\n",
      "    self._target(*self._args, **self._kwargs)\n",
      "  File \"/Users/01017387/anaconda/lib/python3.5/site-packages/pynisher/limit_function_call.py\", line 83, in subprocess_func\n",
      "    return_value = ((func(*args, **kwargs), 0))\n",
      "  File \"/Users/01017387/anaconda/lib/python3.5/site-packages/autosklearn/evaluation/holdout_evaluator.py\", line 148, in eval_holdout\n",
      "    loss, opt_pred, valid_pred, test_pred = evaluator.fit_predict_and_loss()\n",
      "  File \"/Users/01017387/anaconda/lib/python3.5/site-packages/autosklearn/evaluation/holdout_evaluator.py\", line 59, in fit_predict_and_loss\n",
      "    self._fit_and_suppress_warnings(self.model, X_train, Y_train)\n",
      "  File \"/Users/01017387/anaconda/lib/python3.5/site-packages/autosklearn/evaluation/abstract_evaluator.py\", line 335, in _fit_and_suppress_warnings\n",
      "    model = model.fit(X, y)\n",
      "  File \"/Users/01017387/anaconda/lib/python3.5/site-packages/autosklearn/pipeline/base.py\", line 62, in fit\n",
      "    init_params=init_params)\n",
      "  File \"/Users/01017387/anaconda/lib/python3.5/site-packages/autosklearn/pipeline/regression.py\", line 74, in pre_transform\n",
      "    X, Y, fit_params=fit_params, init_params=init_params)\n",
      "  File \"/Users/01017387/anaconda/lib/python3.5/site-packages/autosklearn/pipeline/base.py\", line 131, in pre_transform\n",
      "    X, fit_params = self.pipeline_._pre_transform(X, y, **fit_params)\n",
      "  File \"/Users/01017387/anaconda/lib/python3.5/site-packages/sklearn/pipeline.py\", line 147, in _pre_transform\n",
      "    Xt = transform.fit(Xt, y, **fit_params_steps[name]) \\\n",
      "  File \"/Users/01017387/anaconda/lib/python3.5/site-packages/autosklearn/pipeline/components/feature_preprocessing/fast_ica.py\", line 36, in fit\n",
      "    raise ValueError(\"Bug in scikit-learn: https://github.com/scikit-learn/scikit-learn/pull/2738\")\n",
      "ValueError: Bug in scikit-learn: https://github.com/scikit-learn/scikit-learn/pull/2738\n",
      "You are already timing task: index_run27\n",
      "You are already timing task: index_run27\n",
      "Process pynisher function call:\n",
      "Traceback (most recent call last):\n",
      "  File \"/Users/01017387/anaconda/lib/python3.5/site-packages/autosklearn/pipeline/components/feature_preprocessing/fast_ica.py\", line 33, in fit\n",
      "    self.preprocessor.fit(X)\n",
      "  File \"/Users/01017387/anaconda/lib/python3.5/site-packages/sklearn/decomposition/fastica_.py\", line 523, in fit\n",
      "    self._fit(X, compute_sources=False)\n",
      "  File \"/Users/01017387/anaconda/lib/python3.5/site-packages/sklearn/decomposition/fastica_.py\", line 479, in _fit\n",
      "    compute_sources=compute_sources, return_n_iter=True)\n",
      "  File \"/Users/01017387/anaconda/lib/python3.5/site-packages/sklearn/decomposition/fastica_.py\", line 335, in fastica\n",
      "    W, n_iter = _ica_par(X1, **kwargs)\n",
      "  File \"/Users/01017387/anaconda/lib/python3.5/site-packages/sklearn/decomposition/fastica_.py\", line 108, in _ica_par\n",
      "    - g_wtx[:, np.newaxis] * W)\n",
      "  File \"/Users/01017387/anaconda/lib/python3.5/site-packages/sklearn/decomposition/fastica_.py\", line 55, in _sym_decorrelation\n",
      "    s, u = linalg.eigh(np.dot(W, W.T))\n",
      "  File \"/Users/01017387/anaconda/lib/python3.5/site-packages/scipy/linalg/decomp.py\", line 288, in eigh\n",
      "    a1 = _asarray_validated(a, check_finite=check_finite)\n",
      "  File \"/Users/01017387/anaconda/lib/python3.5/site-packages/scipy/_lib/_util.py\", line 228, in _asarray_validated\n",
      "    a = toarray(a)\n",
      "  File \"/Users/01017387/anaconda/lib/python3.5/site-packages/numpy/lib/function_base.py\", line 1033, in asarray_chkfinite\n",
      "    \"array must not contain infs or NaNs\")\n",
      "ValueError: array must not contain infs or NaNs\n",
      "\n",
      "During handling of the above exception, another exception occurred:\n",
      "\n",
      "Traceback (most recent call last):\n",
      "  File \"/Users/01017387/anaconda/lib/python3.5/multiprocessing/process.py\", line 249, in _bootstrap\n",
      "    self.run()\n",
      "  File \"/Users/01017387/anaconda/lib/python3.5/multiprocessing/process.py\", line 93, in run\n",
      "    self._target(*self._args, **self._kwargs)\n",
      "  File \"/Users/01017387/anaconda/lib/python3.5/site-packages/pynisher/limit_function_call.py\", line 83, in subprocess_func\n",
      "    return_value = ((func(*args, **kwargs), 0))\n",
      "  File \"/Users/01017387/anaconda/lib/python3.5/site-packages/autosklearn/evaluation/holdout_evaluator.py\", line 148, in eval_holdout\n",
      "    loss, opt_pred, valid_pred, test_pred = evaluator.fit_predict_and_loss()\n",
      "  File \"/Users/01017387/anaconda/lib/python3.5/site-packages/autosklearn/evaluation/holdout_evaluator.py\", line 59, in fit_predict_and_loss\n",
      "    self._fit_and_suppress_warnings(self.model, X_train, Y_train)\n",
      "  File \"/Users/01017387/anaconda/lib/python3.5/site-packages/autosklearn/evaluation/abstract_evaluator.py\", line 335, in _fit_and_suppress_warnings\n",
      "    model = model.fit(X, y)\n",
      "  File \"/Users/01017387/anaconda/lib/python3.5/site-packages/autosklearn/pipeline/base.py\", line 62, in fit\n",
      "    init_params=init_params)\n",
      "  File \"/Users/01017387/anaconda/lib/python3.5/site-packages/autosklearn/pipeline/regression.py\", line 74, in pre_transform\n",
      "    X, Y, fit_params=fit_params, init_params=init_params)\n",
      "  File \"/Users/01017387/anaconda/lib/python3.5/site-packages/autosklearn/pipeline/base.py\", line 131, in pre_transform\n",
      "    X, fit_params = self.pipeline_._pre_transform(X, y, **fit_params)\n",
      "  File \"/Users/01017387/anaconda/lib/python3.5/site-packages/sklearn/pipeline.py\", line 147, in _pre_transform\n",
      "    Xt = transform.fit(Xt, y, **fit_params_steps[name]) \\\n",
      "  File \"/Users/01017387/anaconda/lib/python3.5/site-packages/autosklearn/pipeline/components/feature_preprocessing/fast_ica.py\", line 36, in fit\n",
      "    raise ValueError(\"Bug in scikit-learn: https://github.com/scikit-learn/scikit-learn/pull/2738\")\n",
      "ValueError: Bug in scikit-learn: https://github.com/scikit-learn/scikit-learn/pull/2738\n",
      "You are already timing task: index_run27\n",
      "You are already timing task: index_run27\n"
     ]
    },
    {
     "name": "stdout",
     "output_type": "stream",
     "text": [
      "n_components is too large: it will be set to 2\n"
     ]
    },
    {
     "name": "stderr",
     "output_type": "stream",
     "text": [
      "You are already timing task: index_run27\n"
     ]
    },
    {
     "name": "stdout",
     "output_type": "stream",
     "text": [
      "n_components is too large: it will be set to 2\n"
     ]
    },
    {
     "name": "stderr",
     "output_type": "stream",
     "text": [
      "You are already timing task: index_run27\n",
      "You are already timing task: index_run27\n"
     ]
    },
    {
     "name": "stdout",
     "output_type": "stream",
     "text": [
      "n_components is too large: it will be set to 2\n"
     ]
    },
    {
     "name": "stderr",
     "output_type": "stream",
     "text": [
      "You are already timing task: index_run27\n",
      "You are already timing task: index_run27\n"
     ]
    },
    {
     "name": "stdout",
     "output_type": "stream",
     "text": [
      "n_components is too large: it will be set to 2\n",
      "n_components is too large: it will be set to 2\n"
     ]
    },
    {
     "name": "stderr",
     "output_type": "stream",
     "text": [
      "You are already timing task: index_run27\n"
     ]
    },
    {
     "name": "stdout",
     "output_type": "stream",
     "text": [
      "n_components is too large: it will be set to 2\n"
     ]
    },
    {
     "name": "stderr",
     "output_type": "stream",
     "text": [
      "You are already timing task: index_run27\n",
      "You are already timing task: index_run27\n",
      "Process pynisher function call:\n",
      "Traceback (most recent call last):\n",
      "  File \"/Users/01017387/anaconda/lib/python3.5/multiprocessing/process.py\", line 249, in _bootstrap\n",
      "    self.run()\n",
      "  File \"/Users/01017387/anaconda/lib/python3.5/multiprocessing/process.py\", line 93, in run\n",
      "    self._target(*self._args, **self._kwargs)\n",
      "  File \"/Users/01017387/anaconda/lib/python3.5/site-packages/pynisher/limit_function_call.py\", line 83, in subprocess_func\n",
      "    return_value = ((func(*args, **kwargs), 0))\n",
      "  File \"/Users/01017387/anaconda/lib/python3.5/site-packages/autosklearn/evaluation/holdout_evaluator.py\", line 148, in eval_holdout\n",
      "    loss, opt_pred, valid_pred, test_pred = evaluator.fit_predict_and_loss()\n",
      "  File \"/Users/01017387/anaconda/lib/python3.5/site-packages/autosklearn/evaluation/holdout_evaluator.py\", line 60, in fit_predict_and_loss\n",
      "    return self.predict_and_loss()\n",
      "  File \"/Users/01017387/anaconda/lib/python3.5/site-packages/autosklearn/evaluation/holdout_evaluator.py\", line 115, in predict_and_loss\n",
      "    Y_optimization_pred, Y_valid_pred, Y_test_pred = self._predict()\n",
      "  File \"/Users/01017387/anaconda/lib/python3.5/site-packages/autosklearn/evaluation/holdout_evaluator.py\", line 98, in _predict\n",
      "    self.Y_train)\n",
      "  File \"/Users/01017387/anaconda/lib/python3.5/site-packages/autosklearn/evaluation/abstract_evaluator.py\", line 294, in _predict_regression\n",
      "    Y_pred = model.predict(X)\n",
      "  File \"/Users/01017387/anaconda/lib/python3.5/site-packages/autosklearn/pipeline/regression.py\", line 96, in predict\n",
      "    predict(X, batch_size=batch_size)\n",
      "  File \"/Users/01017387/anaconda/lib/python3.5/site-packages/autosklearn/pipeline/base.py\", line 174, in predict\n",
      "    return self.pipeline_.predict(X).astype(self._output_dtype)\n",
      "  File \"/Users/01017387/anaconda/lib/python3.5/site-packages/sklearn/utils/metaestimators.py\", line 37, in <lambda>\n",
      "    out = lambda *args, **kwargs: self.fn(obj, *args, **kwargs)\n",
      "  File \"/Users/01017387/anaconda/lib/python3.5/site-packages/sklearn/pipeline.py\", line 204, in predict\n",
      "    return self.steps[-1][-1].predict(Xt)\n",
      "  File \"/Users/01017387/anaconda/lib/python3.5/site-packages/autosklearn/pipeline/components/regression/k_nearest_neighbors.py\", line 30, in predict\n",
      "    return self.estimator.predict(X)\n",
      "  File \"/Users/01017387/anaconda/lib/python3.5/site-packages/sklearn/neighbors/regression.py\", line 144, in predict\n",
      "    neigh_dist, neigh_ind = self.kneighbors(X)\n",
      "  File \"/Users/01017387/anaconda/lib/python3.5/site-packages/sklearn/neighbors/base.py\", line 361, in kneighbors\n",
      "    (train_size, n_neighbors)\n",
      "ValueError: Expected n_neighbors <= n_samples,  but n_samples = 31, n_neighbors = 54\n",
      "You are already timing task: index_run27\n",
      "You are already timing task: index_run27\n",
      "You are already timing task: index_run27\n"
     ]
    },
    {
     "name": "stdout",
     "output_type": "stream",
     "text": [
      "n_components is too large: it will be set to 2\n",
      "n_components is too large: it will be set to 2\n"
     ]
    },
    {
     "name": "stderr",
     "output_type": "stream",
     "text": [
      "You are already timing task: index_run27\n"
     ]
    },
    {
     "name": "stdout",
     "output_type": "stream",
     "text": [
      "n_components is too large: it will be set to 2\n",
      "n_components is too large: it will be set to 2\n"
     ]
    },
    {
     "name": "stderr",
     "output_type": "stream",
     "text": [
      "You are already timing task: index_run27\n",
      "You are already timing task: index_run27\n",
      "You are already timing task: index_run27\n",
      "You are already timing task: index_run27\n",
      "You are already timing task: index_run27\n"
     ]
    },
    {
     "name": "stdout",
     "output_type": "stream",
     "text": [
      "n_components is too large: it will be set to 2\n"
     ]
    },
    {
     "name": "stderr",
     "output_type": "stream",
     "text": [
      "You are already timing task: index_run27\n",
      "You are already timing task: index_run27\n",
      "You are already timing task: index_run27\n"
     ]
    },
    {
     "name": "stdout",
     "output_type": "stream",
     "text": [
      "n_components is too large: it will be set to 2\n"
     ]
    },
    {
     "name": "stderr",
     "output_type": "stream",
     "text": [
      "Process pynisher function call:\n",
      "Traceback (most recent call last):\n",
      "  File \"/Users/01017387/anaconda/lib/python3.5/multiprocessing/process.py\", line 249, in _bootstrap\n",
      "    self.run()\n",
      "  File \"/Users/01017387/anaconda/lib/python3.5/multiprocessing/process.py\", line 93, in run\n",
      "    self._target(*self._args, **self._kwargs)\n",
      "  File \"/Users/01017387/anaconda/lib/python3.5/site-packages/pynisher/limit_function_call.py\", line 83, in subprocess_func\n",
      "    return_value = ((func(*args, **kwargs), 0))\n",
      "  File \"/Users/01017387/anaconda/lib/python3.5/site-packages/autosklearn/evaluation/holdout_evaluator.py\", line 148, in eval_holdout\n",
      "    loss, opt_pred, valid_pred, test_pred = evaluator.fit_predict_and_loss()\n",
      "  File \"/Users/01017387/anaconda/lib/python3.5/site-packages/autosklearn/evaluation/holdout_evaluator.py\", line 60, in fit_predict_and_loss\n",
      "    return self.predict_and_loss()\n",
      "  File \"/Users/01017387/anaconda/lib/python3.5/site-packages/autosklearn/evaluation/holdout_evaluator.py\", line 115, in predict_and_loss\n",
      "    Y_optimization_pred, Y_valid_pred, Y_test_pred = self._predict()\n",
      "  File \"/Users/01017387/anaconda/lib/python3.5/site-packages/autosklearn/evaluation/holdout_evaluator.py\", line 98, in _predict\n",
      "    self.Y_train)\n",
      "  File \"/Users/01017387/anaconda/lib/python3.5/site-packages/autosklearn/evaluation/abstract_evaluator.py\", line 294, in _predict_regression\n",
      "    Y_pred = model.predict(X)\n",
      "  File \"/Users/01017387/anaconda/lib/python3.5/site-packages/autosklearn/pipeline/regression.py\", line 96, in predict\n",
      "    predict(X, batch_size=batch_size)\n",
      "  File \"/Users/01017387/anaconda/lib/python3.5/site-packages/autosklearn/pipeline/base.py\", line 174, in predict\n",
      "    return self.pipeline_.predict(X).astype(self._output_dtype)\n",
      "  File \"/Users/01017387/anaconda/lib/python3.5/site-packages/sklearn/utils/metaestimators.py\", line 37, in <lambda>\n",
      "    out = lambda *args, **kwargs: self.fn(obj, *args, **kwargs)\n",
      "  File \"/Users/01017387/anaconda/lib/python3.5/site-packages/sklearn/pipeline.py\", line 204, in predict\n",
      "    return self.steps[-1][-1].predict(Xt)\n",
      "  File \"/Users/01017387/anaconda/lib/python3.5/site-packages/autosklearn/pipeline/components/regression/k_nearest_neighbors.py\", line 30, in predict\n",
      "    return self.estimator.predict(X)\n",
      "  File \"/Users/01017387/anaconda/lib/python3.5/site-packages/sklearn/neighbors/regression.py\", line 144, in predict\n",
      "    neigh_dist, neigh_ind = self.kneighbors(X)\n",
      "  File \"/Users/01017387/anaconda/lib/python3.5/site-packages/sklearn/neighbors/base.py\", line 361, in kneighbors\n",
      "    (train_size, n_neighbors)\n",
      "ValueError: Expected n_neighbors <= n_samples,  but n_samples = 31, n_neighbors = 94\n",
      "You are already timing task: index_run28\n",
      "You are already timing task: index_run28\n"
     ]
    },
    {
     "name": "stdout",
     "output_type": "stream",
     "text": [
      "n_components is too large: it will be set to 2\n"
     ]
    },
    {
     "name": "stderr",
     "output_type": "stream",
     "text": [
      "Process pynisher function call:\n",
      "Traceback (most recent call last):\n",
      "  File \"/Users/01017387/anaconda/lib/python3.5/multiprocessing/process.py\", line 249, in _bootstrap\n",
      "    self.run()\n",
      "  File \"/Users/01017387/anaconda/lib/python3.5/multiprocessing/process.py\", line 93, in run\n",
      "    self._target(*self._args, **self._kwargs)\n",
      "  File \"/Users/01017387/anaconda/lib/python3.5/site-packages/pynisher/limit_function_call.py\", line 83, in subprocess_func\n",
      "    return_value = ((func(*args, **kwargs), 0))\n",
      "  File \"/Users/01017387/anaconda/lib/python3.5/site-packages/autosklearn/evaluation/holdout_evaluator.py\", line 148, in eval_holdout\n",
      "    loss, opt_pred, valid_pred, test_pred = evaluator.fit_predict_and_loss()\n",
      "  File \"/Users/01017387/anaconda/lib/python3.5/site-packages/autosklearn/evaluation/holdout_evaluator.py\", line 59, in fit_predict_and_loss\n",
      "    self._fit_and_suppress_warnings(self.model, X_train, Y_train)\n",
      "  File \"/Users/01017387/anaconda/lib/python3.5/site-packages/autosklearn/evaluation/abstract_evaluator.py\", line 335, in _fit_and_suppress_warnings\n",
      "    model = model.fit(X, y)\n",
      "  File \"/Users/01017387/anaconda/lib/python3.5/site-packages/autosklearn/pipeline/base.py\", line 62, in fit\n",
      "    init_params=init_params)\n",
      "  File \"/Users/01017387/anaconda/lib/python3.5/site-packages/autosklearn/pipeline/regression.py\", line 74, in pre_transform\n",
      "    X, Y, fit_params=fit_params, init_params=init_params)\n",
      "  File \"/Users/01017387/anaconda/lib/python3.5/site-packages/autosklearn/pipeline/base.py\", line 131, in pre_transform\n",
      "    X, fit_params = self.pipeline_._pre_transform(X, y, **fit_params)\n",
      "  File \"/Users/01017387/anaconda/lib/python3.5/site-packages/sklearn/pipeline.py\", line 148, in _pre_transform\n",
      "    .transform(Xt)\n",
      "  File \"/Users/01017387/anaconda/lib/python3.5/site-packages/autosklearn/pipeline/components/feature_preprocessing/kernel_pca.py\", line 53, in transform\n",
      "    raise ValueError(\"KernelPCA removed all features!\")\n",
      "ValueError: KernelPCA removed all features!\n",
      "You are already timing task: index_run29\n"
     ]
    },
    {
     "name": "stdout",
     "output_type": "stream",
     "text": [
      "n_components is too large: it will be set to 2\n"
     ]
    },
    {
     "name": "stderr",
     "output_type": "stream",
     "text": [
      "You are already timing task: index_run29\n"
     ]
    },
    {
     "name": "stdout",
     "output_type": "stream",
     "text": [
      "n_components is too large: it will be set to 2\n"
     ]
    },
    {
     "name": "stderr",
     "output_type": "stream",
     "text": [
      "Process pynisher function call:\n",
      "Traceback (most recent call last):\n",
      "  File \"/Users/01017387/anaconda/lib/python3.5/multiprocessing/process.py\", line 249, in _bootstrap\n",
      "    self.run()\n",
      "  File \"/Users/01017387/anaconda/lib/python3.5/multiprocessing/process.py\", line 93, in run\n",
      "    self._target(*self._args, **self._kwargs)\n",
      "  File \"/Users/01017387/anaconda/lib/python3.5/site-packages/pynisher/limit_function_call.py\", line 83, in subprocess_func\n",
      "    return_value = ((func(*args, **kwargs), 0))\n",
      "  File \"/Users/01017387/anaconda/lib/python3.5/site-packages/autosklearn/evaluation/holdout_evaluator.py\", line 148, in eval_holdout\n",
      "    loss, opt_pred, valid_pred, test_pred = evaluator.fit_predict_and_loss()\n",
      "  File \"/Users/01017387/anaconda/lib/python3.5/site-packages/autosklearn/evaluation/holdout_evaluator.py\", line 59, in fit_predict_and_loss\n",
      "    self._fit_and_suppress_warnings(self.model, X_train, Y_train)\n",
      "  File \"/Users/01017387/anaconda/lib/python3.5/site-packages/autosklearn/evaluation/abstract_evaluator.py\", line 335, in _fit_and_suppress_warnings\n",
      "    model = model.fit(X, y)\n",
      "  File \"/Users/01017387/anaconda/lib/python3.5/site-packages/autosklearn/pipeline/base.py\", line 62, in fit\n",
      "    init_params=init_params)\n",
      "  File \"/Users/01017387/anaconda/lib/python3.5/site-packages/autosklearn/pipeline/regression.py\", line 74, in pre_transform\n",
      "    X, Y, fit_params=fit_params, init_params=init_params)\n",
      "  File \"/Users/01017387/anaconda/lib/python3.5/site-packages/autosklearn/pipeline/base.py\", line 131, in pre_transform\n",
      "    X, fit_params = self.pipeline_._pre_transform(X, y, **fit_params)\n",
      "  File \"/Users/01017387/anaconda/lib/python3.5/site-packages/sklearn/pipeline.py\", line 148, in _pre_transform\n",
      "    .transform(Xt)\n",
      "  File \"/Users/01017387/anaconda/lib/python3.5/site-packages/autosklearn/pipeline/components/feature_preprocessing/kernel_pca.py\", line 53, in transform\n",
      "    raise ValueError(\"KernelPCA removed all features!\")\n",
      "ValueError: KernelPCA removed all features!\n",
      "You are already timing task: index_run29\n",
      "You are already timing task: index_run29\n"
     ]
    },
    {
     "name": "stdout",
     "output_type": "stream",
     "text": [
      "n_components is too large: it will be set to 2\n"
     ]
    },
    {
     "name": "stderr",
     "output_type": "stream",
     "text": [
      "You are already timing task: index_run29\n",
      "You are already timing task: index_run29\n",
      "Process pynisher function call:\n",
      "Traceback (most recent call last):\n",
      "  File \"/Users/01017387/anaconda/lib/python3.5/multiprocessing/process.py\", line 249, in _bootstrap\n",
      "    self.run()\n",
      "  File \"/Users/01017387/anaconda/lib/python3.5/multiprocessing/process.py\", line 93, in run\n",
      "    self._target(*self._args, **self._kwargs)\n",
      "  File \"/Users/01017387/anaconda/lib/python3.5/site-packages/pynisher/limit_function_call.py\", line 83, in subprocess_func\n",
      "    return_value = ((func(*args, **kwargs), 0))\n",
      "  File \"/Users/01017387/anaconda/lib/python3.5/site-packages/autosklearn/evaluation/holdout_evaluator.py\", line 148, in eval_holdout\n",
      "    loss, opt_pred, valid_pred, test_pred = evaluator.fit_predict_and_loss()\n",
      "  File \"/Users/01017387/anaconda/lib/python3.5/site-packages/autosklearn/evaluation/holdout_evaluator.py\", line 60, in fit_predict_and_loss\n",
      "    return self.predict_and_loss()\n",
      "  File \"/Users/01017387/anaconda/lib/python3.5/site-packages/autosklearn/evaluation/holdout_evaluator.py\", line 115, in predict_and_loss\n",
      "    Y_optimization_pred, Y_valid_pred, Y_test_pred = self._predict()\n",
      "  File \"/Users/01017387/anaconda/lib/python3.5/site-packages/autosklearn/evaluation/holdout_evaluator.py\", line 98, in _predict\n",
      "    self.Y_train)\n",
      "  File \"/Users/01017387/anaconda/lib/python3.5/site-packages/autosklearn/evaluation/abstract_evaluator.py\", line 294, in _predict_regression\n",
      "    Y_pred = model.predict(X)\n",
      "  File \"/Users/01017387/anaconda/lib/python3.5/site-packages/autosklearn/pipeline/regression.py\", line 96, in predict\n",
      "    predict(X, batch_size=batch_size)\n",
      "  File \"/Users/01017387/anaconda/lib/python3.5/site-packages/autosklearn/pipeline/base.py\", line 174, in predict\n",
      "    return self.pipeline_.predict(X).astype(self._output_dtype)\n",
      "  File \"/Users/01017387/anaconda/lib/python3.5/site-packages/sklearn/utils/metaestimators.py\", line 37, in <lambda>\n",
      "    out = lambda *args, **kwargs: self.fn(obj, *args, **kwargs)\n",
      "  File \"/Users/01017387/anaconda/lib/python3.5/site-packages/sklearn/pipeline.py\", line 204, in predict\n",
      "    return self.steps[-1][-1].predict(Xt)\n",
      "  File \"/Users/01017387/anaconda/lib/python3.5/site-packages/autosklearn/pipeline/components/regression/k_nearest_neighbors.py\", line 30, in predict\n",
      "    return self.estimator.predict(X)\n",
      "  File \"/Users/01017387/anaconda/lib/python3.5/site-packages/sklearn/neighbors/regression.py\", line 144, in predict\n",
      "    neigh_dist, neigh_ind = self.kneighbors(X)\n",
      "  File \"/Users/01017387/anaconda/lib/python3.5/site-packages/sklearn/neighbors/base.py\", line 361, in kneighbors\n",
      "    (train_size, n_neighbors)\n",
      "ValueError: Expected n_neighbors <= n_samples,  but n_samples = 31, n_neighbors = 32\n",
      "You are already timing task: index_run29\n",
      "You are already timing task: index_run29\n",
      "You are already timing task: index_run29\n",
      "You are already timing task: index_run29\n"
     ]
    },
    {
     "name": "stdout",
     "output_type": "stream",
     "text": [
      "n_components is too large: it will be set to 2\n"
     ]
    },
    {
     "name": "stderr",
     "output_type": "stream",
     "text": [
      "Process pynisher function call:\n",
      "Traceback (most recent call last):\n",
      "  File \"/Users/01017387/anaconda/lib/python3.5/multiprocessing/process.py\", line 249, in _bootstrap\n",
      "    self.run()\n",
      "  File \"/Users/01017387/anaconda/lib/python3.5/multiprocessing/process.py\", line 93, in run\n",
      "    self._target(*self._args, **self._kwargs)\n",
      "  File \"/Users/01017387/anaconda/lib/python3.5/site-packages/pynisher/limit_function_call.py\", line 83, in subprocess_func\n",
      "    return_value = ((func(*args, **kwargs), 0))\n",
      "  File \"/Users/01017387/anaconda/lib/python3.5/site-packages/autosklearn/evaluation/holdout_evaluator.py\", line 148, in eval_holdout\n",
      "    loss, opt_pred, valid_pred, test_pred = evaluator.fit_predict_and_loss()\n",
      "  File \"/Users/01017387/anaconda/lib/python3.5/site-packages/autosklearn/evaluation/holdout_evaluator.py\", line 60, in fit_predict_and_loss\n",
      "    return self.predict_and_loss()\n",
      "  File \"/Users/01017387/anaconda/lib/python3.5/site-packages/autosklearn/evaluation/holdout_evaluator.py\", line 115, in predict_and_loss\n",
      "    Y_optimization_pred, Y_valid_pred, Y_test_pred = self._predict()\n",
      "  File \"/Users/01017387/anaconda/lib/python3.5/site-packages/autosklearn/evaluation/holdout_evaluator.py\", line 98, in _predict\n",
      "    self.Y_train)\n",
      "  File \"/Users/01017387/anaconda/lib/python3.5/site-packages/autosklearn/evaluation/abstract_evaluator.py\", line 294, in _predict_regression\n",
      "    Y_pred = model.predict(X)\n",
      "  File \"/Users/01017387/anaconda/lib/python3.5/site-packages/autosklearn/pipeline/regression.py\", line 96, in predict\n",
      "    predict(X, batch_size=batch_size)\n",
      "  File \"/Users/01017387/anaconda/lib/python3.5/site-packages/autosklearn/pipeline/base.py\", line 174, in predict\n",
      "    return self.pipeline_.predict(X).astype(self._output_dtype)\n",
      "  File \"/Users/01017387/anaconda/lib/python3.5/site-packages/sklearn/utils/metaestimators.py\", line 37, in <lambda>\n",
      "    out = lambda *args, **kwargs: self.fn(obj, *args, **kwargs)\n",
      "  File \"/Users/01017387/anaconda/lib/python3.5/site-packages/sklearn/pipeline.py\", line 204, in predict\n",
      "    return self.steps[-1][-1].predict(Xt)\n",
      "  File \"/Users/01017387/anaconda/lib/python3.5/site-packages/autosklearn/pipeline/components/regression/k_nearest_neighbors.py\", line 30, in predict\n",
      "    return self.estimator.predict(X)\n",
      "  File \"/Users/01017387/anaconda/lib/python3.5/site-packages/sklearn/neighbors/regression.py\", line 144, in predict\n",
      "    neigh_dist, neigh_ind = self.kneighbors(X)\n",
      "  File \"/Users/01017387/anaconda/lib/python3.5/site-packages/sklearn/neighbors/base.py\", line 361, in kneighbors\n",
      "    (train_size, n_neighbors)\n",
      "ValueError: Expected n_neighbors <= n_samples,  but n_samples = 31, n_neighbors = 39\n",
      "You are already timing task: index_run29\n",
      "You are already timing task: index_run29\n",
      "You are already timing task: index_run29\n",
      "You are already timing task: index_run29\n",
      "You are already timing task: index_run30\n",
      "You are already timing task: index_run30\n",
      "You are already timing task: index_run30\n"
     ]
    },
    {
     "name": "stdout",
     "output_type": "stream",
     "text": [
      "n_components is too large: it will be set to 2\n",
      "n_components is too large: it will be set to 2\n"
     ]
    },
    {
     "name": "stderr",
     "output_type": "stream",
     "text": [
      "You are already timing task: index_run30\n"
     ]
    },
    {
     "name": "stdout",
     "output_type": "stream",
     "text": [
      "n_components is too large: it will be set to 2\n"
     ]
    },
    {
     "name": "stderr",
     "output_type": "stream",
     "text": [
      "You are already timing task: index_run30\n"
     ]
    },
    {
     "name": "stdout",
     "output_type": "stream",
     "text": [
      "n_components is too large: it will be set to 2\n"
     ]
    },
    {
     "name": "stderr",
     "output_type": "stream",
     "text": [
      "Process pynisher function call:\n",
      "Traceback (most recent call last):\n",
      "  File \"/Users/01017387/anaconda/lib/python3.5/multiprocessing/process.py\", line 249, in _bootstrap\n",
      "    self.run()\n",
      "  File \"/Users/01017387/anaconda/lib/python3.5/multiprocessing/process.py\", line 93, in run\n",
      "    self._target(*self._args, **self._kwargs)\n",
      "  File \"/Users/01017387/anaconda/lib/python3.5/site-packages/pynisher/limit_function_call.py\", line 83, in subprocess_func\n",
      "    return_value = ((func(*args, **kwargs), 0))\n",
      "  File \"/Users/01017387/anaconda/lib/python3.5/site-packages/autosklearn/evaluation/holdout_evaluator.py\", line 148, in eval_holdout\n",
      "    loss, opt_pred, valid_pred, test_pred = evaluator.fit_predict_and_loss()\n",
      "  File \"/Users/01017387/anaconda/lib/python3.5/site-packages/autosklearn/evaluation/holdout_evaluator.py\", line 60, in fit_predict_and_loss\n",
      "    return self.predict_and_loss()\n",
      "  File \"/Users/01017387/anaconda/lib/python3.5/site-packages/autosklearn/evaluation/holdout_evaluator.py\", line 115, in predict_and_loss\n",
      "    Y_optimization_pred, Y_valid_pred, Y_test_pred = self._predict()\n",
      "  File \"/Users/01017387/anaconda/lib/python3.5/site-packages/autosklearn/evaluation/holdout_evaluator.py\", line 98, in _predict\n",
      "    self.Y_train)\n",
      "  File \"/Users/01017387/anaconda/lib/python3.5/site-packages/autosklearn/evaluation/abstract_evaluator.py\", line 294, in _predict_regression\n",
      "    Y_pred = model.predict(X)\n",
      "  File \"/Users/01017387/anaconda/lib/python3.5/site-packages/autosklearn/pipeline/regression.py\", line 96, in predict\n",
      "    predict(X, batch_size=batch_size)\n",
      "  File \"/Users/01017387/anaconda/lib/python3.5/site-packages/autosklearn/pipeline/base.py\", line 174, in predict\n",
      "    return self.pipeline_.predict(X).astype(self._output_dtype)\n",
      "  File \"/Users/01017387/anaconda/lib/python3.5/site-packages/sklearn/utils/metaestimators.py\", line 37, in <lambda>\n",
      "    out = lambda *args, **kwargs: self.fn(obj, *args, **kwargs)\n",
      "  File \"/Users/01017387/anaconda/lib/python3.5/site-packages/sklearn/pipeline.py\", line 204, in predict\n",
      "    return self.steps[-1][-1].predict(Xt)\n",
      "  File \"/Users/01017387/anaconda/lib/python3.5/site-packages/autosklearn/pipeline/components/regression/k_nearest_neighbors.py\", line 30, in predict\n",
      "    return self.estimator.predict(X)\n",
      "  File \"/Users/01017387/anaconda/lib/python3.5/site-packages/sklearn/neighbors/regression.py\", line 144, in predict\n",
      "    neigh_dist, neigh_ind = self.kneighbors(X)\n",
      "  File \"/Users/01017387/anaconda/lib/python3.5/site-packages/sklearn/neighbors/base.py\", line 361, in kneighbors\n",
      "    (train_size, n_neighbors)\n",
      "ValueError: Expected n_neighbors <= n_samples,  but n_samples = 31, n_neighbors = 42\n",
      "You are already timing task: index_run30\n",
      "You are already timing task: index_run30\n",
      "You are already timing task: index_run30\n",
      "You are already timing task: index_run30\n"
     ]
    },
    {
     "name": "stdout",
     "output_type": "stream",
     "text": [
      "n_components is too large: it will be set to 2\n",
      "n_components is too large: it will be set to 2\n"
     ]
    },
    {
     "name": "stderr",
     "output_type": "stream",
     "text": [
      "You are already timing task: index_run30\n"
     ]
    },
    {
     "name": "stdout",
     "output_type": "stream",
     "text": [
      "n_components is too large: it will be set to 2\n"
     ]
    },
    {
     "name": "stderr",
     "output_type": "stream",
     "text": [
      "You are already timing task: index_run30\n",
      "You are already timing task: index_run30\n"
     ]
    },
    {
     "name": "stdout",
     "output_type": "stream",
     "text": [
      "n_components is too large: it will be set to 2\n"
     ]
    },
    {
     "name": "stderr",
     "output_type": "stream",
     "text": [
      "You are already timing task: index_run30\n"
     ]
    },
    {
     "name": "stdout",
     "output_type": "stream",
     "text": [
      "n_components is too large: it will be set to 2\n"
     ]
    },
    {
     "name": "stderr",
     "output_type": "stream",
     "text": [
      "You are already timing task: index_run30\n"
     ]
    },
    {
     "name": "stdout",
     "output_type": "stream",
     "text": [
      "n_components is too large: it will be set to 2\n"
     ]
    },
    {
     "name": "stderr",
     "output_type": "stream",
     "text": [
      "You are already timing task: index_run30\n",
      "You are already timing task: index_run31\n",
      "You are already timing task: index_run31\n",
      "Process pynisher function call:\n",
      "Traceback (most recent call last):\n",
      "  File \"/Users/01017387/anaconda/lib/python3.5/multiprocessing/process.py\", line 249, in _bootstrap\n",
      "    self.run()\n",
      "  File \"/Users/01017387/anaconda/lib/python3.5/multiprocessing/process.py\", line 93, in run\n",
      "    self._target(*self._args, **self._kwargs)\n",
      "  File \"/Users/01017387/anaconda/lib/python3.5/site-packages/pynisher/limit_function_call.py\", line 83, in subprocess_func\n",
      "    return_value = ((func(*args, **kwargs), 0))\n",
      "  File \"/Users/01017387/anaconda/lib/python3.5/site-packages/autosklearn/evaluation/holdout_evaluator.py\", line 148, in eval_holdout\n",
      "    loss, opt_pred, valid_pred, test_pred = evaluator.fit_predict_and_loss()\n",
      "  File \"/Users/01017387/anaconda/lib/python3.5/site-packages/autosklearn/evaluation/holdout_evaluator.py\", line 60, in fit_predict_and_loss\n",
      "    return self.predict_and_loss()\n",
      "  File \"/Users/01017387/anaconda/lib/python3.5/site-packages/autosklearn/evaluation/holdout_evaluator.py\", line 115, in predict_and_loss\n",
      "    Y_optimization_pred, Y_valid_pred, Y_test_pred = self._predict()\n",
      "  File \"/Users/01017387/anaconda/lib/python3.5/site-packages/autosklearn/evaluation/holdout_evaluator.py\", line 98, in _predict\n",
      "    self.Y_train)\n",
      "  File \"/Users/01017387/anaconda/lib/python3.5/site-packages/autosklearn/evaluation/abstract_evaluator.py\", line 294, in _predict_regression\n",
      "    Y_pred = model.predict(X)\n",
      "  File \"/Users/01017387/anaconda/lib/python3.5/site-packages/autosklearn/pipeline/regression.py\", line 96, in predict\n",
      "    predict(X, batch_size=batch_size)\n",
      "  File \"/Users/01017387/anaconda/lib/python3.5/site-packages/autosklearn/pipeline/base.py\", line 174, in predict\n",
      "    return self.pipeline_.predict(X).astype(self._output_dtype)\n",
      "  File \"/Users/01017387/anaconda/lib/python3.5/site-packages/sklearn/utils/metaestimators.py\", line 37, in <lambda>\n",
      "    out = lambda *args, **kwargs: self.fn(obj, *args, **kwargs)\n",
      "  File \"/Users/01017387/anaconda/lib/python3.5/site-packages/sklearn/pipeline.py\", line 204, in predict\n",
      "    return self.steps[-1][-1].predict(Xt)\n",
      "  File \"/Users/01017387/anaconda/lib/python3.5/site-packages/autosklearn/pipeline/components/regression/k_nearest_neighbors.py\", line 30, in predict\n",
      "    return self.estimator.predict(X)\n",
      "  File \"/Users/01017387/anaconda/lib/python3.5/site-packages/sklearn/neighbors/regression.py\", line 144, in predict\n",
      "    neigh_dist, neigh_ind = self.kneighbors(X)\n",
      "  File \"/Users/01017387/anaconda/lib/python3.5/site-packages/sklearn/neighbors/base.py\", line 361, in kneighbors\n",
      "    (train_size, n_neighbors)\n",
      "ValueError: Expected n_neighbors <= n_samples,  but n_samples = 31, n_neighbors = 78\n"
     ]
    },
    {
     "name": "stdout",
     "output_type": "stream",
     "text": [
      "n_components is too large: it will be set to 2\n"
     ]
    },
    {
     "name": "stderr",
     "output_type": "stream",
     "text": [
      "You are already timing task: index_run32\n"
     ]
    },
    {
     "name": "stdout",
     "output_type": "stream",
     "text": [
      "n_components is too large: it will be set to 2\n",
      "n_components is too large: it will be set to 2\n"
     ]
    },
    {
     "name": "stderr",
     "output_type": "stream",
     "text": [
      "You are already timing task: index_run32\n",
      "You are already timing task: index_run32\n",
      "You are already timing task: index_run32\n"
     ]
    },
    {
     "name": "stdout",
     "output_type": "stream",
     "text": [
      "n_components is too large: it will be set to 2\n"
     ]
    },
    {
     "name": "stderr",
     "output_type": "stream",
     "text": [
      "You are already timing task: index_run32\n",
      "You are already timing task: index_run32\n",
      "You are already timing task: index_run32\n"
     ]
    },
    {
     "name": "stdout",
     "output_type": "stream",
     "text": [
      "n_components is too large: it will be set to 2\n"
     ]
    },
    {
     "name": "stderr",
     "output_type": "stream",
     "text": [
      "You are already timing task: index_run32\n"
     ]
    },
    {
     "name": "stdout",
     "output_type": "stream",
     "text": [
      "n_components is too large: it will be set to 2\n"
     ]
    },
    {
     "name": "stderr",
     "output_type": "stream",
     "text": [
      "You are already timing task: index_run32\n",
      "You are already timing task: index_run33\n"
     ]
    },
    {
     "name": "stdout",
     "output_type": "stream",
     "text": [
      "n_components is too large: it will be set to 2\n"
     ]
    },
    {
     "name": "stderr",
     "output_type": "stream",
     "text": [
      "You are already timing task: index_run33\n"
     ]
    },
    {
     "name": "stdout",
     "output_type": "stream",
     "text": [
      "n_components is too large: it will be set to 2\n"
     ]
    },
    {
     "name": "stderr",
     "output_type": "stream",
     "text": [
      "You are already timing task: index_run33\n",
      "You are already timing task: index_run33\n"
     ]
    },
    {
     "name": "stdout",
     "output_type": "stream",
     "text": [
      "n_components is too large: it will be set to 2\n",
      "n_components is too large: it will be set to 2\n"
     ]
    },
    {
     "name": "stderr",
     "output_type": "stream",
     "text": [
      "You are already timing task: index_run33\n"
     ]
    },
    {
     "name": "stdout",
     "output_type": "stream",
     "text": [
      "n_components is too large: it will be set to 2\n",
      "n_components is too large: it will be set to 2\n"
     ]
    },
    {
     "name": "stderr",
     "output_type": "stream",
     "text": [
      "You are already timing task: index_run33\n",
      "You are already timing task: index_run33\n",
      "You are already timing task: index_run33\n",
      "You are already timing task: index_run33\n"
     ]
    },
    {
     "name": "stdout",
     "output_type": "stream",
     "text": [
      "n_components is too large: it will be set to 2\n",
      "n_components is too large: it will be set to 2\n"
     ]
    },
    {
     "name": "stderr",
     "output_type": "stream",
     "text": [
      "You are already timing task: index_run33\n",
      "You are already timing task: index_run33\n"
     ]
    },
    {
     "name": "stdout",
     "output_type": "stream",
     "text": [
      "n_components is too large: it will be set to 2\n"
     ]
    },
    {
     "name": "stderr",
     "output_type": "stream",
     "text": [
      "You are already timing task: index_run33\n",
      "You are already timing task: index_run33\n",
      "You are already timing task: index_run33\n",
      "You are already timing task: index_run33\n"
     ]
    },
    {
     "name": "stdout",
     "output_type": "stream",
     "text": [
      "n_components is too large: it will be set to 2\n",
      "n_components is too large: it will be set to 2\n"
     ]
    },
    {
     "name": "stderr",
     "output_type": "stream",
     "text": [
      "You are already timing task: index_run33\n",
      "You are already timing task: index_run33\n",
      "You are already timing task: index_run33\n"
     ]
    }
   ],
   "source": [
    "asr = AutoSklearnRegressor()\n",
    "# asr = AutoSklearnClassifier()\n",
    "# X_train, X_test, y_train, y_test = \\\n",
    "#         sklearn.cross_validation.train_test_split(X, y, random_state=1)\n",
    "#どうやら説明変数は２次元以上で指定する必要がありそう\n",
    "asr.fit(np.log(dt.ix[:,[\"世帯数\",\"普通\"]].values),np.log(dt[\"乗用車\"].values))\n",
    "# asr.fit(X_train,y_train)\n",
    "\n",
    "# par = asrf.get_params()\n",
    "# prediction = asrf.predict(dt[\"乗用車\"].values)\n",
    "# print(\"Accuracy score\", sklearn.metrics.accuracy_score(dt[\"世帯数\"].as_matrix, prediction))\n",
    "# print(par)\n",
    "\n",
    "#n_components問題を解決しないとなんともならない\n"
   ]
  },
  {
   "cell_type": "code",
   "execution_count": 10,
   "metadata": {
    "collapsed": false
   },
   "outputs": [],
   "source": [
    "#インタラクティブなグラフの描写\n",
    "preprocess_tgt = org_file.columns.values\n",
    "gs = []\n",
    "ht = '<form action=\"/post\" method=\"post\"><input type=\"checkbox\" name=\"explaining_var\"></p><p><input type=\"submit\" value=\"テスト\">'\n",
    "for i in range(len(preprocess_tgt)):\n",
    "    gs.append(ht)\n"
   ]
  },
  {
   "cell_type": "code",
   "execution_count": 7,
   "metadata": {
    "collapsed": true
   },
   "outputs": [],
   "source": [
    "org_file = data.copy()\n",
    "d5 = data.head()"
   ]
  },
  {
   "cell_type": "code",
   "execution_count": 18,
   "metadata": {
    "collapsed": false
   },
   "outputs": [
    {
     "ename": "NameError",
     "evalue": "name 'head' is not defined",
     "output_type": "error",
     "traceback": [
      "\u001b[0;31m---------------------------------------------------------------------------\u001b[0m",
      "\u001b[0;31mNameError\u001b[0m                                 Traceback (most recent call last)",
      "\u001b[0;32m<ipython-input-18-8618bb08fa3c>\u001b[0m in \u001b[0;36m<module>\u001b[0;34m()\u001b[0m\n\u001b[1;32m      1\u001b[0m \u001b[0mhl\u001b[0m \u001b[0;34m=\u001b[0m \u001b[0mpd\u001b[0m\u001b[0;34m.\u001b[0m\u001b[0mDataFrame\u001b[0m\u001b[0;34m(\u001b[0m\u001b[0mgs\u001b[0m\u001b[0;34m)\u001b[0m\u001b[0;34m.\u001b[0m\u001b[0mT\u001b[0m\u001b[0;34m\u001b[0m\u001b[0m\n\u001b[1;32m      2\u001b[0m \u001b[0mhl\u001b[0m\u001b[0;34m.\u001b[0m\u001b[0mcolumns\u001b[0m \u001b[0;34m=\u001b[0m \u001b[0morg_file\u001b[0m\u001b[0;34m.\u001b[0m\u001b[0mcolumns\u001b[0m\u001b[0;34m.\u001b[0m\u001b[0mvalues\u001b[0m\u001b[0;34m\u001b[0m\u001b[0m\n\u001b[0;32m----> 3\u001b[0;31m \u001b[0mhead\u001b[0m \u001b[0;34m=\u001b[0m \u001b[0mhead\u001b[0m\u001b[0;34m.\u001b[0m\u001b[0mappend\u001b[0m\u001b[0;34m(\u001b[0m\u001b[0mhl\u001b[0m\u001b[0;34m)\u001b[0m\u001b[0;34m\u001b[0m\u001b[0m\n\u001b[0m",
      "\u001b[0;31mNameError\u001b[0m: name 'head' is not defined"
     ]
    }
   ],
   "source": [
    "hl = pd.DataFrame(gs).T\n",
    "hl.columns = org_file.columns.values\n",
    "head = head.append(hl)"
   ]
  },
  {
   "cell_type": "code",
   "execution_count": null,
   "metadata": {
    "collapsed": false
   },
   "outputs": [],
   "source": [
    "checks = '<form action=\"/post2\" method=\"post\">'\n",
    "loops=1\n",
    "for i in org_file.columns.values:\n",
    "    checks = checks+'<input type=\"radio\" name=\"tgt_var\", value=(\"tgt_var'+i+'\")>'+str(i)\n",
    "checks+'<br>'\n",
    "for i in org_file.columns.values:\n",
    "    checks = checks+'<input type=\"checkbox\" name=\"ex_var\", value=(\"ex_var'+i+'\")>'+str(i)\n",
    "radio_string = checks+'<input type=\"submit\" value=\"確定\">'\n",
    "radio_string\n"
   ]
  },
  {
   "cell_type": "code",
   "execution_count": null,
   "metadata": {
    "collapsed": true
   },
   "outputs": [],
   "source": [
    "digits = sklearn.datasets.load_digits()\n",
    "X = digits.data\n",
    "X"
   ]
  },
  {
   "cell_type": "code",
   "execution_count": null,
   "metadata": {
    "collapsed": false
   },
   "outputs": [
    {
     "name": "stderr",
     "output_type": "stream",
     "text": [
      "You are already timing task: index_run4\n",
      "You are already timing task: index_run6\n",
      "You are already timing task: index_run6\n",
      "You are already timing task: index_run6\n",
      "You are already timing task: index_run6\n",
      "You are already timing task: index_run6\n",
      "You are already timing task: index_run6\n",
      "You are already timing task: index_run6\n",
      "You are already timing task: index_run6\n",
      "You are already timing task: index_run6\n",
      "You are already timing task: index_run6\n",
      "You are already timing task: index_run6\n",
      "You are already timing task: index_run6\n",
      "You are already timing task: index_run6\n",
      "You are already timing task: index_run6\n",
      "You are already timing task: index_run6\n",
      "You are already timing task: index_run6\n",
      "You are already timing task: index_run6\n",
      "You are already timing task: index_run6\n",
      "You are already timing task: index_run6\n",
      "You are already timing task: index_run6\n",
      "You are already timing task: index_run6\n",
      "You are already timing task: index_run6\n"
     ]
    },
    {
     "name": "stdout",
     "output_type": "stream",
     "text": [
      "n_components is too large: it will be set to 64\n"
     ]
    },
    {
     "name": "stderr",
     "output_type": "stream",
     "text": [
      "You are already timing task: index_run6\n",
      "You are already timing task: index_run6\n",
      "You are already timing task: index_run6\n",
      "You are already timing task: index_run6\n",
      "You are already timing task: index_run6\n",
      "You are already timing task: index_run6\n",
      "You are already timing task: index_run6\n",
      "You are already timing task: index_run6\n",
      "You are already timing task: index_run6\n",
      "You are already timing task: index_run6\n",
      "You are already timing task: index_run6\n",
      "You are already timing task: index_run6\n",
      "You are already timing task: index_run6\n",
      "You are already timing task: index_run6\n",
      "You are already timing task: index_run6\n",
      "You are already timing task: index_run6\n",
      "You are already timing task: index_run6\n",
      "You are already timing task: index_run6\n",
      "You are already timing task: index_run6\n"
     ]
    },
    {
     "name": "stdout",
     "output_type": "stream",
     "text": [
      "n_components is too large: it will be set to 64\n"
     ]
    },
    {
     "name": "stderr",
     "output_type": "stream",
     "text": [
      "You are already timing task: index_run6\n",
      "You are already timing task: index_run6\n",
      "You are already timing task: index_run6\n",
      "You are already timing task: index_run6\n"
     ]
    }
   ],
   "source": [
    "import autosklearn.classification\n",
    "import sklearn.cross_validation\n",
    "import sklearn.datasets\n",
    "import sklearn.metrics\n",
    "\n",
    "digits = sklearn.datasets.load_digits()\n",
    "X = digits.data\n",
    "y = digits.target\n",
    "X_train, X_test, y_train, y_test = \\\n",
    "        sklearn.cross_validation.train_test_split(X, y, random_state=1)\n",
    "automl = autosklearn.classification.AutoSklearnClassifier()\n",
    "automl.fit(X_train, y_train)\n",
    "y_hat = automl.predict(X_test)\n",
    "print(\"Accuracy score\", sklearn.metrics.accuracy_score(y_test, y_hat))"
   ]
  },
  {
   "cell_type": "code",
   "execution_count": null,
   "metadata": {
    "collapsed": true
   },
   "outputs": [],
   "source": []
  }
 ],
 "metadata": {
  "anaconda-cloud": {},
  "kernelspec": {
   "display_name": "Python 3",
   "language": "python",
   "name": "python3"
  },
  "language_info": {
   "codemirror_mode": {
    "name": "ipython",
    "version": 3
   },
   "file_extension": ".py",
   "mimetype": "text/x-python",
   "name": "python",
   "nbconvert_exporter": "python",
   "pygments_lexer": "ipython3",
   "version": "3.6.0"
  }
 },
 "nbformat": 4,
 "nbformat_minor": 1
}
