{
 "cells": [
  {
   "cell_type": "code",
   "execution_count": 1,
   "metadata": {
    "collapsed": true
   },
   "outputs": [],
   "source": [
    "import pandas as pd"
   ]
  },
  {
   "cell_type": "code",
   "execution_count": 5,
   "metadata": {
    "collapsed": false
   },
   "outputs": [
    {
     "data": {
      "text/html": [
       "<div>\n",
       "<table border=\"1\" class=\"dataframe\">\n",
       "  <thead>\n",
       "    <tr style=\"text-align: right;\">\n",
       "      <th></th>\n",
       "      <th>time</th>\n",
       "      <th>message_cate</th>\n",
       "      <th>message</th>\n",
       "      <th>pgm_path</th>\n",
       "      <th>no</th>\n",
       "    </tr>\n",
       "  </thead>\n",
       "  <tbody>\n",
       "    <tr>\n",
       "      <th>0</th>\n",
       "      <td>2017-03-22 11:49:02,535</td>\n",
       "      <td>WARNING</td>\n",
       "      <td>* Debugger is active!</td>\n",
       "      <td>/Users/01017387/anaconda/lib/python3.6/site-p...</td>\n",
       "      <td>87</td>\n",
       "    </tr>\n",
       "    <tr>\n",
       "      <th>1</th>\n",
       "      <td>2017-03-22 11:49:02,549</td>\n",
       "      <td>INFO</td>\n",
       "      <td>* Debugger pin code: 340-105-055</td>\n",
       "      <td>/Users/01017387/anaconda/lib/python3.6/site-p...</td>\n",
       "      <td>87</td>\n",
       "    </tr>\n",
       "    <tr>\n",
       "      <th>2</th>\n",
       "      <td>2017-03-22 11:50:22,124</td>\n",
       "      <td>INFO</td>\n",
       "      <td>* Running on http://127.0.0.1:5000/ (Press CT...</td>\n",
       "      <td>/Users/01017387/anaconda/lib/python3.6/site-p...</td>\n",
       "      <td>87</td>\n",
       "    </tr>\n",
       "    <tr>\n",
       "      <th>3</th>\n",
       "      <td>2017-03-22 11:50:22,127</td>\n",
       "      <td>INFO</td>\n",
       "      <td>* Restarting with stat</td>\n",
       "      <td>/Users/01017387/anaconda/lib/python3.6/site-p...</td>\n",
       "      <td>87</td>\n",
       "    </tr>\n",
       "    <tr>\n",
       "      <th>4</th>\n",
       "      <td>2017-03-22 11:50:26,894</td>\n",
       "      <td>WARNING</td>\n",
       "      <td>* Debugger is active!</td>\n",
       "      <td>/Users/01017387/anaconda/lib/python3.6/site-p...</td>\n",
       "      <td>87</td>\n",
       "    </tr>\n",
       "  </tbody>\n",
       "</table>\n",
       "</div>"
      ],
      "text/plain": [
       "                      time message_cate  \\\n",
       "0  2017-03-22 11:49:02,535      WARNING   \n",
       "1  2017-03-22 11:49:02,549         INFO   \n",
       "2  2017-03-22 11:50:22,124         INFO   \n",
       "3  2017-03-22 11:50:22,127         INFO   \n",
       "4  2017-03-22 11:50:26,894      WARNING   \n",
       "\n",
       "                                             message  \\\n",
       "0                              * Debugger is active!   \n",
       "1                   * Debugger pin code: 340-105-055   \n",
       "2   * Running on http://127.0.0.1:5000/ (Press CT...   \n",
       "3                             * Restarting with stat   \n",
       "4                              * Debugger is active!   \n",
       "\n",
       "                                            pgm_path  no  \n",
       "0   /Users/01017387/anaconda/lib/python3.6/site-p...  87  \n",
       "1   /Users/01017387/anaconda/lib/python3.6/site-p...  87  \n",
       "2   /Users/01017387/anaconda/lib/python3.6/site-p...  87  \n",
       "3   /Users/01017387/anaconda/lib/python3.6/site-p...  87  \n",
       "4   /Users/01017387/anaconda/lib/python3.6/site-p...  87  "
      ]
     },
     "execution_count": 5,
     "metadata": {},
     "output_type": "execute_result"
    }
   ],
   "source": [
    "aa = pd.read_csv(\"/Users/01017387/PycharmProjects/test/logs/access_log.tsv\", sep=\"\\t\",names=[\"time\",\"message_cate\",\"message\",\"pgm_path\",\"no\"])\n",
    "aa.head()"
   ]
  },
  {
   "cell_type": "code",
   "execution_count": 7,
   "metadata": {
    "collapsed": false
   },
   "outputs": [
    {
     "data": {
      "text/plain": [
       "\"127.0.0.1 - - [22/Mar/2017 15:00:38] code 400, message Bad request syntax ('\\\\x92ªpyapp.test\\\\x91\\\\x92ÎXÒ\\\\x12\\\\x12\\\\x81£key¦sample')\""
      ]
     },
     "execution_count": 7,
     "metadata": {},
     "output_type": "execute_result"
    }
   ],
   "source": [
    "aa.ix[62,][\"message\"]"
   ]
  },
  {
   "cell_type": "code",
   "execution_count": 8,
   "metadata": {
    "collapsed": false
   },
   "outputs": [
    {
     "data": {
      "text/plain": [
       "74"
      ]
     },
     "execution_count": 8,
     "metadata": {},
     "output_type": "execute_result"
    }
   ],
   "source": [
    "len(\"127.0.0.1 - - [22/Mar/2017 15:00:38] code 400, message Bad request syntax \")"
   ]
  },
  {
   "cell_type": "code",
   "execution_count": null,
   "metadata": {
    "collapsed": true
   },
   "outputs": [],
   "source": []
  }
 ],
 "metadata": {
  "kernelspec": {
   "display_name": "Python 3",
   "language": "python",
   "name": "python3"
  },
  "language_info": {
   "codemirror_mode": {
    "name": "ipython",
    "version": 3
   },
   "file_extension": ".py",
   "mimetype": "text/x-python",
   "name": "python",
   "nbconvert_exporter": "python",
   "pygments_lexer": "ipython3",
   "version": "3.6.0"
  }
 },
 "nbformat": 4,
 "nbformat_minor": 2
}
