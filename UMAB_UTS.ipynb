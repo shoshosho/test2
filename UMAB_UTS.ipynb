{
 "cells": [
  {
   "cell_type": "code",
   "execution_count": 11,
   "metadata": {
    "collapsed": true
   },
   "outputs": [],
   "source": [
    "import numpy as np\n",
    "from numpy.random import *\n",
    "from scipy import stats \n",
    "import networkx as nx"
   ]
  },
  {
   "cell_type": "code",
   "execution_count": null,
   "metadata": {
    "collapsed": true
   },
   "outputs": [],
   "source": [
    "#m= dim, p=edge存在の確率\n",
    "time = 10\n",
    "m = 5\n",
    "p = log(m)/m\n",
    "\n",
    "#グラフ作成\n",
    "#V = 要素すべて\n",
    "#E = エッジすべて\n",
    "\n",
    "#thompson samplingのベータ分布で使う\n",
    "succeeded_num_list =np.zeros(m)\n",
    "played_num_list =np.zeros(m)\n",
    "#リーダーとして選ばれた回数\n",
    "selected_leader_num_list =np.zeros(m)\n",
    "\n",
    "#裏で持ってる真の報酬確率\n",
    "reward_prob = [0.9,0.7,0.5,0.3,0.1]\n",
    "\n",
    "def make_graph(m,p):\n",
    "    #make G\n",
    "#     graph = numpy.zeros((m,m))\n",
    "    lis = []\n",
    "    graph=nx.Graph()\n",
    "    graph.add_node(m)\n",
    "    graph.add_edge()\n",
    "    \n",
    "    #make E\n",
    "    #上半分について、確率pで接続を持たせる\n",
    "\n",
    "#ベータ分布からのサンプリング\n",
    "def collect_sample(n,i):\n",
    "    sample = binomial(n=n, p=beta(1+succeeded_num_list[i],1+played_num_list[i]-succeeded_list[i]))\n",
    "    return sample\n"
   ]
  },
  {
   "cell_type": "code",
   "execution_count": 7,
   "metadata": {
    "collapsed": false
   },
   "outputs": [
    {
     "data": {
      "text/plain": [
       "array([[ 0.,  0.,  0.,  0.,  0.],\n",
       "       [ 0.,  0.,  0.,  0.,  0.],\n",
       "       [ 0.,  0.,  0.,  0.,  0.],\n",
       "       [ 0.,  0.,  0.,  0.,  0.],\n",
       "       [ 0.,  0.,  0.,  0.,  0.]])"
      ]
     },
     "execution_count": 7,
     "metadata": {},
     "output_type": "execute_result"
    }
   ],
   "source": [
    "#未実装部分\n",
    "# connected_arms[i] = iと繋がってるarmのindexがリストで保持されている\n",
    "\n",
    "\n",
    "#UTS\n",
    "total_rewards = 0\n",
    "for time in T:\n",
    "    ex_rewards = []\n",
    "    for i in m:\n",
    "        collected_rewards=0\n",
    "        collect_sample(theta,i)\n",
    "        ex_rewards.append(sample)\n",
    "    #リーダーのindexを取得\n",
    "    leader_index = ex_rewards.index(max(ex_rewards))\n",
    "    \n",
    "    #リーダーとして選択された回数を保持\n",
    "    selected_leader_num_list[leader_index] +=1\n",
    "    #条件分岐\n",
    "    #modで割る対象はリーダー自身を含むので+1している\n",
    "    if selected_leader_num_list[leader_index] % (len(connected_arms[leader_index])+1) ==0:\n",
    "        reward = binomial(reward_prob[leader_index])\n",
    "        if reward ==1:\n",
    "            succeeded_num_list[leader_index] +=1\n",
    "        played_num_list[leader_index] +=1\n",
    "        \n",
    "    else:\n",
    "        theta_collected = []\n",
    "        #全てのアームについてtheta分だけサンプリングを実施\n",
    "        for c in connected_arms[leader_index]:\n",
    "            collect_sample(theta,c)\n",
    "            theta_collected.append(sample)\n",
    "        play_index = theta_collected.index(max(theta_collected))\n",
    "        play_target = connected_arms[leader_index][play_index]\n",
    "        reward = binomial(reward_prob[play_target])\n",
    "        \n",
    "        #以下バグあるかも\n",
    "        if reward ==1:\n",
    "            succeeded_num_list[play_target] +=1\n",
    "        played_num_list[play_target] +=1\n",
    "\n",
    "    total_reward += reward\n",
    "actual_regret = 0.9*T - total_reward"
   ]
  },
  {
   "cell_type": "code",
   "execution_count": 9,
   "metadata": {
    "collapsed": true
   },
   "outputs": [],
   "source": [
    "graph=nx.Graph()\n",
    "graph.add_node(m)"
   ]
  },
  {
   "cell_type": "code",
   "execution_count": 10,
   "metadata": {
    "collapsed": false
   },
   "outputs": [
    {
     "data": {
      "text/plain": [
       "<networkx.classes.graph.Graph at 0x116ecb9e8>"
      ]
     },
     "execution_count": 10,
     "metadata": {},
     "output_type": "execute_result"
    }
   ],
   "source": [
    "graph"
   ]
  },
  {
   "cell_type": "code",
   "execution_count": 35,
   "metadata": {
    "collapsed": false
   },
   "outputs": [
    {
     "data": {
      "text/plain": [
       "2"
      ]
     },
     "execution_count": 35,
     "metadata": {},
     "output_type": "execute_result"
    }
   ],
   "source": [
    "binomial(n=3, p=beta(11,1))"
   ]
  }
 ],
 "metadata": {
  "kernelspec": {
   "display_name": "Python 3",
   "language": "python",
   "name": "python3"
  },
  "language_info": {
   "codemirror_mode": {
    "name": "ipython",
    "version": 3
   },
   "file_extension": ".py",
   "mimetype": "text/x-python",
   "name": "python",
   "nbconvert_exporter": "python",
   "pygments_lexer": "ipython3",
   "version": "3.6.0"
  }
 },
 "nbformat": 4,
 "nbformat_minor": 2
}
